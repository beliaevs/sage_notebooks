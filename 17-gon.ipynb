{
 "cells": [
  {
   "cell_type": "code",
   "execution_count": 1,
   "id": "33fac9fb",
   "metadata": {},
   "outputs": [],
   "source": [
    "Z17=IntegerModRing(17) "
   ]
  },
  {
   "cell_type": "code",
   "execution_count": 2,
   "id": "a83b2ec3",
   "metadata": {},
   "outputs": [
    {
     "data": {
      "text/plain": [
       "{1, 2, 4, 8, 9, 13, 15, 16}"
      ]
     },
     "execution_count": 2,
     "metadata": {},
     "output_type": "execute_result"
    }
   ],
   "source": [
    "{Z17(2)^n for n in range(17)}"
   ]
  },
  {
   "cell_type": "code",
   "execution_count": 3,
   "id": "4877c17a",
   "metadata": {},
   "outputs": [],
   "source": [
    "S1 = {1, 2, 4, 8, 9, 13, 15, 16}"
   ]
  },
  {
   "cell_type": "code",
   "execution_count": 4,
   "id": "edae3cfe",
   "metadata": {},
   "outputs": [],
   "source": [
    "S2 = {3, 5, 6, 7, 10, 11, 12, 14}"
   ]
  },
  {
   "cell_type": "code",
   "execution_count": 5,
   "id": "45da88c6",
   "metadata": {},
   "outputs": [],
   "source": [
    "omega = exp(2*pi*I/17)"
   ]
  },
  {
   "cell_type": "code",
   "execution_count": 6,
   "id": "e3efcf23",
   "metadata": {},
   "outputs": [],
   "source": [
    "sum1 = sum([omega^n for n in S1])"
   ]
  },
  {
   "cell_type": "code",
   "execution_count": 7,
   "id": "54a7cf31",
   "metadata": {},
   "outputs": [
    {
     "data": {
      "text/plain": [
       "1.56155281280883 - 5.55111512312578e-16*I"
      ]
     },
     "execution_count": 7,
     "metadata": {},
     "output_type": "execute_result"
    }
   ],
   "source": [
    "sum1.n()"
   ]
  },
  {
   "cell_type": "code",
   "execution_count": 8,
   "id": "43e946be",
   "metadata": {},
   "outputs": [],
   "source": [
    "sum2 = sum([omega^n for n in S2])"
   ]
  },
  {
   "cell_type": "code",
   "execution_count": 9,
   "id": "d430b3a6",
   "metadata": {},
   "outputs": [
    {
     "data": {
      "text/plain": [
       "-2.56155281280883 + 2.22044604925031e-16*I"
      ]
     },
     "execution_count": 9,
     "metadata": {},
     "output_type": "execute_result"
    }
   ],
   "source": [
    "sum2.n()"
   ]
  },
  {
   "cell_type": "code",
   "execution_count": 10,
   "id": "a47cf368",
   "metadata": {},
   "outputs": [
    {
     "data": {
      "text/plain": [
       "-1.00000000000000 + 5.55111512312578e-16*I"
      ]
     },
     "execution_count": 10,
     "metadata": {},
     "output_type": "execute_result"
    }
   ],
   "source": [
    "(sum1+sum2).n()"
   ]
  },
  {
   "cell_type": "code",
   "execution_count": 11,
   "id": "1e88a53f",
   "metadata": {},
   "outputs": [
    {
     "data": {
      "text/plain": [
       "-4.00000000000000 + 1.76868183317656e-15*I"
      ]
     },
     "execution_count": 11,
     "metadata": {},
     "output_type": "execute_result"
    }
   ],
   "source": [
    "(sum1*sum2).n()"
   ]
  },
  {
   "cell_type": "code",
   "execution_count": 12,
   "id": "7f0a4b93",
   "metadata": {},
   "outputs": [
    {
     "data": {
      "image/png": "[encoded data removed]",
      "text/plain": [
       "Graphics object consisting of 3 graphics primitives"
      ]
     },
     "execution_count": 12,
     "metadata": {},
     "output_type": "execute_result"
    }
   ],
   "source": [
    "list_plot([omega^n for n in S1], aspect_ratio=1, color='red', size=40) + list_plot([omega^n for n in S2], aspect_ratio=1, color='blue', size=40) + circle((0, 0), 1)"
   ]
  },
  {
   "cell_type": "markdown",
   "id": "f3c85b4a",
   "metadata": {},
   "source": [
    "Both S1 and S2 satisfy the following quadratic equation "
   ]
  },
  {
   "cell_type": "code",
   "execution_count": 13,
   "id": "cf80f339",
   "metadata": {},
   "outputs": [
    {
     "data": {
      "text/plain": [
       "[x == -1/2*sqrt(17) - 1/2, x == 1/2*sqrt(17) - 1/2]"
      ]
     },
     "execution_count": 13,
     "metadata": {},
     "output_type": "execute_result"
    }
   ],
   "source": [
    "solve(x^2+x-4, x)"
   ]
  },
  {
   "cell_type": "code",
   "execution_count": 14,
   "id": "36f30888",
   "metadata": {},
   "outputs": [],
   "source": [
    "Q17.<T>=QQ[]"
   ]
  },
  {
   "cell_type": "code",
   "execution_count": 15,
   "id": "5d612bc4",
   "metadata": {},
   "outputs": [],
   "source": [
    "F17.<U>=Q17.quo(T^2+T-4)"
   ]
  },
  {
   "cell_type": "code",
   "execution_count": 16,
   "id": "6324526e",
   "metadata": {},
   "outputs": [],
   "source": [
    "F_17=F17.number_field()"
   ]
  },
  {
   "cell_type": "code",
   "execution_count": 17,
   "id": "e2c19ac1",
   "metadata": {},
   "outputs": [
    {
     "data": {
      "text/plain": [
       "Number Field in U with defining polynomial T^2 + T - 4"
      ]
     },
     "execution_count": 17,
     "metadata": {},
     "output_type": "execute_result"
    }
   ],
   "source": [
    "F_17"
   ]
  },
  {
   "cell_type": "code",
   "execution_count": 18,
   "id": "0f5b7231",
   "metadata": {},
   "outputs": [],
   "source": [
    "PF_17.<V>=F_17[]"
   ]
  },
  {
   "cell_type": "code",
   "execution_count": null,
   "id": "bf96def3",
   "metadata": {},
   "outputs": [],
   "source": [
    "Cyclotomic polynomial of degree 16 splits on two polynomials of degree 8 over the field Q(sqrt(17))"
   ]
  },
  {
   "cell_type": "code",
   "execution_count": 19,
   "id": "b4afbad0",
   "metadata": {},
   "outputs": [
    {
     "data": {
      "text/plain": [
       "(V - 1) * (V^8 - U*V^7 + (-U + 2)*V^6 + (-U + 3)*V^5 + (-2*U + 1)*V^4 + (-U + 3)*V^3 + (-U + 2)*V^2 - U*V + 1) * (V^8 + (U + 1)*V^7 + (U + 3)*V^6 + (U + 4)*V^5 + (2*U + 3)*V^4 + (U + 4)*V^3 + (U + 3)*V^2 + (U + 1)*V + 1)"
      ]
     },
     "execution_count": 19,
     "metadata": {},
     "output_type": "execute_result"
    }
   ],
   "source": [
    "factor(V^17-1)"
   ]
  },
  {
   "cell_type": "code",
   "execution_count": 20,
   "id": "6ed5f06d",
   "metadata": {},
   "outputs": [
    {
     "data": {
      "text/plain": [
       "{1, 2, 4, 8, 9, 13, 15, 16}"
      ]
     },
     "execution_count": 20,
     "metadata": {},
     "output_type": "execute_result"
    }
   ],
   "source": [
    "S1"
   ]
  },
  {
   "cell_type": "code",
   "execution_count": 21,
   "id": "bf146904",
   "metadata": {},
   "outputs": [],
   "source": [
    "S11={1, 4, 16, 13}"
   ]
  },
  {
   "cell_type": "code",
   "execution_count": 22,
   "id": "afaab939",
   "metadata": {},
   "outputs": [],
   "source": [
    "S12={2, 8, 9, 15}"
   ]
  },
  {
   "cell_type": "code",
   "execution_count": 24,
   "id": "21030431",
   "metadata": {},
   "outputs": [],
   "source": [
    "S21={6, 7, 10, 11}"
   ]
  },
  {
   "cell_type": "code",
   "execution_count": 25,
   "id": "f9ce5111",
   "metadata": {},
   "outputs": [],
   "source": [
    "S22={3, 5, 12, 14}"
   ]
  },
  {
   "cell_type": "code",
   "execution_count": 26,
   "id": "27af54f2",
   "metadata": {},
   "outputs": [
    {
     "data": {
      "text/plain": [
       "{3, 5, 6, 7, 10, 11, 12, 14}"
      ]
     },
     "execution_count": 26,
     "metadata": {},
     "output_type": "execute_result"
    }
   ],
   "source": [
    "S2"
   ]
  },
  {
   "cell_type": "code",
   "execution_count": 30,
   "id": "c08de44c",
   "metadata": {},
   "outputs": [
    {
     "data": {
      "image/png": "[encoded data removed]",
      "text/plain": [
       "Graphics object consisting of 5 graphics primitives"
      ]
     },
     "execution_count": 30,
     "metadata": {},
     "output_type": "execute_result"
    }
   ],
   "source": [
    "list_plot([omega^n for n in S11], aspect_ratio=1, color='red', size=40) +\\\n",
    "list_plot([omega^n for n in S12], aspect_ratio=1, color='blue', size=40) +\\\n",
    "list_plot([omega^n for n in S21], aspect_ratio=1, color='yellow', size=40) +\\\n",
    "list_plot([omega^n for n in S22], aspect_ratio=1, color='magenta', size=40) +\\\n",
    "circle((0, 0), 1)"
   ]
  },
  {
   "cell_type": "code",
   "execution_count": 31,
   "id": "9df7d854",
   "metadata": {},
   "outputs": [],
   "source": [
    "sum11=sum([omega^n for n in S11])"
   ]
  },
  {
   "cell_type": "code",
   "execution_count": 32,
   "id": "8cb80338",
   "metadata": {},
   "outputs": [],
   "source": [
    "sum12=sum([omega^n for n in S12])"
   ]
  },
  {
   "cell_type": "code",
   "execution_count": 33,
   "id": "c1685b00",
   "metadata": {},
   "outputs": [],
   "source": [
    "sum21=sum([omega^n for n in S21])"
   ]
  },
  {
   "cell_type": "code",
   "execution_count": 34,
   "id": "9540c56e",
   "metadata": {},
   "outputs": [],
   "source": [
    "sum22=sum([omega^n for n in S22])"
   ]
  },
  {
   "cell_type": "code",
   "execution_count": 36,
   "id": "10e2fd93",
   "metadata": {},
   "outputs": [
    {
     "data": {
      "text/plain": [
       "-0.999999999999998 + 7.59821015290620e-16*I"
      ]
     },
     "execution_count": 36,
     "metadata": {},
     "output_type": "execute_result"
    }
   ],
   "source": [
    "(sum22*sum21).n()"
   ]
  },
  {
   "cell_type": "code",
   "execution_count": 38,
   "id": "89a4357b",
   "metadata": {},
   "outputs": [
    {
     "data": {
      "text/plain": [
       "0"
      ]
     },
     "execution_count": 38,
     "metadata": {},
     "output_type": "execute_result"
    }
   ],
   "source": [
    "sum22+sum21-sum2"
   ]
  },
  {
   "cell_type": "code",
   "execution_count": 40,
   "id": "cf641c20",
   "metadata": {},
   "outputs": [
    {
     "data": {
      "text/plain": [
       "-2.56155281280883 + 2.22044604925031e-16*I"
      ]
     },
     "execution_count": 40,
     "metadata": {},
     "output_type": "execute_result"
    }
   ],
   "source": [
    "sum2.n()"
   ]
  },
  {
   "cell_type": "code",
   "execution_count": 41,
   "id": "34e81407",
   "metadata": {},
   "outputs": [
    {
     "data": {
      "text/plain": [
       "-2.56155281280883"
      ]
     },
     "execution_count": 41,
     "metadata": {},
     "output_type": "execute_result"
    }
   ],
   "source": [
    "(-1/2*sqrt(17) - 1/2).n()"
   ]
  },
  {
   "cell_type": "code",
   "execution_count": 44,
   "id": "1d756b12",
   "metadata": {},
   "outputs": [
    {
     "data": {
      "text/plain": [
       "[t == 1/4*sqrt(17) - 1/4*sqrt(2*sqrt(17) + 34) + 1/4, t == 1/4*sqrt(17) + 1/4*sqrt(2*sqrt(17) + 34) + 1/4]"
      ]
     },
     "execution_count": 44,
     "metadata": {},
     "output_type": "execute_result"
    }
   ],
   "source": [
    "solve(t^2-(1/2*sqrt(17) + 1/2)*t -1, t)"
   ]
  },
  {
   "cell_type": "code",
   "execution_count": 43,
   "id": "13f3e1c3",
   "metadata": {},
   "outputs": [],
   "source": [
    "t = var('t')"
   ]
  },
  {
   "cell_type": "code",
   "execution_count": 45,
   "id": "c445df15",
   "metadata": {},
   "outputs": [],
   "source": [
    "a, b, c, d = var('a b c d')"
   ]
  },
  {
   "cell_type": "code",
   "execution_count": 46,
   "id": "0c353a97",
   "metadata": {},
   "outputs": [],
   "source": [
    "a = -1/2*(1+sqrt(17))"
   ]
  },
  {
   "cell_type": "code",
   "execution_count": 47,
   "id": "a9e60bb4",
   "metadata": {},
   "outputs": [],
   "source": [
    "b = -1/2*(1-sqrt(17))"
   ]
  },
  {
   "cell_type": "code",
   "execution_count": 48,
   "id": "9cadbccb",
   "metadata": {},
   "outputs": [],
   "source": [
    "c = 1/2*(a+sqrt(a^2+4))"
   ]
  },
  {
   "cell_type": "code",
   "execution_count": 49,
   "id": "b60d4375",
   "metadata": {},
   "outputs": [],
   "source": [
    "d = 1/2*(b+sqrt(b^2+4))"
   ]
  },
  {
   "cell_type": "code",
   "execution_count": 50,
   "id": "69edfa7a",
   "metadata": {},
   "outputs": [],
   "source": [
    "e, f = var('e f')"
   ]
  },
  {
   "cell_type": "code",
   "execution_count": 51,
   "id": "f2704a43",
   "metadata": {},
   "outputs": [],
   "source": [
    "e = 1/2*(d+sqrt(d^2-4*c))"
   ]
  },
  {
   "cell_type": "code",
   "execution_count": 52,
   "id": "dbca4d7e",
   "metadata": {},
   "outputs": [],
   "source": [
    "f = 1/2*(e+sqrt(e^2-4))"
   ]
  },
  {
   "cell_type": "code",
   "execution_count": 53,
   "id": "5831d638",
   "metadata": {},
   "outputs": [
    {
     "data": {
      "text/plain": [
       "1/16*sqrt(17) + 1/16*sqrt((sqrt(17) + sqrt((sqrt(17) + sqrt((sqrt(17) - 1)^2 + 16) - 1)^2 + 16*sqrt(17) - 16*sqrt((sqrt(17) + 1)^2 + 16) + 16) + sqrt((sqrt(17) - 1)^2 + 16) - 1)^2 - 256) + 1/16*sqrt((sqrt(17) + sqrt((sqrt(17) - 1)^2 + 16) - 1)^2 + 16*sqrt(17) - 16*sqrt((sqrt(17) + 1)^2 + 16) + 16) + 1/16*sqrt((sqrt(17) - 1)^2 + 16) - 1/16"
      ]
     },
     "execution_count": 53,
     "metadata": {},
     "output_type": "execute_result"
    }
   ],
   "source": [
    "f"
   ]
  },
  {
   "cell_type": "code",
   "execution_count": 54,
   "id": "2e1bb3ec",
   "metadata": {},
   "outputs": [
    {
     "data": {
      "text/plain": [
       "0.932472229404356 + 0.361241666187153*I"
      ]
     },
     "execution_count": 54,
     "metadata": {},
     "output_type": "execute_result"
    }
   ],
   "source": [
    "f.n()"
   ]
  },
  {
   "cell_type": "code",
   "execution_count": 55,
   "id": "c95818e3",
   "metadata": {},
   "outputs": [
    {
     "data": {
      "text/plain": [
       "0.932472229404356"
      ]
     },
     "execution_count": 55,
     "metadata": {},
     "output_type": "execute_result"
    }
   ],
   "source": [
    "cos(2*pi/17).n()"
   ]
  },
  {
   "cell_type": "code",
   "execution_count": 56,
   "id": "abb17507",
   "metadata": {},
   "outputs": [
    {
     "data": {
      "text/plain": [
       "0.361241666187153"
      ]
     },
     "execution_count": 56,
     "metadata": {},
     "output_type": "execute_result"
    }
   ],
   "source": [
    "sin(2*pi/17).n()"
   ]
  },
  {
   "cell_type": "code",
   "execution_count": 58,
   "id": "930669ee",
   "metadata": {},
   "outputs": [
    {
     "data": {
      "text/html": [
       "<html><script type=\"math/tex; mode=display\">\\newcommand{\\Bold}[1]{\\mathbf{#1}}\\frac{1}{16} \\, \\sqrt{17} + \\frac{1}{16} \\, \\sqrt{2 \\, \\sqrt{2 \\, {\\left(\\sqrt{17} - 1\\right)} \\sqrt{-2 \\, \\sqrt{17} + 34} + 12 \\, \\sqrt{17} - 16 \\, \\sqrt{2 \\, \\sqrt{17} + 34} + 68} {\\left(\\sqrt{17} + \\sqrt{-2 \\, \\sqrt{17} + 34} - 1\\right)} + 4 \\, {\\left(\\sqrt{17} - 1\\right)} \\sqrt{-2 \\, \\sqrt{17} + 34} + 8 \\, \\sqrt{17} - 16 \\, \\sqrt{2 \\, \\sqrt{17} + 34} - 136} + \\frac{1}{16} \\, \\sqrt{2 \\, {\\left(\\sqrt{17} - 1\\right)} \\sqrt{-2 \\, \\sqrt{17} + 34} + 12 \\, \\sqrt{17} - 16 \\, \\sqrt{2 \\, \\sqrt{17} + 34} + 68} + \\frac{1}{16} \\, \\sqrt{-2 \\, \\sqrt{17} + 34} - \\frac{1}{16}</script></html>"
      ],
      "text/latex": [
       "$$\\newcommand{\\Bold}[1]{\\mathbf{#1}}\\frac{1}{16} \\, \\sqrt{17} + \\frac{1}{16} \\, \\sqrt{2 \\, \\sqrt{2 \\, {\\left(\\sqrt{17} - 1\\right)} \\sqrt{-2 \\, \\sqrt{17} + 34} + 12 \\, \\sqrt{17} - 16 \\, \\sqrt{2 \\, \\sqrt{17} + 34} + 68} {\\left(\\sqrt{17} + \\sqrt{-2 \\, \\sqrt{17} + 34} - 1\\right)} + 4 \\, {\\left(\\sqrt{17} - 1\\right)} \\sqrt{-2 \\, \\sqrt{17} + 34} + 8 \\, \\sqrt{17} - 16 \\, \\sqrt{2 \\, \\sqrt{17} + 34} - 136} + \\frac{1}{16} \\, \\sqrt{2 \\, {\\left(\\sqrt{17} - 1\\right)} \\sqrt{-2 \\, \\sqrt{17} + 34} + 12 \\, \\sqrt{17} - 16 \\, \\sqrt{2 \\, \\sqrt{17} + 34} + 68} + \\frac{1}{16} \\, \\sqrt{-2 \\, \\sqrt{17} + 34} - \\frac{1}{16}$$"
      ],
      "text/plain": [
       "1/16*sqrt(17) + 1/16*sqrt(2*sqrt(2*(sqrt(17) - 1)*sqrt(-2*sqrt(17) + 34) + 12*sqrt(17) - 16*sqrt(2*sqrt(17) + 34) + 68)*(sqrt(17) + sqrt(-2*sqrt(17) + 34) - 1) + 4*(sqrt(17) - 1)*sqrt(-2*sqrt(17) + 34) + 8*sqrt(17) - 16*sqrt(2*sqrt(17) + 34) - 136) + 1/16*sqrt(2*(sqrt(17) - 1)*sqrt(-2*sqrt(17) + 34) + 12*sqrt(17) - 16*sqrt(2*sqrt(17) + 34) + 68) + 1/16*sqrt(-2*sqrt(17) + 34) - 1/16"
      ]
     },
     "metadata": {},
     "output_type": "display_data"
    }
   ],
   "source": [
    "f.simplify_full().show()"
   ]
  },
  {
   "cell_type": "code",
   "execution_count": 60,
   "id": "d241e039",
   "metadata": {},
   "outputs": [
    {
     "data": {
      "text/plain": [
       "[1, 3, 9, 10, 13, 5, 15, 11, 16, 14, 8, 7, 4, 12, 2, 6, 1]"
      ]
     },
     "execution_count": 60,
     "metadata": {},
     "output_type": "execute_result"
    }
   ],
   "source": [
    "[Z17(3)^n for n in range(17)]"
   ]
  },
  {
   "cell_type": "code",
   "execution_count": 61,
   "id": "0063bb28",
   "metadata": {},
   "outputs": [
    {
     "data": {
      "text/plain": [
       "[1, 9, 13, 15, 16, 8, 4, 2]"
      ]
     },
     "execution_count": 61,
     "metadata": {},
     "output_type": "execute_result"
    }
   ],
   "source": [
    "[Z17(3)^(2*n) for n in range(8)]"
   ]
  },
  {
   "cell_type": "code",
   "execution_count": 62,
   "id": "6bb3bb6d",
   "metadata": {},
   "outputs": [
    {
     "data": {
      "text/plain": [
       "[3, 10, 5, 11, 14, 7, 12, 6]"
      ]
     },
     "execution_count": 62,
     "metadata": {},
     "output_type": "execute_result"
    }
   ],
   "source": [
    "[Z17(3)^(2*n+1) for n in range(8)]"
   ]
  },
  {
   "cell_type": "code",
   "execution_count": null,
   "id": "cbe105bc",
   "metadata": {},
   "outputs": [],
   "source": []
  }
 ],
 "metadata": {
  "kernelspec": {
   "display_name": "SageMath 9.5",
   "language": "sage",
   "name": "sagemath"
  },
  "language_info": {
   "codemirror_mode": {
    "name": "ipython",
    "version": 3
   },
   "file_extension": ".py",
   "mimetype": "text/x-python",
   "name": "python",
   "nbconvert_exporter": "python",
   "pygments_lexer": "ipython3",
   "version": "3.10.6"
  }
 },
 "nbformat": 4,
 "nbformat_minor": 5
}
