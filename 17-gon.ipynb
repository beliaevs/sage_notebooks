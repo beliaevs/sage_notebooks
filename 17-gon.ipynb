{
 "cells": [
  {
   "cell_type": "code",
   "execution_count": 1,
   "id": "bb685384",
   "metadata": {},
   "outputs": [],
   "source": [
    "QP.<X>=QQ[]"
   ]
  },
  {
   "cell_type": "code",
   "execution_count": 2,
   "id": "3f067038",
   "metadata": {},
   "outputs": [
    {
     "data": {
      "text/plain": [
       "(X - 1) * (X^16 + X^15 + X^14 + X^13 + X^12 + X^11 + X^10 + X^9 + X^8 + X^7 + X^6 + X^5 + X^4 + X^3 + X^2 + X + 1)"
      ]
     },
     "execution_count": 2,
     "metadata": {},
     "output_type": "execute_result"
    }
   ],
   "source": [
    "factor(X^17-1)"
   ]
  },
  {
   "cell_type": "code",
   "execution_count": 3,
   "id": "016527e7",
   "metadata": {},
   "outputs": [],
   "source": [
    "F17.<g>=(X^17-1).splitting_field()"
   ]
  },
  {
   "cell_type": "code",
   "execution_count": 4,
   "id": "db21a3bb",
   "metadata": {},
   "outputs": [
    {
     "data": {
      "text/plain": [
       "Number Field in g with defining polynomial X^16 - X^15 + X^14 - X^13 + X^12 - X^11 + X^10 - X^9 + X^8 - X^7 + X^6 - X^5 + X^4 - X^3 + X^2 - X + 1"
      ]
     },
     "execution_count": 4,
     "metadata": {},
     "output_type": "execute_result"
    }
   ],
   "source": [
    "F17"
   ]
  },
  {
   "cell_type": "code",
   "execution_count": 5,
   "id": "09bcf9ce",
   "metadata": {},
   "outputs": [
    {
     "data": {
      "text/plain": [
       "g"
      ]
     },
     "execution_count": 5,
     "metadata": {},
     "output_type": "execute_result"
    }
   ],
   "source": [
    "g"
   ]
  },
  {
   "cell_type": "code",
   "execution_count": 6,
   "id": "2094d79b",
   "metadata": {},
   "outputs": [
    {
     "data": {
      "text/plain": [
       "g^15 - g^14 + g^13 - g^12 + g^11 - g^10 + g^9 - g^8 + g^7 - g^6 + g^5 - g^4 + g^3 - g^2 + g - 1"
      ]
     },
     "execution_count": 6,
     "metadata": {},
     "output_type": "execute_result"
    }
   ],
   "source": [
    "g^16"
   ]
  },
  {
   "cell_type": "code",
   "execution_count": 9,
   "id": "81c23f10",
   "metadata": {},
   "outputs": [
    {
     "data": {
      "text/plain": [
       "True"
      ]
     },
     "execution_count": 9,
     "metadata": {},
     "output_type": "execute_result"
    }
   ],
   "source": [
    "sin(pi/17).is_algebraic()"
   ]
  },
  {
   "cell_type": "code",
   "execution_count": 11,
   "id": "d958c8a4",
   "metadata": {},
   "outputs": [
    {
     "data": {
      "text/plain": [
       "16"
      ]
     },
     "execution_count": 11,
     "metadata": {},
     "output_type": "execute_result"
    }
   ],
   "source": [
    "F17.galois_group().order()"
   ]
  },
  {
   "cell_type": "code",
   "execution_count": 12,
   "id": "dbefda02",
   "metadata": {},
   "outputs": [
    {
     "data": {
      "text/plain": [
       "16"
      ]
     },
     "execution_count": 12,
     "metadata": {},
     "output_type": "execute_result"
    }
   ],
   "source": [
    "F17.absolute_degree()"
   ]
  },
  {
   "cell_type": "code",
   "execution_count": 13,
   "id": "b1a7422b",
   "metadata": {},
   "outputs": [],
   "source": [
    "F17P.<Y>=F17[]"
   ]
  },
  {
   "cell_type": "code",
   "execution_count": 14,
   "id": "8340b2a9",
   "metadata": {},
   "outputs": [
    {
     "data": {
      "text/plain": [
       "(Y - 2*g^14 - 2*g^12 + 2*g^11 - 2*g^10 + 2*g^7 - 2*g^6 + 2*g^5 + 2*g^3 - 1) * (Y + 2*g^14 + 2*g^12 - 2*g^11 + 2*g^10 - 2*g^7 + 2*g^6 - 2*g^5 - 2*g^3 + 1)"
      ]
     },
     "execution_count": 14,
     "metadata": {},
     "output_type": "execute_result"
    }
   ],
   "source": [
    "factor(Y^2-17)"
   ]
  },
  {
   "cell_type": "code",
   "execution_count": 15,
   "id": "cf16bb68",
   "metadata": {},
   "outputs": [
    {
     "data": {
      "text/plain": [
       "(Y - 1) * (Y + g) * (Y - g^2) * (Y + g^3) * (Y - g^4) * (Y + g^5) * (Y - g^6) * (Y + g^7) * (Y - g^8) * (Y + g^9) * (Y - g^10) * (Y + g^11) * (Y - g^12) * (Y + g^13) * (Y - g^14) * (Y - g^15 + g^14 - g^13 + g^12 - g^11 + g^10 - g^9 + g^8 - g^7 + g^6 - g^5 + g^4 - g^3 + g^2 - g + 1) * (Y + g^15)"
      ]
     },
     "execution_count": 15,
     "metadata": {},
     "output_type": "execute_result"
    }
   ],
   "source": [
    "factor(Y^17-1)"
   ]
  },
  {
   "cell_type": "code",
   "execution_count": 16,
   "id": "f4d1ed90",
   "metadata": {},
   "outputs": [
    {
     "data": {
      "text/plain": [
       "-g^15 + g^14 - g^13 + g^12 - g^11 + g^10 - g^9 + g^8 - g^7 + g^6 - g^5 + g^4 - g^3 + g^2 - g + 1"
      ]
     },
     "execution_count": 16,
     "metadata": {},
     "output_type": "execute_result"
    }
   ],
   "source": [
    "g.conjugate()"
   ]
  },
  {
   "cell_type": "code",
   "execution_count": 17,
   "id": "34245232",
   "metadata": {},
   "outputs": [
    {
     "data": {
      "text/plain": [
       "(X - 1) * (X^16 + X^15 + X^14 + X^13 + X^12 + X^11 + X^10 + X^9 + X^8 + X^7 + X^6 + X^5 + X^4 + X^3 + X^2 + X + 1)"
      ]
     },
     "execution_count": 17,
     "metadata": {},
     "output_type": "execute_result"
    }
   ],
   "source": [
    "factor(X^17-1)"
   ]
  },
  {
   "cell_type": "code",
   "execution_count": 22,
   "id": "9f4fe236",
   "metadata": {},
   "outputs": [],
   "source": [
    "AuxField.<a,b>=QQ.extension([X^2-17, X^2+1])"
   ]
  },
  {
   "cell_type": "code",
   "execution_count": 23,
   "id": "16cbeda1",
   "metadata": {},
   "outputs": [
    {
     "data": {
      "text/plain": [
       "a"
      ]
     },
     "execution_count": 23,
     "metadata": {},
     "output_type": "execute_result"
    }
   ],
   "source": [
    "a"
   ]
  },
  {
   "cell_type": "code",
   "execution_count": 24,
   "id": "0e12aa1b",
   "metadata": {},
   "outputs": [
    {
     "data": {
      "text/plain": [
       "17"
      ]
     },
     "execution_count": 24,
     "metadata": {},
     "output_type": "execute_result"
    }
   ],
   "source": [
    "a^2"
   ]
  },
  {
   "cell_type": "code",
   "execution_count": 25,
   "id": "21759843",
   "metadata": {},
   "outputs": [
    {
     "data": {
      "text/plain": [
       "-1"
      ]
     },
     "execution_count": 25,
     "metadata": {},
     "output_type": "execute_result"
    }
   ],
   "source": [
    "b^2"
   ]
  },
  {
   "cell_type": "code",
   "execution_count": 26,
   "id": "968b994d",
   "metadata": {},
   "outputs": [],
   "source": [
    "AuxPoly.<Z>=AuxField[]"
   ]
  },
  {
   "cell_type": "code",
   "execution_count": 27,
   "id": "81b35965",
   "metadata": {},
   "outputs": [
    {
     "data": {
      "text/plain": [
       "(Z - 1) * (Z^8 + (1/2*a + 1/2)*Z^7 + (1/2*a + 5/2)*Z^6 + (1/2*a + 7/2)*Z^5 + (a + 2)*Z^4 + (1/2*a + 7/2)*Z^3 + (1/2*a + 5/2)*Z^2 + (1/2*a + 1/2)*Z + 1) * (Z^8 + (-1/2*a + 1/2)*Z^7 + (-1/2*a + 5/2)*Z^6 + (-1/2*a + 7/2)*Z^5 + (-a + 2)*Z^4 + (-1/2*a + 7/2)*Z^3 + (-1/2*a + 5/2)*Z^2 + (-1/2*a + 1/2)*Z + 1)"
      ]
     },
     "execution_count": 27,
     "metadata": {},
     "output_type": "execute_result"
    }
   ],
   "source": [
    "factor(Z^17-1)"
   ]
  },
  {
   "cell_type": "code",
   "execution_count": 28,
   "id": "d2f878a9",
   "metadata": {},
   "outputs": [
    {
     "data": {
      "text/plain": [
       "Number Field in a with defining polynomial X^2 - 17 over its base field"
      ]
     },
     "execution_count": 28,
     "metadata": {},
     "output_type": "execute_result"
    }
   ],
   "source": [
    "b.parent()"
   ]
  },
  {
   "cell_type": "code",
   "execution_count": 29,
   "id": "a341cdfa",
   "metadata": {},
   "outputs": [
    {
     "data": {
      "text/plain": [
       "Number Field in a with defining polynomial X^2 - 17 over its base field"
      ]
     },
     "execution_count": 29,
     "metadata": {},
     "output_type": "execute_result"
    }
   ],
   "source": [
    "a.parent()"
   ]
  },
  {
   "cell_type": "code",
   "execution_count": 30,
   "id": "4926531e",
   "metadata": {},
   "outputs": [
    {
     "data": {
      "text/plain": [
       "1088"
      ]
     },
     "execution_count": 30,
     "metadata": {},
     "output_type": "execute_result"
    }
   ],
   "source": [
    "(34+2*a)*(34-2*a)"
   ]
  },
  {
   "cell_type": "code",
   "execution_count": 31,
   "id": "611313ab",
   "metadata": {},
   "outputs": [
    {
     "data": {
      "text/plain": [
       "2^6 * 17"
      ]
     },
     "execution_count": 31,
     "metadata": {},
     "output_type": "execute_result"
    }
   ],
   "source": [
    "factor(1088)"
   ]
  },
  {
   "cell_type": "code",
   "execution_count": null,
   "id": "7ec45ab1",
   "metadata": {},
   "outputs": [],
   "source": []
  }
 ],
 "metadata": {
  "kernelspec": {
   "display_name": "SageMath 9.5",
   "language": "sage",
   "name": "sagemath"
  },
  "language_info": {
   "codemirror_mode": {
    "name": "ipython",
    "version": 3
   },
   "file_extension": ".py",
   "mimetype": "text/x-python",
   "name": "python",
   "nbconvert_exporter": "python",
   "pygments_lexer": "ipython3",
   "version": "3.10.6"
  }
 },
 "nbformat": 4,
 "nbformat_minor": 5
}
