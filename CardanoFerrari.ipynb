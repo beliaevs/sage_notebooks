{
 "cells": [
  {
   "cell_type": "code",
   "execution_count": null,
   "id": "23e84651",
   "metadata": {},
   "outputs": [],
   "source": [
    "p,q = var('p q')"
   ]
  },
  {
   "cell_type": "code",
   "execution_count": null,
   "id": "f05080cc",
   "metadata": {},
   "outputs": [],
   "source": [
    "solve(x^3+p*x+q==0, [x])"
   ]
  },
  {
   "cell_type": "code",
   "execution_count": null,
   "id": "47ee6dd3",
   "metadata": {},
   "outputs": [],
   "source": [
    "r = var('r')"
   ]
  },
  {
   "cell_type": "code",
   "execution_count": null,
   "id": "14392f95",
   "metadata": {},
   "outputs": [],
   "source": [
    "solve(x^4+p*x^2+q*x+r==0, x)"
   ]
  },
  {
   "cell_type": "code",
   "execution_count": null,
   "id": "ca85244d",
   "metadata": {},
   "outputs": [],
   "source": [
    "implicit_plot(4/3*p^3 + 9*q^2==0, [p, -3, 3], [q, -3, 3], aspect_ratio=1, axes_labels=['$p$', '$q$'], plot_points=1000, linewidth=0.5, frame=False, axes=True)"
   ]
  },
  {
   "cell_type": "code",
   "execution_count": null,
   "id": "0d1e5cfb",
   "metadata": {},
   "outputs": [],
   "source": []
  }
 ],
 "metadata": {
  "kernelspec": {
   "display_name": "SageMath 9.5",
   "language": "sage",
   "name": "sagemath"
  },
  "language_info": {
   "codemirror_mode": {
    "name": "ipython",
    "version": 3
   },
   "file_extension": ".py",
   "mimetype": "text/x-python",
   "name": "python",
   "nbconvert_exporter": "python",
   "pygments_lexer": "ipython3",
   "version": "3.10.4"
  }
 },
 "nbformat": 4,
 "nbformat_minor": 5
}
