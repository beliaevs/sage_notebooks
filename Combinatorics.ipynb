{
 "cells": [
  {
   "cell_type": "code",
   "execution_count": null,
   "id": "d5f34333",
   "metadata": {},
   "outputs": [],
   "source": [
    "PZ.<t>=ZZ[]"
   ]
  },
  {
   "cell_type": "code",
   "execution_count": null,
   "id": "3a9c0e6c",
   "metadata": {},
   "outputs": [],
   "source": [
    "t.parent()"
   ]
  },
  {
   "cell_type": "code",
   "execution_count": null,
   "id": "600d75b5",
   "metadata": {},
   "outputs": [],
   "source": [
    "stirling10 = product(t-k, k, 0, 10)"
   ]
  },
  {
   "cell_type": "code",
   "execution_count": null,
   "id": "1e3689c7",
   "metadata": {},
   "outputs": [],
   "source": [
    "k = var('k')"
   ]
  },
  {
   "cell_type": "code",
   "execution_count": null,
   "id": "ba5243dc",
   "metadata": {},
   "outputs": [],
   "source": [
    "stirling10"
   ]
  },
  {
   "cell_type": "code",
   "execution_count": null,
   "id": "d4a490df",
   "metadata": {},
   "outputs": [],
   "source": [
    "stirling3 = product(t-k, k, 0, 3)"
   ]
  },
  {
   "cell_type": "code",
   "execution_count": null,
   "id": "0c201cdd",
   "metadata": {},
   "outputs": [],
   "source": [
    "stirling3"
   ]
  },
  {
   "cell_type": "code",
   "execution_count": null,
   "id": "86a1119c",
   "metadata": {},
   "outputs": [],
   "source": [
    "[stirling_number1(4, k) for k in range(1, 5)] "
   ]
  },
  {
   "cell_type": "code",
   "execution_count": null,
   "id": "0af4fd57",
   "metadata": {},
   "outputs": [],
   "source": [
    "[stirling_number1(11, k) for k in range(1, 12)] "
   ]
  },
  {
   "cell_type": "code",
   "execution_count": null,
   "id": "c125aed4",
   "metadata": {},
   "outputs": [],
   "source": []
  }
 ],
 "metadata": {
  "kernelspec": {
   "display_name": "SageMath 9.5",
   "language": "sage",
   "name": "sagemath"
  },
  "language_info": {
   "codemirror_mode": {
    "name": "ipython",
    "version": 3
   },
   "file_extension": ".py",
   "mimetype": "text/x-python",
   "name": "python",
   "nbconvert_exporter": "python",
   "pygments_lexer": "ipython3",
   "version": "3.10.4"
  }
 },
 "nbformat": 4,
 "nbformat_minor": 5
}
