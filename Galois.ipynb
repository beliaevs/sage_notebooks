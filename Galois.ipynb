{
 "cells": [
  {
   "cell_type": "code",
   "execution_count": 7,
   "id": "eb30c4c2",
   "metadata": {},
   "outputs": [
    {
     "data": {
      "text/plain": [
       "0.9999999999992500725971981856888793538563373369908627075374103782106479101186073129472204772184974928"
      ]
     },
     "execution_count": 7,
     "metadata": {},
     "output_type": "execute_result"
    }
   ],
   "source": [
    "N(exp(pi*sqrt(163))-262537412640768743, digits=100)"
   ]
  },
  {
   "cell_type": "code",
   "execution_count": 8,
   "id": "a1ba0a38",
   "metadata": {},
   "outputs": [],
   "source": [
    "a = 1+2^(1/3) + 4^(1/3)"
   ]
  },
  {
   "cell_type": "code",
   "execution_count": 9,
   "id": "6f7640cb",
   "metadata": {},
   "outputs": [],
   "source": [
    "p(x) = x^3-3*x^2-3*x-1"
   ]
  },
  {
   "cell_type": "code",
   "execution_count": 12,
   "id": "13ff232a",
   "metadata": {},
   "outputs": [
    {
     "data": {
      "text/plain": [
       "0.0000000000000000000000000000000000000000000000000000000000000000000000000000000000000000000000000000"
      ]
     },
     "execution_count": 12,
     "metadata": {},
     "output_type": "execute_result"
    }
   ],
   "source": [
    "N(p(a), digits=100)"
   ]
  },
  {
   "cell_type": "code",
   "execution_count": 1,
   "id": "837e1c3e",
   "metadata": {},
   "outputs": [],
   "source": [
    "p, q = var('p q')"
   ]
  },
  {
   "cell_type": "code",
   "execution_count": 7,
   "id": "93a21b99",
   "metadata": {},
   "outputs": [
    {
     "data": {
      "text/plain": [
       "[x == 1/6*p*(-I*sqrt(3) + 1)/(-1/2*q + 1/6*sqrt(4/3*p^3 + 9*q^2))^(1/3) - 1/2*(-1/2*q + 1/6*sqrt(4/3*p^3 + 9*q^2))^(1/3)*(I*sqrt(3) + 1), x == 1/6*p*(I*sqrt(3) + 1)/(-1/2*q + 1/6*sqrt(4/3*p^3 + 9*q^2))^(1/3) - 1/2*(-1/2*q + 1/6*sqrt(4/3*p^3 + 9*q^2))^(1/3)*(-I*sqrt(3) + 1), x == -1/3*p/(-1/2*q + 1/6*sqrt(4/3*p^3 + 9*q^2))^(1/3) + (-1/2*q + 1/6*sqrt(4/3*p^3 + 9*q^2))^(1/3)]"
      ]
     },
     "execution_count": 7,
     "metadata": {},
     "output_type": "execute_result"
    }
   ],
   "source": [
    "solve(x^3+p*x+q==0, x)"
   ]
  },
  {
   "cell_type": "code",
   "execution_count": 8,
   "id": "d4c248cd",
   "metadata": {},
   "outputs": [],
   "source": [
    "%display latex"
   ]
  },
  {
   "cell_type": "code",
   "execution_count": 9,
   "id": "3bdb0705",
   "metadata": {},
   "outputs": [
    {
     "data": {
      "text/html": [
       "<html><script type=\"math/tex; mode=display\">\\newcommand{\\Bold}[1]{\\mathbf{#1}}-\\frac{p}{3 \\, {\\left(-\\frac{1}{2} \\, q + \\frac{1}{6} \\, \\sqrt{\\frac{4}{3} \\, p^{3} + 9 \\, q^{2}}\\right)}^{\\frac{1}{3}}} + {\\left(-\\frac{1}{2} \\, q + \\frac{1}{6} \\, \\sqrt{\\frac{4}{3} \\, p^{3} + 9 \\, q^{2}}\\right)}^{\\frac{1}{3}}</script></html>"
      ],
      "text/latex": [
       "$$\\newcommand{\\Bold}[1]{\\mathbf{#1}}-\\frac{p}{3 \\, {\\left(-\\frac{1}{2} \\, q + \\frac{1}{6} \\, \\sqrt{\\frac{4}{3} \\, p^{3} + 9 \\, q^{2}}\\right)}^{\\frac{1}{3}}} + {\\left(-\\frac{1}{2} \\, q + \\frac{1}{6} \\, \\sqrt{\\frac{4}{3} \\, p^{3} + 9 \\, q^{2}}\\right)}^{\\frac{1}{3}}$$"
      ],
      "text/plain": [
       "-1/3*p/(-1/2*q + 1/6*sqrt(4/3*p^3 + 9*q^2))^(1/3) + (-1/2*q + 1/6*sqrt(4/3*p^3 + 9*q^2))^(1/3)"
      ]
     },
     "execution_count": 9,
     "metadata": {},
     "output_type": "execute_result"
    }
   ],
   "source": [
    "-1/3*p/(-1/2*q + 1/6*sqrt(4/3*p^3 + 9*q^2))^(1/3) + (-1/2*q + 1/6*sqrt(4/3*p^3 + 9*q^2))^(1/3)"
   ]
  },
  {
   "cell_type": "code",
   "execution_count": 10,
   "id": "9cfdeda5",
   "metadata": {},
   "outputs": [
    {
     "data": {
      "text/html": [
       "<html><script type=\"math/tex; mode=display\">\\newcommand{\\Bold}[1]{\\mathbf{#1}}\\left[x = -\\frac{1}{2} \\, p - \\frac{1}{2} \\, \\sqrt{p^{2} - 4 \\, q}, x = -\\frac{1}{2} \\, p + \\frac{1}{2} \\, \\sqrt{p^{2} - 4 \\, q}\\right]</script></html>"
      ],
      "text/latex": [
       "$$\\newcommand{\\Bold}[1]{\\mathbf{#1}}\\left[x = -\\frac{1}{2} \\, p - \\frac{1}{2} \\, \\sqrt{p^{2} - 4 \\, q}, x = -\\frac{1}{2} \\, p + \\frac{1}{2} \\, \\sqrt{p^{2} - 4 \\, q}\\right]$$"
      ],
      "text/plain": [
       "[x == -1/2*p - 1/2*sqrt(p^2 - 4*q), x == -1/2*p + 1/2*sqrt(p^2 - 4*q)]"
      ]
     },
     "execution_count": 10,
     "metadata": {},
     "output_type": "execute_result"
    }
   ],
   "source": [
    "solve(x^2+p*x+q==0, x)"
   ]
  },
  {
   "cell_type": "code",
   "execution_count": null,
   "id": "77925ce1",
   "metadata": {},
   "outputs": [],
   "source": []
  }
 ],
 "metadata": {
  "kernelspec": {
   "display_name": "SageMath 9.5",
   "language": "sage",
   "name": "sagemath"
  },
  "language_info": {
   "codemirror_mode": {
    "name": "ipython",
    "version": 3
   },
   "file_extension": ".py",
   "mimetype": "text/x-python",
   "name": "python",
   "nbconvert_exporter": "python",
   "pygments_lexer": "ipython3",
   "version": "3.10.4"
  }
 },
 "nbformat": 4,
 "nbformat_minor": 5
}
