{
 "cells": [
  {
   "cell_type": "code",
   "execution_count": 1,
   "metadata": {},
   "outputs": [
    {
     "data": {
      "application/vnd.jupyter.widget-view+json": {
       "model_id": "f70d5c35c138462298e779d94342ff98",
       "version_major": 2,
       "version_minor": 0
      },
      "text/plain": [
       "Interactive function <function _ at 0x7f5aae7f77f0> with 1 widget\n",
       "  n: TransformIntSlider(value=2, min=2, max=50, step=1, description='n')"
      ]
     },
     "metadata": {},
     "output_type": "display_data"
    }
   ],
   "source": [
    "@interact\n",
    "def _(n = slider(2, 50)):\n",
    "    posets.DivisorLattice(n).show()"
   ]
  },
  {
   "cell_type": "code",
   "execution_count": 2,
   "metadata": {},
   "outputs": [
    {
     "data": {
      "application/vnd.jupyter.widget-view+json": {
       "model_id": "7c78115f4a614a3f99cf1d147600a082",
       "version_major": 2,
       "version_minor": 0
      },
      "text/plain": [
       "Interactive function <function trigplot at 0x7f6f609a9480> with 2 widgets\n",
       "  a: TransformFloatSlider(value=1.0, min=1.0, max=2.0, step=0.01, description='a')\n",
       "  b: TransformFloatSlider(value=1.0, min=1.0, max=2.0, step=0.01, description='b')"
      ]
     },
     "metadata": {},
     "output_type": "display_data"
    }
   ],
   "source": [
    "@interact\n",
    "def trigplot(a = slider(1, 2, step_size = 0.01), b = slider(1, 2, step_size = 0.01)):\n",
    "    plot(sin(a*x) + sin(b*x), (x, -20*pi, 20*pi)).show()"
   ]
  },
  {
   "cell_type": "code",
   "execution_count": null,
   "metadata": {},
   "outputs": [],
   "source": []
  }
 ],
 "metadata": {
  "kernelspec": {
   "display_name": "SageMath 9.5",
   "language": "sage",
   "name": "sagemath"
  },
  "language_info": {
   "codemirror_mode": {
    "name": "ipython",
    "version": 3
   },
   "file_extension": ".py",
   "mimetype": "text/x-python",
   "name": "python",
   "nbconvert_exporter": "python",
   "pygments_lexer": "ipython3",
   "version": "3.10.6"
  }
 },
 "nbformat": 4,
 "nbformat_minor": 4
}
