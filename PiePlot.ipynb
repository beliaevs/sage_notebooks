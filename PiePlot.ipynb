{
 "cells": [
  {
   "cell_type": "code",
   "execution_count": null,
   "metadata": {},
   "outputs": [],
   "source": [
    "import numpy\n",
    "import matplotlib.pyplot as plt"
   ]
  },
  {
   "cell_type": "code",
   "execution_count": null,
   "metadata": {},
   "outputs": [],
   "source": [
    "data = [1.0, 10.0, 20.0, 30.0, 40.0]\n",
    "explode = numpy.zeros(len(data))\n",
    "explode[3] = 0.1\n",
    "\n",
    "plt.figure(figsize=(4, 4))\n",
    "plt.pie(data, explode=explode, labels=['a', 'b', 'c', 'd', 'e'])\n",
    "plt.title('Revenue sources')"
   ]
  },
  {
   "cell_type": "code",
   "execution_count": null,
   "metadata": {},
   "outputs": [],
   "source": [
    "data = [3, 3, 5, 7]\n",
    "explode = numpy.ones(len(data))*0.02\n",
    "plt.figure(figsize=(4,4))\n",
    "plt.pie(data, explode=explode, labels=['a', 'b', 'c', 'd'])\n",
    "plt.title('pizza cut')"
   ]
  },
  {
   "cell_type": "code",
   "execution_count": null,
   "metadata": {},
   "outputs": [],
   "source": []
  }
 ],
 "metadata": {
  "kernelspec": {
   "display_name": "SageMath 9.4",
   "language": "sage",
   "name": "sagemath"
  },
  "language_info": {
   "codemirror_mode": {
    "name": "ipython",
    "version": 3
   },
   "file_extension": ".py",
   "mimetype": "text/x-python",
   "name": "python",
   "nbconvert_exporter": "python",
   "pygments_lexer": "ipython3",
   "version": "3.9.5"
  }
 },
 "nbformat": 4,
 "nbformat_minor": 4
}
