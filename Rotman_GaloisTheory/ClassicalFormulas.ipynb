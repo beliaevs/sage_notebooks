{
 "cells": [
  {
   "cell_type": "code",
   "execution_count": 1,
   "id": "2868383f",
   "metadata": {},
   "outputs": [
    {
     "data": {
      "text/plain": [
       "[x == -1/2*(I*sqrt(3) + 1)*(1/2*I*sqrt(3) - 1/2)^(1/3) + (1/2*I*sqrt(3) - 1/2)^(2/3), x == (1/2*I*sqrt(3) - 1/2)^(4/3) - 1/2*(I*sqrt(3) + 1)/(1/2*I*sqrt(3) - 1/2)^(1/3), x == (1/2*I*sqrt(3) - 1/2)^(1/3) + 1/(1/2*I*sqrt(3) - 1/2)^(1/3)]"
      ]
     },
     "execution_count": 1,
     "metadata": {},
     "output_type": "execute_result"
    }
   ],
   "source": [
    "solve(x^3-3*x+1==0, x)"
   ]
  },
  {
   "cell_type": "code",
   "execution_count": 2,
   "id": "9c1fd585",
   "metadata": {},
   "outputs": [],
   "source": [
    "f(x)=x^3-3*x+1"
   ]
  },
  {
   "cell_type": "code",
   "execution_count": 3,
   "id": "d202bb9f",
   "metadata": {},
   "outputs": [],
   "source": [
    "roots = [2*cos(2*pi/9), 2*cos(4*pi/9), 2*cos(8*pi/9)]"
   ]
  },
  {
   "cell_type": "code",
   "execution_count": 9,
   "id": "41743c1a",
   "metadata": {},
   "outputs": [
    {
     "data": {
      "text/plain": [
       "[0, 0, 0]"
      ]
     },
     "execution_count": 9,
     "metadata": {},
     "output_type": "execute_result"
    }
   ],
   "source": [
    "[f(r).trig_reduce() for r in roots]"
   ]
  },
  {
   "cell_type": "code",
   "execution_count": 27,
   "id": "9fbf8a7c",
   "metadata": {},
   "outputs": [
    {
     "data": {
      "text/plain": [
       "[x == 1/2*(1/2*I*sqrt(3) - 1/2)^(1/3)*(-I*sqrt(3) - 1) + (1/2*I*sqrt(3) - 1/2)^(2/3),\n",
       " x == 1/2*(2*(1/2*I*sqrt(3) - 1/2)^(5/3) - I*sqrt(3) - 1)/(1/2*I*sqrt(3) - 1/2)^(1/3),\n",
       " x == ((1/2*I*sqrt(3) - 1/2)^(2/3) + 1)/(1/2*I*sqrt(3) - 1/2)^(1/3)]"
      ]
     },
     "execution_count": 27,
     "metadata": {},
     "output_type": "execute_result"
    }
   ],
   "source": [
    "[e.simplify_trig() for e in solve(f(x)==0, x)]"
   ]
  },
  {
   "cell_type": "code",
   "execution_count": 28,
   "id": "b34a160b",
   "metadata": {},
   "outputs": [],
   "source": [
    "RP.<X>=RR[]"
   ]
  },
  {
   "cell_type": "code",
   "execution_count": 31,
   "id": "3a4360c2",
   "metadata": {},
   "outputs": [
    {
     "data": {
      "text/plain": [
       "[(-1.87938524157182, 1), (0.347296355333861, 1), (1.53208888623796, 1)]"
      ]
     },
     "execution_count": 31,
     "metadata": {},
     "output_type": "execute_result"
    }
   ],
   "source": [
    "(X^3-3*X+1).roots()"
   ]
  },
  {
   "cell_type": "code",
   "execution_count": 32,
   "id": "81d1b9ed",
   "metadata": {},
   "outputs": [],
   "source": [
    "QP.<Y>=QQ[]"
   ]
  },
  {
   "cell_type": "code",
   "execution_count": 33,
   "id": "370cab27",
   "metadata": {},
   "outputs": [
    {
     "data": {
      "text/plain": [
       "[]"
      ]
     },
     "execution_count": 33,
     "metadata": {},
     "output_type": "execute_result"
    }
   ],
   "source": [
    "(Y^3-3*Y+1).roots()"
   ]
  },
  {
   "cell_type": "code",
   "execution_count": 35,
   "id": "54ea5224",
   "metadata": {},
   "outputs": [
    {
     "data": {
      "text/plain": [
       "[x == -I*sqrt(3) + 2, x == I*sqrt(3) + 2, x == -4]"
      ]
     },
     "execution_count": 35,
     "metadata": {},
     "output_type": "execute_result"
    }
   ],
   "source": [
    "solve(x^3-9*x+28==0, x)"
   ]
  },
  {
   "cell_type": "code",
   "execution_count": 36,
   "id": "d57607d2",
   "metadata": {},
   "outputs": [
    {
     "data": {
      "text/plain": [
       "-216"
      ]
     },
     "execution_count": 36,
     "metadata": {},
     "output_type": "execute_result"
    }
   ],
   "source": [
    "192-16*24-24\n"
   ]
  },
  {
   "cell_type": "code",
   "execution_count": 37,
   "id": "9c15899c",
   "metadata": {},
   "outputs": [],
   "source": [
    "f(x)=x^3-24*x^2-24*x-25"
   ]
  },
  {
   "cell_type": "code",
   "execution_count": 43,
   "id": "b99a168e",
   "metadata": {},
   "outputs": [
    {
     "data": {
      "text/plain": [
       "[x == -1/2*I*sqrt(3) - 1/2, x == 1/2*I*sqrt(3) - 1/2, x == 25]"
      ]
     },
     "execution_count": 43,
     "metadata": {},
     "output_type": "execute_result"
    }
   ],
   "source": [
    "solve(f==0, x)"
   ]
  },
  {
   "cell_type": "code",
   "execution_count": null,
   "id": "10b202f9",
   "metadata": {},
   "outputs": [],
   "source": []
  }
 ],
 "metadata": {
  "kernelspec": {
   "display_name": "SageMath 9.5",
   "language": "sage",
   "name": "sagemath"
  },
  "language_info": {
   "codemirror_mode": {
    "name": "ipython",
    "version": 3
   },
   "file_extension": ".py",
   "mimetype": "text/x-python",
   "name": "python",
   "nbconvert_exporter": "python",
   "pygments_lexer": "ipython3",
   "version": "3.10.6"
  }
 },
 "nbformat": 4,
 "nbformat_minor": 5
}
