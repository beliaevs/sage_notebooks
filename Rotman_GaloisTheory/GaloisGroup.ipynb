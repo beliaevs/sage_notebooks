{
 "cells": [
  {
   "cell_type": "code",
   "execution_count": 2,
   "id": "ee077ded",
   "metadata": {},
   "outputs": [],
   "source": [
    "PQ.<X>=QQ[]"
   ]
  },
  {
   "cell_type": "code",
   "execution_count": 3,
   "id": "99866149",
   "metadata": {},
   "outputs": [
    {
     "data": {
      "text/plain": [
       "X^3 - 2"
      ]
     },
     "execution_count": 3,
     "metadata": {},
     "output_type": "execute_result"
    }
   ],
   "source": [
    "factor(X^3-2)"
   ]
  },
  {
   "cell_type": "code",
   "execution_count": 5,
   "id": "00190b84",
   "metadata": {},
   "outputs": [],
   "source": [
    "SF.<sq3>=(X^3-2).splitting_field()"
   ]
  },
  {
   "cell_type": "code",
   "execution_count": 6,
   "id": "25e4715e",
   "metadata": {},
   "outputs": [
    {
     "data": {
      "text/plain": [
       "sq3^3"
      ]
     },
     "execution_count": 6,
     "metadata": {},
     "output_type": "execute_result"
    }
   ],
   "source": [
    "sq3^3"
   ]
  },
  {
   "cell_type": "code",
   "execution_count": 7,
   "id": "51134b8e",
   "metadata": {},
   "outputs": [
    {
     "data": {
      "text/plain": [
       "-3*sq3^5 - 6*sq3^4 - 3*sq3^3 - 9*sq3 - 9"
      ]
     },
     "execution_count": 7,
     "metadata": {},
     "output_type": "execute_result"
    }
   ],
   "source": [
    "sq3^6"
   ]
  },
  {
   "cell_type": "code",
   "execution_count": 8,
   "id": "48319c98",
   "metadata": {},
   "outputs": [
    {
     "data": {
      "text/plain": [
       "Galois group 6T2 ([3]2) with order 6 of X^6 + 3*X^5 + 6*X^4 + 3*X^3 + 9*X + 9"
      ]
     },
     "execution_count": 8,
     "metadata": {},
     "output_type": "execute_result"
    }
   ],
   "source": [
    "SF.galois_group()"
   ]
  },
  {
   "cell_type": "code",
   "execution_count": 9,
   "id": "572d1125",
   "metadata": {},
   "outputs": [],
   "source": [
    "ComplexF.<Z>=CC[]"
   ]
  },
  {
   "cell_type": "code",
   "execution_count": 11,
   "id": "7be678c0",
   "metadata": {},
   "outputs": [
    {
     "data": {
      "text/plain": [
       "[(-1.12996052494744 - 1.95714903975616*I, 1),\n",
       " (-1.12996052494744 - 0.225098232187283*I, 1),\n",
       " (-1.12996052494744 + 0.225098232187283*I, 1),\n",
       " (-1.12996052494744 + 1.95714903975616*I, 1),\n",
       " (0.759921049894873 - 0.866025403784439*I, 1),\n",
       " (0.759921049894873 + 0.866025403784439*I, 1)]"
      ]
     },
     "execution_count": 11,
     "metadata": {},
     "output_type": "execute_result"
    }
   ],
   "source": [
    "(Z^6+3*Z^5+6*Z^4+3*Z^3+9*Z+9).roots()"
   ]
  },
  {
   "cell_type": "code",
   "execution_count": 12,
   "id": "2462d094",
   "metadata": {},
   "outputs": [
    {
     "data": {
      "text/plain": [
       "[(1.25992104989487, 1),\n",
       " (-0.629960524947437 - 1.09112363597172*I, 1),\n",
       " (-0.629960524947437 + 1.09112363597172*I, 1)]"
      ]
     },
     "execution_count": 12,
     "metadata": {},
     "output_type": "execute_result"
    }
   ],
   "source": [
    "(Z^3-2).roots()"
   ]
  },
  {
   "cell_type": "code",
   "execution_count": 13,
   "id": "840a159e",
   "metadata": {},
   "outputs": [
    {
     "data": {
      "text/plain": [
       "2.51984209978974"
      ]
     },
     "execution_count": 13,
     "metadata": {},
     "output_type": "execute_result"
    }
   ],
   "source": [
    "1.25992104989487*2"
   ]
  },
  {
   "cell_type": "code",
   "execution_count": 14,
   "id": "3b23d99f",
   "metadata": {},
   "outputs": [],
   "source": [
    "NF.<g>=NumberField(X^3-2)"
   ]
  },
  {
   "cell_type": "code",
   "execution_count": 15,
   "id": "aeb74b85",
   "metadata": {},
   "outputs": [
    {
     "data": {
      "text/plain": [
       "2"
      ]
     },
     "execution_count": 15,
     "metadata": {},
     "output_type": "execute_result"
    }
   ],
   "source": [
    "g^3"
   ]
  },
  {
   "cell_type": "code",
   "execution_count": 17,
   "id": "8cf24289",
   "metadata": {},
   "outputs": [],
   "source": [
    "G = NF.galois_group()"
   ]
  },
  {
   "cell_type": "code",
   "execution_count": 18,
   "id": "17408c19",
   "metadata": {},
   "outputs": [
    {
     "data": {
      "text/plain": [
       "[(1,2,3)(4,5,6), (1,4)(2,6)(3,5)]"
      ]
     },
     "execution_count": 18,
     "metadata": {},
     "output_type": "execute_result"
    }
   ],
   "source": [
    "G.gens()"
   ]
  },
  {
   "cell_type": "code",
   "execution_count": 19,
   "id": "0059feb3",
   "metadata": {},
   "outputs": [
    {
     "data": {
      "text/plain": [
       "g"
      ]
     },
     "execution_count": 19,
     "metadata": {},
     "output_type": "execute_result"
    }
   ],
   "source": [
    "NF.primitive_element()"
   ]
  },
  {
   "cell_type": "code",
   "execution_count": 20,
   "id": "a549f982",
   "metadata": {},
   "outputs": [
    {
     "data": {
      "text/plain": [
       "g^2"
      ]
     },
     "execution_count": 20,
     "metadata": {},
     "output_type": "execute_result"
    }
   ],
   "source": [
    "g^2"
   ]
  },
  {
   "cell_type": "code",
   "execution_count": 21,
   "id": "5bdd632e",
   "metadata": {},
   "outputs": [
    {
     "data": {
      "text/plain": [
       "2"
      ]
     },
     "execution_count": 21,
     "metadata": {},
     "output_type": "execute_result"
    }
   ],
   "source": [
    "g^3"
   ]
  },
  {
   "cell_type": "code",
   "execution_count": 22,
   "id": "b8176913",
   "metadata": {},
   "outputs": [
    {
     "data": {
      "text/plain": [
       "g"
      ]
     },
     "execution_count": 22,
     "metadata": {},
     "output_type": "execute_result"
    }
   ],
   "source": [
    "NF.absolute_generator()"
   ]
  },
  {
   "cell_type": "code",
   "execution_count": 23,
   "id": "e7ab213d",
   "metadata": {},
   "outputs": [
    {
     "data": {
      "text/plain": [
       "Rational Field"
      ]
     },
     "execution_count": 23,
     "metadata": {},
     "output_type": "execute_result"
    }
   ],
   "source": [
    "NF.base()"
   ]
  },
  {
   "cell_type": "code",
   "execution_count": 26,
   "id": "126c8464",
   "metadata": {},
   "outputs": [
    {
     "data": {
      "text/plain": [
       "Galois group 3T2 (S3) with order 6 of X^3 - 2"
      ]
     },
     "execution_count": 26,
     "metadata": {},
     "output_type": "execute_result"
    }
   ],
   "source": [
    "NF.galois_group()"
   ]
  },
  {
   "cell_type": "code",
   "execution_count": null,
   "id": "62372ba2",
   "metadata": {},
   "outputs": [],
   "source": []
  }
 ],
 "metadata": {
  "kernelspec": {
   "display_name": "SageMath 9.5",
   "language": "sage",
   "name": "sagemath"
  },
  "language_info": {
   "codemirror_mode": {
    "name": "ipython",
    "version": 3
   },
   "file_extension": ".py",
   "mimetype": "text/x-python",
   "name": "python",
   "nbconvert_exporter": "python",
   "pygments_lexer": "ipython3",
   "version": "3.10.6"
  }
 },
 "nbformat": 4,
 "nbformat_minor": 5
}
