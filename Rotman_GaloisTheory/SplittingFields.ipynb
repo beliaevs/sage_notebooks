{
 "cells": [
  {
   "cell_type": "code",
   "execution_count": 3,
   "id": "aa14ddc7",
   "metadata": {},
   "outputs": [],
   "source": [
    "F2 = GF(2)"
   ]
  },
  {
   "cell_type": "code",
   "execution_count": 4,
   "id": "296e1791",
   "metadata": {},
   "outputs": [],
   "source": [
    "PF2.<X> = F2[]"
   ]
  },
  {
   "cell_type": "code",
   "execution_count": 7,
   "id": "46219169",
   "metadata": {},
   "outputs": [
    {
     "data": {
      "text/plain": [
       "X * (X + 1) * (X^3 + X + 1) * (X^3 + X^2 + 1)"
      ]
     },
     "execution_count": 7,
     "metadata": {},
     "output_type": "execute_result"
    }
   ],
   "source": [
    "factor(X^(2^3)-X)"
   ]
  },
  {
   "cell_type": "code",
   "execution_count": 8,
   "id": "da6ad44e",
   "metadata": {},
   "outputs": [
    {
     "data": {
      "text/plain": [
       "(X + 1)^3"
      ]
     },
     "execution_count": 8,
     "metadata": {},
     "output_type": "execute_result"
    }
   ],
   "source": [
    "factor(X^3+X^2+X+1)"
   ]
  },
  {
   "cell_type": "code",
   "execution_count": 9,
   "id": "53a4bdbc",
   "metadata": {},
   "outputs": [],
   "source": [
    "F8 = PF2.quo(X^3+X+1)"
   ]
  },
  {
   "cell_type": "code",
   "execution_count": 10,
   "id": "7eaaab73",
   "metadata": {},
   "outputs": [
    {
     "data": {
      "text/plain": [
       "Univariate Quotient Polynomial Ring in Xbar over Finite Field of size 2 with modulus X^3 + X + 1"
      ]
     },
     "execution_count": 10,
     "metadata": {},
     "output_type": "execute_result"
    }
   ],
   "source": [
    "F8"
   ]
  },
  {
   "cell_type": "code",
   "execution_count": 11,
   "id": "a5ea9c26",
   "metadata": {},
   "outputs": [],
   "source": [
    "PF8.<Y> = F8[]"
   ]
  },
  {
   "cell_type": "code",
   "execution_count": 12,
   "id": "f0a3aa3a",
   "metadata": {},
   "outputs": [
    {
     "data": {
      "text/plain": [
       "(Y + Xbar) * (Y + Xbar^2) * (Y + Xbar^2 + Xbar)"
      ]
     },
     "execution_count": 12,
     "metadata": {},
     "output_type": "execute_result"
    }
   ],
   "source": [
    "factor(Y^3+Y+1)"
   ]
  },
  {
   "cell_type": "code",
   "execution_count": 13,
   "id": "0e3e7974",
   "metadata": {},
   "outputs": [
    {
     "data": {
      "text/plain": [
       "(Y + Xbar + 1) * (Y + Xbar^2 + 1) * (Y + Xbar^2 + Xbar + 1)"
      ]
     },
     "execution_count": 13,
     "metadata": {},
     "output_type": "execute_result"
    }
   ],
   "source": [
    "factor(Y^3+Y^2+1)"
   ]
  },
  {
   "cell_type": "code",
   "execution_count": 17,
   "id": "cb1d2bfe",
   "metadata": {},
   "outputs": [],
   "source": [
    "F_8.<gx> = (X^3+X+1).splitting_field()"
   ]
  },
  {
   "cell_type": "code",
   "execution_count": 21,
   "id": "60a3a773",
   "metadata": {},
   "outputs": [
    {
     "data": {
      "text/plain": [
       "Finite Field in gx of size 2^3"
      ]
     },
     "execution_count": 21,
     "metadata": {},
     "output_type": "execute_result"
    }
   ],
   "source": [
    "F_8"
   ]
  },
  {
   "cell_type": "code",
   "execution_count": 23,
   "id": "04164764",
   "metadata": {},
   "outputs": [
    {
     "data": {
      "text/plain": [
       "True"
      ]
     },
     "execution_count": 23,
     "metadata": {},
     "output_type": "execute_result"
    }
   ],
   "source": []
  },
  {
   "cell_type": "code",
   "execution_count": 24,
   "id": "1272a09e",
   "metadata": {},
   "outputs": [],
   "source": [
    "x, y, z = var('x y z')"
   ]
  },
  {
   "cell_type": "code",
   "execution_count": 26,
   "id": "0d4aca20",
   "metadata": {},
   "outputs": [
    {
     "data": {
      "text/plain": [
       "x^5 + 5*x^4*y + 10*x^3*y^2 + 10*x^2*y^3 + 5*x*y^4 + y^5 + 5*x^4*z + 20*x^3*y*z + 30*x^2*y^2*z + 20*x*y^3*z + 5*y^4*z + 10*x^3*z^2 + 30*x^2*y*z^2 + 30*x*y^2*z^2 + 10*y^3*z^2 + 10*x^2*z^3 + 20*x*y*z^3 + 10*y^2*z^3 + 5*x*z^4 + 5*y*z^4 + z^5"
      ]
     },
     "execution_count": 26,
     "metadata": {},
     "output_type": "execute_result"
    }
   ],
   "source": [
    "((x+y+z)^5).expand()"
   ]
  },
  {
   "cell_type": "code",
   "execution_count": 27,
   "id": "4890b960",
   "metadata": {},
   "outputs": [
    {
     "data": {
      "text/plain": [
       "10"
      ]
     },
     "execution_count": 27,
     "metadata": {},
     "output_type": "execute_result"
    }
   ],
   "source": [
    "factorial(5)/(factorial(3)*factorial(2))"
   ]
  },
  {
   "cell_type": "code",
   "execution_count": 28,
   "id": "10695cc9",
   "metadata": {},
   "outputs": [
    {
     "ename": "ModuleNotFoundError",
     "evalue": "No module named 'sage_combinat_widgets'",
     "output_type": "error",
     "traceback": [
      "\u001b[0;31m---------------------------------------------------------------------------\u001b[0m",
      "\u001b[0;31mModuleNotFoundError\u001b[0m                       Traceback (most recent call last)",
      "\u001b[0;32m/tmp/ipykernel_390/1892457152.py\u001b[0m in \u001b[0;36m<module>\u001b[0;34m\u001b[0m\n\u001b[0;32m----> 1\u001b[0;31m \u001b[0;32mfrom\u001b[0m \u001b[0msage_combinat_widgets\u001b[0m \u001b[0;32mimport\u001b[0m \u001b[0mGridViewWidget\u001b[0m\u001b[0;34m\u001b[0m\u001b[0;34m\u001b[0m\u001b[0m\n\u001b[0m",
      "\u001b[0;31mModuleNotFoundError\u001b[0m: No module named 'sage_combinat_widgets'"
     ]
    }
   ],
   "source": [
    "from sage_combinat_widgets import GridViewWidget"
   ]
  },
  {
   "cell_type": "code",
   "execution_count": null,
   "id": "db3e9288",
   "metadata": {},
   "outputs": [],
   "source": []
  }
 ],
 "metadata": {
  "kernelspec": {
   "display_name": "SageMath 9.5",
   "language": "sage",
   "name": "sagemath"
  },
  "language_info": {
   "codemirror_mode": {
    "name": "ipython",
    "version": 3
   },
   "file_extension": ".py",
   "mimetype": "text/x-python",
   "name": "python",
   "nbconvert_exporter": "python",
   "pygments_lexer": "ipython3",
   "version": "3.10.6"
  }
 },
 "nbformat": 4,
 "nbformat_minor": 5
}
