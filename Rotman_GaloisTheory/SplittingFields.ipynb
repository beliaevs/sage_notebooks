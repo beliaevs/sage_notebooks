{
 "cells": [
  {
   "cell_type": "code",
   "execution_count": 3,
   "id": "aa14ddc7",
   "metadata": {},
   "outputs": [],
   "source": [
    "F2 = GF(2)"
   ]
  },
  {
   "cell_type": "code",
   "execution_count": 4,
   "id": "296e1791",
   "metadata": {},
   "outputs": [],
   "source": [
    "PF2.<X> = F2[]"
   ]
  },
  {
   "cell_type": "code",
   "execution_count": 7,
   "id": "46219169",
   "metadata": {},
   "outputs": [
    {
     "data": {
      "text/plain": [
       "X * (X + 1) * (X^3 + X + 1) * (X^3 + X^2 + 1)"
      ]
     },
     "execution_count": 7,
     "metadata": {},
     "output_type": "execute_result"
    }
   ],
   "source": [
    "factor(X^(2^3)-X)"
   ]
  },
  {
   "cell_type": "code",
   "execution_count": 8,
   "id": "da6ad44e",
   "metadata": {},
   "outputs": [
    {
     "data": {
      "text/plain": [
       "(X + 1)^3"
      ]
     },
     "execution_count": 8,
     "metadata": {},
     "output_type": "execute_result"
    }
   ],
   "source": [
    "factor(X^3+X^2+X+1)"
   ]
  },
  {
   "cell_type": "code",
   "execution_count": 9,
   "id": "53a4bdbc",
   "metadata": {},
   "outputs": [],
   "source": [
    "F8 = PF2.quo(X^3+X+1)"
   ]
  },
  {
   "cell_type": "code",
   "execution_count": 10,
   "id": "7eaaab73",
   "metadata": {},
   "outputs": [
    {
     "data": {
      "text/plain": [
       "Univariate Quotient Polynomial Ring in Xbar over Finite Field of size 2 with modulus X^3 + X + 1"
      ]
     },
     "execution_count": 10,
     "metadata": {},
     "output_type": "execute_result"
    }
   ],
   "source": [
    "F8"
   ]
  },
  {
   "cell_type": "code",
   "execution_count": 11,
   "id": "a5ea9c26",
   "metadata": {},
   "outputs": [],
   "source": [
    "PF8.<Y> = F8[]"
   ]
  },
  {
   "cell_type": "code",
   "execution_count": 12,
   "id": "f0a3aa3a",
   "metadata": {},
   "outputs": [
    {
     "data": {
      "text/plain": [
       "(Y + Xbar) * (Y + Xbar^2) * (Y + Xbar^2 + Xbar)"
      ]
     },
     "execution_count": 12,
     "metadata": {},
     "output_type": "execute_result"
    }
   ],
   "source": [
    "factor(Y^3+Y+1)"
   ]
  },
  {
   "cell_type": "code",
   "execution_count": 13,
   "id": "0e3e7974",
   "metadata": {},
   "outputs": [
    {
     "data": {
      "text/plain": [
       "(Y + Xbar + 1) * (Y + Xbar^2 + 1) * (Y + Xbar^2 + Xbar + 1)"
      ]
     },
     "execution_count": 13,
     "metadata": {},
     "output_type": "execute_result"
    }
   ],
   "source": [
    "factor(Y^3+Y^2+1)"
   ]
  },
  {
   "cell_type": "code",
   "execution_count": 17,
   "id": "cb1d2bfe",
   "metadata": {},
   "outputs": [],
   "source": [
    "F_8.<gx> = (X^3+X+1).splitting_field()"
   ]
  },
  {
   "cell_type": "code",
   "execution_count": 21,
   "id": "60a3a773",
   "metadata": {},
   "outputs": [
    {
     "data": {
      "text/plain": [
       "Finite Field in gx of size 2^3"
      ]
     },
     "execution_count": 21,
     "metadata": {},
     "output_type": "execute_result"
    }
   ],
   "source": [
    "F_8"
   ]
  },
  {
   "cell_type": "code",
   "execution_count": 25,
   "id": "db3e9288",
   "metadata": {},
   "outputs": [],
   "source": [
    "PQ.<X>=QQ[]"
   ]
  },
  {
   "cell_type": "code",
   "execution_count": 26,
   "id": "c6f5a2de",
   "metadata": {},
   "outputs": [],
   "source": [
    "RealCubicRoot2.<cr2>=QQ.extension(X^3-2)"
   ]
  },
  {
   "cell_type": "code",
   "execution_count": 27,
   "id": "d954e095",
   "metadata": {},
   "outputs": [
    {
     "data": {
      "text/plain": [
       "2"
      ]
     },
     "execution_count": 27,
     "metadata": {},
     "output_type": "execute_result"
    }
   ],
   "source": [
    "cr2^3"
   ]
  },
  {
   "cell_type": "code",
   "execution_count": 28,
   "id": "d0652afc",
   "metadata": {},
   "outputs": [],
   "source": [
    "RCR2P.<Y>=RealCubicRoot2[]"
   ]
  },
  {
   "cell_type": "code",
   "execution_count": 29,
   "id": "46876aa2",
   "metadata": {},
   "outputs": [
    {
     "data": {
      "text/plain": [
       "(Y - cr2) * (Y^2 + cr2*Y + cr2^2)"
      ]
     },
     "execution_count": 29,
     "metadata": {},
     "output_type": "execute_result"
    }
   ],
   "source": [
    "factor(Y^3-2)"
   ]
  },
  {
   "cell_type": "code",
   "execution_count": 31,
   "id": "fa5190cc",
   "metadata": {},
   "outputs": [],
   "source": [
    "SplitCubicRoot2.<cr2_other>=RealCubicRoot2.extension(Y^2 + cr2*Y + cr2^2)"
   ]
  },
  {
   "cell_type": "code",
   "execution_count": 32,
   "id": "3159b3d7",
   "metadata": {},
   "outputs": [],
   "source": [
    "SCR2.<Z>=SplitCubicRoot2[]"
   ]
  },
  {
   "cell_type": "code",
   "execution_count": 33,
   "id": "dcd503b7",
   "metadata": {},
   "outputs": [
    {
     "data": {
      "text/plain": [
       "(Z + cr2_other + cr2) * (Z - cr2_other) * (Z - cr2)"
      ]
     },
     "execution_count": 33,
     "metadata": {},
     "output_type": "execute_result"
    }
   ],
   "source": [
    "factor(Z^3-2)"
   ]
  },
  {
   "cell_type": "code",
   "execution_count": 37,
   "id": "74061573",
   "metadata": {},
   "outputs": [
    {
     "data": {
      "text/plain": [
       "6"
      ]
     },
     "execution_count": 37,
     "metadata": {},
     "output_type": "execute_result"
    }
   ],
   "source": [
    "SplitCubicRoot2.absolute_degree()"
   ]
  },
  {
   "cell_type": "code",
   "execution_count": 38,
   "id": "478e4e51",
   "metadata": {},
   "outputs": [
    {
     "name": "stdout",
     "output_type": "stream",
     "text": [
      "Help on method absolute_degree in module sage.rings.number_field.number_field_rel:\n",
      "\n",
      "absolute_degree() method of sage.rings.number_field.number_field_rel.NumberField_relative_with_category instance\n",
      "    The degree of this relative number field over the rational field.\n",
      "    \n",
      "    EXAMPLES::\n",
      "    \n",
      "        sage: K.<a> = NumberFieldTower([x^2 - 17, x^3 - 2])\n",
      "        sage: K.absolute_degree()\n",
      "        6\n",
      "\n"
     ]
    }
   ],
   "source": [
    "help(SplitCubicRoot2.absolute_degree)"
   ]
  },
  {
   "cell_type": "code",
   "execution_count": 44,
   "id": "551b60e4",
   "metadata": {},
   "outputs": [
    {
     "name": "stdout",
     "output_type": "stream",
     "text": [
      "Help on method absolute_field in module sage.rings.number_field.number_field_rel:\n",
      "\n",
      "absolute_field(names) method of sage.rings.number_field.number_field_rel.NumberField_relative_with_category instance\n",
      "    Return ``self`` as an absolute number field.\n",
      "    \n",
      "    INPUT:\n",
      "    \n",
      "    - ``names`` -- string; name of generator of the absolute field\n",
      "    \n",
      "    OUTPUT:\n",
      "    \n",
      "    An absolute number field `K` that is isomorphic to this field.\n",
      "    \n",
      "    Also, ``K.structure()`` returns ``from_K`` and ``to_K``, where\n",
      "    ``from_K`` is an isomorphism from `K` to ``self`` and ``to_K``\n",
      "    is an isomorphism from ``self`` to `K`.\n",
      "    \n",
      "    EXAMPLES::\n",
      "    \n",
      "        sage: K.<a,b> = NumberField([x^4 + 3, x^2 + 2]); K\n",
      "        Number Field in a with defining polynomial x^4 + 3 over its base field\n",
      "        sage: L.<xyz> = K.absolute_field(); L\n",
      "        Number Field in xyz with defining polynomial x^8 + 8*x^6 + 30*x^4 - 40*x^2 + 49\n",
      "        sage: L.<c> = K.absolute_field(); L\n",
      "        Number Field in c with defining polynomial x^8 + 8*x^6 + 30*x^4 - 40*x^2 + 49\n",
      "    \n",
      "        sage: from_L, to_L = L.structure()\n",
      "        sage: from_L\n",
      "        Isomorphism map:\n",
      "          From: Number Field in c with defining polynomial x^8 + 8*x^6 + 30*x^4 - 40*x^2 + 49\n",
      "          To:   Number Field in a with defining polynomial x^4 + 3 over its base field\n",
      "        sage: from_L(c)\n",
      "        a - b\n",
      "        sage: to_L\n",
      "        Isomorphism map:\n",
      "          From: Number Field in a with defining polynomial x^4 + 3 over its base field\n",
      "          To:   Number Field in c with defining polynomial x^8 + 8*x^6 + 30*x^4 - 40*x^2 + 49\n",
      "        sage: to_L(a)\n",
      "        -5/182*c^7 - 87/364*c^5 - 185/182*c^3 + 323/364*c\n",
      "        sage: to_L(b)\n",
      "        -5/182*c^7 - 87/364*c^5 - 185/182*c^3 - 41/364*c\n",
      "        sage: to_L(a)^4\n",
      "        -3\n",
      "        sage: to_L(b)^2\n",
      "        -2\n",
      "\n"
     ]
    }
   ],
   "source": [
    "help(SplitCubicRoot2.absolute_field)"
   ]
  },
  {
   "cell_type": "code",
   "execution_count": 47,
   "id": "adbe5781",
   "metadata": {},
   "outputs": [],
   "source": [
    "SF.<a>=SplitCubicRoot2.absolute_field()"
   ]
  },
  {
   "cell_type": "code",
   "execution_count": 54,
   "id": "c1bb9b3a",
   "metadata": {},
   "outputs": [
    {
     "data": {
      "text/plain": [
       "Number Field in a with defining polynomial x^6 + 108"
      ]
     },
     "execution_count": 54,
     "metadata": {},
     "output_type": "execute_result"
    }
   ],
   "source": [
    "SF"
   ]
  },
  {
   "cell_type": "code",
   "execution_count": 55,
   "id": "a5be4f17",
   "metadata": {},
   "outputs": [
    {
     "data": {
      "text/plain": [
       "2^2 * 3^3"
      ]
     },
     "execution_count": 55,
     "metadata": {},
     "output_type": "execute_result"
    }
   ],
   "source": [
    "factor(108)"
   ]
  },
  {
   "cell_type": "code",
   "execution_count": 56,
   "id": "8a5ec85a",
   "metadata": {},
   "outputs": [
    {
     "data": {
      "text/plain": [
       "(Y^2 + 3*cr2^2) * (Y^2 - 3*cr2*Y + 3*cr2^2) * (Y^2 + 3*cr2*Y + 3*cr2^2)"
      ]
     },
     "execution_count": 56,
     "metadata": {},
     "output_type": "execute_result"
    }
   ],
   "source": [
    "factor(Y^6+108)"
   ]
  },
  {
   "cell_type": "code",
   "execution_count": 57,
   "id": "9afdf4f8",
   "metadata": {},
   "outputs": [
    {
     "data": {
      "text/plain": [
       "(Z - cr2_other + cr2) * (Z + cr2_other - cr2) * (Z + cr2_other + 2*cr2) * (Z + 2*cr2_other + cr2) * (Z - 2*cr2_other - cr2) * (Z - cr2_other - 2*cr2)"
      ]
     },
     "execution_count": 57,
     "metadata": {},
     "output_type": "execute_result"
    }
   ],
   "source": [
    "factor(Z^6+108)"
   ]
  },
  {
   "cell_type": "code",
   "execution_count": 58,
   "id": "68e94187",
   "metadata": {},
   "outputs": [
    {
     "data": {
      "text/plain": [
       "Galois group 6T2 ([3]2) with order 6 of x^6 + 108"
      ]
     },
     "execution_count": 58,
     "metadata": {},
     "output_type": "execute_result"
    }
   ],
   "source": [
    "SF.galois_group()"
   ]
  },
  {
   "cell_type": "code",
   "execution_count": 60,
   "id": "ad893f40",
   "metadata": {},
   "outputs": [
    {
     "data": {
      "text/plain": [
       "Galois group 3T2 (S3) with order 6 of X^3 - 2"
      ]
     },
     "execution_count": 60,
     "metadata": {},
     "output_type": "execute_result"
    }
   ],
   "source": [
    "RealCubicRoot2.galois_group()"
   ]
  },
  {
   "cell_type": "code",
   "execution_count": null,
   "id": "3e45e108",
   "metadata": {},
   "outputs": [],
   "source": []
  }
 ],
 "metadata": {
  "kernelspec": {
   "display_name": "SageMath 9.5",
   "language": "sage",
   "name": "sagemath"
  },
  "language_info": {
   "codemirror_mode": {
    "name": "ipython",
    "version": 3
   },
   "file_extension": ".py",
   "mimetype": "text/x-python",
   "name": "python",
   "nbconvert_exporter": "python",
   "pygments_lexer": "ipython3",
   "version": "3.10.6"
  }
 },
 "nbformat": 4,
 "nbformat_minor": 5
}
