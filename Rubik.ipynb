{
 "cells": [
  {
   "cell_type": "code",
   "execution_count": 1,
   "id": "10653f80",
   "metadata": {},
   "outputs": [
    {
     "data": {
      "text/plain": [
       "6"
      ]
     },
     "execution_count": 1,
     "metadata": {},
     "output_type": "execute_result"
    }
   ],
   "source": [
    "euler_phi(7)"
   ]
  },
  {
   "cell_type": "code",
   "execution_count": 2,
   "id": "a99086af",
   "metadata": {},
   "outputs": [
    {
     "data": {
      "text/plain": [
       "4"
      ]
     },
     "execution_count": 2,
     "metadata": {},
     "output_type": "execute_result"
    }
   ],
   "source": [
    "euler_phi(8)"
   ]
  },
  {
   "cell_type": "code",
   "execution_count": 3,
   "id": "d4c6f238",
   "metadata": {},
   "outputs": [
    {
     "data": {
      "text/plain": [
       "25"
      ]
     },
     "execution_count": 3,
     "metadata": {},
     "output_type": "execute_result"
    }
   ],
   "source": [
    "prime_pi(100)"
   ]
  },
  {
   "cell_type": "code",
   "execution_count": 9,
   "id": "a216a2d5",
   "metadata": {},
   "outputs": [],
   "source": [
    "primes100 = primes(100)"
   ]
  },
  {
   "cell_type": "code",
   "execution_count": 7,
   "id": "16375bb5",
   "metadata": {},
   "outputs": [
    {
     "data": {
      "text/plain": [
       "25"
      ]
     },
     "execution_count": 7,
     "metadata": {},
     "output_type": "execute_result"
    }
   ],
   "source": [
    "len(list(primes100))"
   ]
  },
  {
   "cell_type": "code",
   "execution_count": 11,
   "id": "4e6fcae3",
   "metadata": {},
   "outputs": [],
   "source": [
    "f = x^4-16"
   ]
  },
  {
   "cell_type": "code",
   "execution_count": 12,
   "id": "232edddb",
   "metadata": {},
   "outputs": [
    {
     "data": {
      "text/plain": [
       "[(2*I, 1), (-2, 1), (-2*I, 1), (2, 1)]"
      ]
     },
     "execution_count": 12,
     "metadata": {},
     "output_type": "execute_result"
    }
   ],
   "source": [
    "f.roots()"
   ]
  },
  {
   "cell_type": "code",
   "execution_count": 16,
   "id": "4407e74b",
   "metadata": {},
   "outputs": [],
   "source": [
    "C = cartesian_product([['A', 'B'], [3, 4]])"
   ]
  },
  {
   "cell_type": "code",
   "execution_count": 17,
   "id": "15591290",
   "metadata": {},
   "outputs": [
    {
     "data": {
      "text/plain": [
       "The Cartesian product of ({'A', 'B'}, {3, 4})"
      ]
     },
     "execution_count": 17,
     "metadata": {},
     "output_type": "execute_result"
    }
   ],
   "source": [
    "C"
   ]
  },
  {
   "cell_type": "code",
   "execution_count": 18,
   "id": "c7b6545c",
   "metadata": {},
   "outputs": [
    {
     "data": {
      "text/plain": [
       "[('A', 3), ('A', 4), ('B', 3), ('B', 4)]"
      ]
     },
     "execution_count": 18,
     "metadata": {},
     "output_type": "execute_result"
    }
   ],
   "source": [
    "list(C)"
   ]
  },
  {
   "cell_type": "code",
   "execution_count": null,
   "id": "2e92f021",
   "metadata": {},
   "outputs": [],
   "source": []
  }
 ],
 "metadata": {
  "kernelspec": {
   "display_name": "SageMath 9.5",
   "language": "sage",
   "name": "sagemath"
  },
  "language_info": {
   "codemirror_mode": {
    "name": "ipython",
    "version": 3
   },
   "file_extension": ".py",
   "mimetype": "text/x-python",
   "name": "python",
   "nbconvert_exporter": "python",
   "pygments_lexer": "ipython3",
   "version": "3.10.4"
  }
 },
 "nbformat": 4,
 "nbformat_minor": 5
}
