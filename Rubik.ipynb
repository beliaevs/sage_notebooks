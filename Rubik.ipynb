{
 "cells": [
  {
   "cell_type": "code",
   "execution_count": 1,
   "id": "10653f80",
   "metadata": {},
   "outputs": [
    {
     "data": {
      "text/plain": [
       "6"
      ]
     },
     "execution_count": 1,
     "metadata": {},
     "output_type": "execute_result"
    }
   ],
   "source": [
    "euler_phi(7)"
   ]
  },
  {
   "cell_type": "code",
   "execution_count": 2,
   "id": "a99086af",
   "metadata": {},
   "outputs": [
    {
     "data": {
      "text/plain": [
       "4"
      ]
     },
     "execution_count": 2,
     "metadata": {},
     "output_type": "execute_result"
    }
   ],
   "source": [
    "euler_phi(8)"
   ]
  },
  {
   "cell_type": "code",
   "execution_count": 3,
   "id": "d4c6f238",
   "metadata": {},
   "outputs": [
    {
     "data": {
      "text/plain": [
       "25"
      ]
     },
     "execution_count": 3,
     "metadata": {},
     "output_type": "execute_result"
    }
   ],
   "source": [
    "prime_pi(100)"
   ]
  },
  {
   "cell_type": "code",
   "execution_count": 4,
   "id": "a216a2d5",
   "metadata": {},
   "outputs": [],
   "source": [
    "primes100 = primes(100)"
   ]
  },
  {
   "cell_type": "code",
   "execution_count": 5,
   "id": "16375bb5",
   "metadata": {},
   "outputs": [
    {
     "data": {
      "text/plain": [
       "25"
      ]
     },
     "execution_count": 5,
     "metadata": {},
     "output_type": "execute_result"
    }
   ],
   "source": [
    "len(list(primes100))"
   ]
  },
  {
   "cell_type": "code",
   "execution_count": 6,
   "id": "4e6fcae3",
   "metadata": {},
   "outputs": [],
   "source": [
    "f = x^4-16"
   ]
  },
  {
   "cell_type": "code",
   "execution_count": 7,
   "id": "232edddb",
   "metadata": {},
   "outputs": [
    {
     "data": {
      "text/plain": [
       "[(2*I, 1), (-2, 1), (-2*I, 1), (2, 1)]"
      ]
     },
     "execution_count": 7,
     "metadata": {},
     "output_type": "execute_result"
    }
   ],
   "source": [
    "f.roots()"
   ]
  },
  {
   "cell_type": "code",
   "execution_count": 12,
   "id": "4407e74b",
   "metadata": {},
   "outputs": [],
   "source": [
    "A = FiniteEnumeratedSet(['a', 'b', 'c'])"
   ]
  },
  {
   "cell_type": "code",
   "execution_count": 13,
   "id": "15591290",
   "metadata": {},
   "outputs": [],
   "source": [
    "B = FiniteEnumeratedSet([1, 2, 3, 4])"
   ]
  },
  {
   "cell_type": "code",
   "execution_count": 14,
   "id": "c7b6545c",
   "metadata": {},
   "outputs": [],
   "source": [
    "C = cartesian_product([A, B])"
   ]
  },
  {
   "cell_type": "code",
   "execution_count": 15,
   "id": "514d63f0",
   "metadata": {},
   "outputs": [
    {
     "data": {
      "text/plain": [
       "The Cartesian product of ({'a', 'b', 'c'}, {1, 2, 3, 4})"
      ]
     },
     "execution_count": 15,
     "metadata": {},
     "output_type": "execute_result"
    }
   ],
   "source": [
    "C"
   ]
  },
  {
   "cell_type": "code",
   "execution_count": 19,
   "id": "c54d9297",
   "metadata": {},
   "outputs": [
    {
     "data": {
      "text/plain": [
       "12"
      ]
     },
     "execution_count": 19,
     "metadata": {},
     "output_type": "execute_result"
    }
   ],
   "source": [
    "C.cardinality()"
   ]
  },
  {
   "cell_type": "code",
   "execution_count": 30,
   "id": "30d57863",
   "metadata": {},
   "outputs": [],
   "source": [
    "f = x^2"
   ]
  },
  {
   "cell_type": "code",
   "execution_count": 35,
   "id": "3ceb2a0c",
   "metadata": {},
   "outputs": [],
   "source": [
    "P = plot(f, -2, 2)"
   ]
  },
  {
   "cell_type": "code",
   "execution_count": 36,
   "id": "43b91cd0",
   "metadata": {},
   "outputs": [
    {
     "data": {
      "image/png": "[encoded data removed]",
      "text/plain": [
       "Graphics object consisting of 1 graphics primitive"
      ]
     },
     "metadata": {},
     "output_type": "display_data"
    }
   ],
   "source": [
    "P.show(aspect_ratio = 1)"
   ]
  },
  {
   "cell_type": "code",
   "execution_count": 37,
   "id": "7b9e69b9",
   "metadata": {},
   "outputs": [],
   "source": [
    "a, b, c, d = var('a b c d')"
   ]
  },
  {
   "cell_type": "code",
   "execution_count": 38,
   "id": "df2dc62f",
   "metadata": {},
   "outputs": [],
   "source": [
    "m = matrix(2, 2, [a, b, c, d])"
   ]
  },
  {
   "cell_type": "code",
   "execution_count": 39,
   "id": "143c90af",
   "metadata": {},
   "outputs": [
    {
     "data": {
      "text/plain": [
       "-b*c + a*d"
      ]
     },
     "execution_count": 39,
     "metadata": {},
     "output_type": "execute_result"
    }
   ],
   "source": [
    "det(m)"
   ]
  },
  {
   "cell_type": "code",
   "execution_count": 40,
   "id": "2ca0dc80",
   "metadata": {},
   "outputs": [
    {
     "data": {
      "text/plain": [
       "[a b]\n",
       "[c d]"
      ]
     },
     "execution_count": 40,
     "metadata": {},
     "output_type": "execute_result"
    }
   ],
   "source": [
    "m"
   ]
  },
  {
   "cell_type": "code",
   "execution_count": 41,
   "id": "05c83e2a",
   "metadata": {},
   "outputs": [],
   "source": [
    "a11, a12, a13, a21, a22, a23, a31, a32, a33 = var('a11 a12 a13 a21 a22 a23 a31 a32 a33')"
   ]
  },
  {
   "cell_type": "code",
   "execution_count": 42,
   "id": "61ed7625",
   "metadata": {},
   "outputs": [],
   "source": [
    "mat = matrix(3, 3, [a11, a12, a13, a21, a22, a23, a31, a32, a33])"
   ]
  },
  {
   "cell_type": "code",
   "execution_count": 43,
   "id": "5b1c844f",
   "metadata": {},
   "outputs": [
    {
     "data": {
      "text/plain": [
       "-(a23*a32 - a22*a33)*a11 + (a13*a32 - a12*a33)*a21 - (a13*a22 - a12*a23)*a31"
      ]
     },
     "execution_count": 43,
     "metadata": {},
     "output_type": "execute_result"
    }
   ],
   "source": [
    "det(mat)"
   ]
  },
  {
   "cell_type": "code",
   "execution_count": 48,
   "id": "3a91df41",
   "metadata": {},
   "outputs": [
    {
     "data": {
      "text/plain": [
       "[[1],\n",
       " [1, 1],\n",
       " [1, 2, 1],\n",
       " [1, 3, 3, 1],\n",
       " [1, 4, 6, 4, 1],\n",
       " [1, 5, 10, 10, 5, 1],\n",
       " [1, 6, 15, 20, 15, 6, 1],\n",
       " [1, 7, 21, 35, 35, 21, 7, 1],\n",
       " [1, 8, 28, 56, 70, 56, 28, 8, 1],\n",
       " [1, 9, 36, 84, 126, 126, 84, 36, 9, 1],\n",
       " [1, 10, 45, 120, 210, 252, 210, 120, 45, 10, 1],\n",
       " [1, 11, 55, 165, 330, 462, 462, 330, 165, 55, 11, 1],\n",
       " [1, 12, 66, 220, 495, 792, 924, 792, 495, 220, 66, 12, 1],\n",
       " [1, 13, 78, 286, 715, 1287, 1716, 1716, 1287, 715, 286, 78, 13, 1],\n",
       " [1, 14, 91, 364, 1001, 2002, 3003, 3432, 3003, 2002, 1001, 364, 91, 14, 1]]"
      ]
     },
     "execution_count": 48,
     "metadata": {},
     "output_type": "execute_result"
    }
   ],
   "source": [
    "[[binomial(n, k) for k in range(n+1)] for n in range(15)] "
   ]
  },
  {
   "cell_type": "code",
   "execution_count": null,
   "id": "68747101",
   "metadata": {},
   "outputs": [],
   "source": []
  }
 ],
 "metadata": {
  "kernelspec": {
   "display_name": "SageMath 9.5",
   "language": "sage",
   "name": "sagemath"
  },
  "language_info": {
   "codemirror_mode": {
    "name": "ipython",
    "version": 3
   },
   "file_extension": ".py",
   "mimetype": "text/x-python",
   "name": "python",
   "nbconvert_exporter": "python",
   "pygments_lexer": "ipython3",
   "version": "3.10.4"
  }
 },
 "nbformat": 4,
 "nbformat_minor": 5
}
