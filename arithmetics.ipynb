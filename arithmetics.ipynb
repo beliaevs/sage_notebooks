{
 "cells": [
  {
   "cell_type": "markdown",
   "id": "db3282ca",
   "metadata": {},
   "source": [
    "# Integers and Arithmetic Functions #"
   ]
  },
  {
   "cell_type": "code",
   "execution_count": 1,
   "id": "ac28d4b7",
   "metadata": {},
   "outputs": [
    {
     "data": {
      "text/plain": [
       "True"
      ]
     },
     "execution_count": 1,
     "metadata": {},
     "output_type": "execute_result"
    }
   ],
   "source": [
    "ZZ == IntegerRing()"
   ]
  },
  {
   "cell_type": "code",
   "execution_count": 4,
   "id": "9c18f904",
   "metadata": {},
   "outputs": [
    {
     "data": {
      "text/plain": [
       "True"
      ]
     },
     "execution_count": 4,
     "metadata": {},
     "output_type": "execute_result"
    }
   ],
   "source": [
    "QQ == RationalField()"
   ]
  },
  {
   "cell_type": "markdown",
   "id": "48d4c389",
   "metadata": {},
   "source": [
    "Elements of $\\mathbb{Z}/{n\\mathbb{Z}}$, here $a\\in\\mathbb{Z}/{23\\mathbb{Z}}$"
   ]
  },
  {
   "cell_type": "code",
   "execution_count": 8,
   "id": "2ba4c6c0",
   "metadata": {},
   "outputs": [],
   "source": [
    "a = Mod(19,23)"
   ]
  },
  {
   "cell_type": "code",
   "execution_count": 14,
   "id": "bee8cf62",
   "metadata": {},
   "outputs": [
    {
     "data": {
      "text/plain": [
       "4"
      ]
     },
     "execution_count": 14,
     "metadata": {},
     "output_type": "execute_result"
    }
   ],
   "source": [
    "a^1000000"
   ]
  },
  {
   "cell_type": "code",
   "execution_count": 10,
   "id": "398b7071",
   "metadata": {},
   "outputs": [
    {
     "data": {
      "text/plain": [
       "Ring of integers modulo 23"
      ]
     },
     "execution_count": 10,
     "metadata": {},
     "output_type": "execute_result"
    }
   ],
   "source": [
    "parent(a)"
   ]
  },
  {
   "cell_type": "markdown",
   "id": "f4b0ee55",
   "metadata": {},
   "source": [
    "Chineese remainder theorem"
   ]
  },
  {
   "cell_type": "code",
   "execution_count": 15,
   "id": "23440e9d",
   "metadata": {},
   "outputs": [],
   "source": [
    "remainders = [1, 2, 3]; moduli = [17, 19, 23]; a = CRT_list(remainders, moduli)"
   ]
  },
  {
   "cell_type": "code",
   "execution_count": 16,
   "id": "f376f496",
   "metadata": {},
   "outputs": [
    {
     "data": {
      "text/plain": [
       "True"
      ]
     },
     "execution_count": 16,
     "metadata": {},
     "output_type": "execute_result"
    }
   ],
   "source": [
    "remainders == [a % p for p in moduli]"
   ]
  },
  {
   "cell_type": "code",
   "execution_count": 17,
   "id": "2b27b296",
   "metadata": {},
   "outputs": [],
   "source": [
    "E = crt_basis(moduli)"
   ]
  },
  {
   "cell_type": "code",
   "execution_count": 20,
   "id": "0a7622b5",
   "metadata": {},
   "outputs": [
    {
     "data": {
      "text/plain": [
       "[[1, 0, 0], [0, 1, 0], [0, 0, 1]]"
      ]
     },
     "execution_count": 20,
     "metadata": {},
     "output_type": "execute_result"
    }
   ],
   "source": [
    "[[k%m for m in moduli] for k in E] "
   ]
  },
  {
   "cell_type": "code",
   "execution_count": 23,
   "id": "f08f43b7",
   "metadata": {},
   "outputs": [
    {
     "data": {
      "text/plain": [
       "3"
      ]
     },
     "execution_count": 23,
     "metadata": {},
     "output_type": "execute_result"
    }
   ],
   "source": [
    "from sage.rings.integer import GCD_list; GCD_list([123, 345, 678])"
   ]
  },
  {
   "cell_type": "code",
   "execution_count": 24,
   "id": "87350bd2",
   "metadata": {},
   "outputs": [
    {
     "data": {
      "text/plain": [
       "3"
      ]
     },
     "execution_count": 24,
     "metadata": {},
     "output_type": "execute_result"
    }
   ],
   "source": [
    "GCD_list([123, 234])"
   ]
  },
  {
   "cell_type": "code",
   "execution_count": 26,
   "id": "3e03bafc",
   "metadata": {},
   "outputs": [
    {
     "data": {
      "text/plain": [
       "3"
      ]
     },
     "execution_count": 26,
     "metadata": {},
     "output_type": "execute_result"
    }
   ],
   "source": [
    "gcd([123, 345, 234])"
   ]
  },
  {
   "cell_type": "code",
   "execution_count": 27,
   "id": "f4d49eed",
   "metadata": {},
   "outputs": [
    {
     "data": {
      "text/plain": [
       "17 * 401 * 61681 * 340801 * 2787601 * 3173389601"
      ]
     },
     "execution_count": 27,
     "metadata": {},
     "output_type": "execute_result"
    }
   ],
   "source": [
    "factor(2^100+1)"
   ]
  },
  {
   "cell_type": "code",
   "execution_count": 29,
   "id": "91213e6b",
   "metadata": {},
   "outputs": [
    {
     "data": {
      "text/plain": [
       "[(1, 3),\n",
       " (2, 5),\n",
       " (3, 3^2),\n",
       " (4, 17),\n",
       " (5, 3 * 11),\n",
       " (6, 5 * 13),\n",
       " (7, 3 * 43),\n",
       " (8, 257),\n",
       " (9, 3^3 * 19),\n",
       " (10, 5^2 * 41),\n",
       " (11, 3 * 683),\n",
       " (12, 17 * 241),\n",
       " (13, 3 * 2731),\n",
       " (14, 5 * 29 * 113),\n",
       " (15, 3^2 * 11 * 331),\n",
       " (16, 65537),\n",
       " (17, 3 * 43691),\n",
       " (18, 5 * 13 * 37 * 109),\n",
       " (19, 3 * 174763),\n",
       " (20, 17 * 61681),\n",
       " (21, 3^2 * 43 * 5419),\n",
       " (22, 5 * 397 * 2113),\n",
       " (23, 3 * 2796203),\n",
       " (24, 97 * 257 * 673),\n",
       " (25, 3 * 11 * 251 * 4051),\n",
       " (26, 5 * 53 * 157 * 1613),\n",
       " (27, 3^4 * 19 * 87211),\n",
       " (28, 17 * 15790321),\n",
       " (29, 3 * 59 * 3033169),\n",
       " (30, 5^2 * 13 * 41 * 61 * 1321),\n",
       " (31, 3 * 715827883),\n",
       " (32, 641 * 6700417),\n",
       " (33, 3^2 * 67 * 683 * 20857),\n",
       " (34, 5 * 137 * 953 * 26317),\n",
       " (35, 3 * 11 * 43 * 281 * 86171),\n",
       " (36, 17 * 241 * 433 * 38737),\n",
       " (37, 3 * 1777 * 25781083),\n",
       " (38, 5 * 229 * 457 * 525313),\n",
       " (39, 3^2 * 2731 * 22366891),\n",
       " (40, 257 * 4278255361),\n",
       " (41, 3 * 83 * 8831418697),\n",
       " (42, 5 * 13 * 29 * 113 * 1429 * 14449),\n",
       " (43, 3 * 2932031007403),\n",
       " (44, 17 * 353 * 2931542417),\n",
       " (45, 3^3 * 11 * 19 * 331 * 18837001),\n",
       " (46, 5 * 277 * 1013 * 1657 * 30269),\n",
       " (47, 3 * 283 * 165768537521),\n",
       " (48, 193 * 65537 * 22253377),\n",
       " (49, 3 * 43 * 4363953127297),\n",
       " (50, 5^3 * 41 * 101 * 8101 * 268501),\n",
       " (51, 3^2 * 307 * 2857 * 6529 * 43691),\n",
       " (52, 17 * 858001 * 308761441),\n",
       " (53, 3 * 107 * 28059810762433),\n",
       " (54, 5 * 13 * 37 * 109 * 246241 * 279073),\n",
       " (55, 3 * 11^2 * 683 * 2971 * 48912491),\n",
       " (56, 257 * 5153 * 54410972897),\n",
       " (57, 3^2 * 571 * 174763 * 160465489),\n",
       " (58, 5 * 107367629 * 536903681),\n",
       " (59, 3 * 2833 * 37171 * 1824726041),\n",
       " (60, 17 * 241 * 61681 * 4562284561),\n",
       " (61, 3 * 768614336404564651),\n",
       " (62, 5 * 5581 * 8681 * 49477 * 384773),\n",
       " (63, 3^3 * 19 * 43 * 5419 * 77158673929),\n",
       " (64, 274177 * 67280421310721),\n",
       " (65, 3 * 11 * 131 * 2731 * 409891 * 7623851),\n",
       " (66, 5 * 13 * 397 * 2113 * 312709 * 4327489),\n",
       " (67, 3 * 7327657 * 6713103182899),\n",
       " (68, 17^2 * 354689 * 2879347902817),\n",
       " (69, 3^2 * 139 * 2796203 * 168749965921),\n",
       " (70, 5^2 * 29 * 41 * 113 * 7416361 * 47392381),\n",
       " (71, 3 * 56409643 * 13952598148481),\n",
       " (72, 97 * 257 * 577 * 673 * 487824887233),\n",
       " (73, 3 * 1753 * 1795918038741070627),\n",
       " (74, 5 * 149 * 593 * 184481113 * 231769777),\n",
       " (75, 3^2 * 11 * 251 * 331 * 4051 * 1133836730401),\n",
       " (76, 17 * 1217 * 148961 * 24517014940753),\n",
       " (77, 3 * 43 * 617 * 683 * 78233 * 35532364099),\n",
       " (78, 5 * 13^2 * 53 * 157 * 313 * 1249 * 1613 * 3121 * 21841),\n",
       " (79, 3 * 201487636602438195784363),\n",
       " (80, 65537 * 414721 * 44479210368001),\n",
       " (81, 3^5 * 19 * 163 * 87211 * 135433 * 272010961),\n",
       " (82, 5 * 10169 * 181549 * 12112549 * 43249589),\n",
       " (83, 3 * 499 * 1163 * 2657 * 155377 * 13455809771),\n",
       " (84, 17 * 241 * 3361 * 15790321 * 88959882481),\n",
       " (85, 3 * 11 * 43691 * 26831423036065352611),\n",
       " (86, 5 * 173 * 101653 * 500177 * 1759217765581),\n",
       " (87, 3^2 * 59 * 3033169 * 96076791871613611),\n",
       " (88, 257 * 229153 * 119782433 * 43872038849),\n",
       " (89, 3 * 179 * 62020897 * 18584774046020617),\n",
       " (90, 5^2 * 13 * 37 * 41 * 61 * 109 * 181 * 1321 * 54001 * 29247661),\n",
       " (91, 3 * 43 * 2731 * 224771 * 1210483 * 25829691707),\n",
       " (92, 17 * 291280009243618888211558641),\n",
       " (93, 3^2 * 529510939 * 715827883 * 2903110321),\n",
       " (94, 5 * 3761 * 7484047069 * 140737471578113),\n",
       " (95, 3 * 11 * 2281 * 174763 * 3011347479614249131),\n",
       " (96, 641 * 6700417 * 18446744069414584321),\n",
       " (97, 3 * 971 * 1553 * 31817 * 1100876018364883721),\n",
       " (98, 5 * 29 * 113 * 197 * 19707683773 * 4981857697937),\n",
       " (99, 3^3 * 19 * 67 * 683 * 5347 * 20857 * 242099935645987)]"
      ]
     },
     "execution_count": 29,
     "metadata": {},
     "output_type": "execute_result"
    }
   ],
   "source": [
    "[(n, factor(2^n+1)) for n in range(1, 100)]"
   ]
  },
  {
   "cell_type": "code",
   "execution_count": null,
   "id": "f796429a",
   "metadata": {},
   "outputs": [],
   "source": []
  }
 ],
 "metadata": {
  "kernelspec": {
   "display_name": "SageMath 9.5",
   "language": "sage",
   "name": "sagemath"
  },
  "language_info": {
   "codemirror_mode": {
    "name": "ipython",
    "version": 3
   },
   "file_extension": ".py",
   "mimetype": "text/x-python",
   "name": "python",
   "nbconvert_exporter": "python",
   "pygments_lexer": "ipython3",
   "version": "3.10.4"
  }
 },
 "nbformat": 4,
 "nbformat_minor": 5
}
