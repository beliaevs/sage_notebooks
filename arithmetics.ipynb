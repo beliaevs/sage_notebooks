{
 "cells": [
  {
   "cell_type": "markdown",
   "id": "db3282ca",
   "metadata": {},
   "source": [
    "# Integers and Arithmetic Functions #"
   ]
  },
  {
   "cell_type": "code",
   "execution_count": null,
   "id": "ac28d4b7",
   "metadata": {},
   "outputs": [],
   "source": [
    "ZZ == IntegerRing()"
   ]
  },
  {
   "cell_type": "code",
   "execution_count": null,
   "id": "9c18f904",
   "metadata": {},
   "outputs": [],
   "source": [
    "QQ == RationalField()"
   ]
  },
  {
   "cell_type": "markdown",
   "id": "48d4c389",
   "metadata": {},
   "source": [
    "Elements of $\\mathbb{Z}/{n\\mathbb{Z}}$, here $a\\in\\mathbb{Z}/{23\\mathbb{Z}}$"
   ]
  },
  {
   "cell_type": "code",
   "execution_count": null,
   "id": "2ba4c6c0",
   "metadata": {},
   "outputs": [],
   "source": [
    "a = Mod(19,23)"
   ]
  },
  {
   "cell_type": "code",
   "execution_count": null,
   "id": "bee8cf62",
   "metadata": {},
   "outputs": [],
   "source": [
    "a^1000000"
   ]
  },
  {
   "cell_type": "code",
   "execution_count": null,
   "id": "398b7071",
   "metadata": {},
   "outputs": [],
   "source": [
    "parent(a)"
   ]
  },
  {
   "cell_type": "markdown",
   "id": "f4b0ee55",
   "metadata": {},
   "source": [
    "Chineese remainder theorem"
   ]
  },
  {
   "cell_type": "code",
   "execution_count": null,
   "id": "23440e9d",
   "metadata": {},
   "outputs": [],
   "source": [
    "remainders = [1, 2, 3]; moduli = [17, 19, 23]; a = CRT_list(remainders, moduli)"
   ]
  },
  {
   "cell_type": "code",
   "execution_count": null,
   "id": "f376f496",
   "metadata": {},
   "outputs": [],
   "source": [
    "remainders == [a % p for p in moduli]"
   ]
  },
  {
   "cell_type": "code",
   "execution_count": null,
   "id": "2b27b296",
   "metadata": {},
   "outputs": [],
   "source": [
    "E = crt_basis(moduli)"
   ]
  },
  {
   "cell_type": "code",
   "execution_count": null,
   "id": "0a7622b5",
   "metadata": {},
   "outputs": [],
   "source": [
    "[[k%m for m in moduli] for k in E] "
   ]
  },
  {
   "cell_type": "code",
   "execution_count": null,
   "id": "f08f43b7",
   "metadata": {},
   "outputs": [],
   "source": [
    "from sage.rings.integer import GCD_list; GCD_list([123, 345, 678])"
   ]
  },
  {
   "cell_type": "code",
   "execution_count": null,
   "id": "87350bd2",
   "metadata": {},
   "outputs": [],
   "source": [
    "GCD_list([123, 234])"
   ]
  },
  {
   "cell_type": "code",
   "execution_count": null,
   "id": "3e03bafc",
   "metadata": {},
   "outputs": [],
   "source": [
    "gcd([123, 345, 234])"
   ]
  },
  {
   "cell_type": "code",
   "execution_count": null,
   "id": "f4d49eed",
   "metadata": {},
   "outputs": [],
   "source": [
    "factor(2^100+1)"
   ]
  },
  {
   "cell_type": "code",
   "execution_count": null,
   "id": "91213e6b",
   "metadata": {},
   "outputs": [],
   "source": [
    "[(n, factor(2^n+1)) for n in range(1, 100)]"
   ]
  },
  {
   "cell_type": "code",
   "execution_count": null,
   "id": "f796429a",
   "metadata": {},
   "outputs": [],
   "source": []
  },
  {
   "cell_type": "code",
   "execution_count": null,
   "id": "0f6448c9",
   "metadata": {},
   "outputs": [],
   "source": []
  }
 ],
 "metadata": {
  "kernelspec": {
   "display_name": "SageMath 9.5",
   "language": "sage",
   "name": "sagemath"
  },
  "language_info": {
   "codemirror_mode": {
    "name": "ipython",
    "version": 3
   },
   "file_extension": ".py",
   "mimetype": "text/x-python",
   "name": "python",
   "nbconvert_exporter": "python",
   "pygments_lexer": "ipython3",
   "version": "3.10.4"
  }
 },
 "nbformat": 4,
 "nbformat_minor": 5
}
