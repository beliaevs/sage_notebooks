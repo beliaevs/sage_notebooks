{
 "cells": [
  {
   "cell_type": "code",
   "execution_count": null,
   "id": "de045eb3",
   "metadata": {},
   "outputs": [],
   "source": [
    "from sage.crypto.util import carmichael_lambda"
   ]
  },
  {
   "cell_type": "code",
   "execution_count": null,
   "id": "734fcfb6",
   "metadata": {},
   "outputs": [],
   "source": [
    "def isCarmichael(n):\n",
    "    if is_prime(n):\n",
    "        return False\n",
    "    Zn = IntegerModRing(n)\n",
    "    for k in range(1, n):\n",
    "        if gcd(k, n) != 1:\n",
    "            continue\n",
    "        kp = Zn(k)\n",
    "        if kp^n != kp:\n",
    "            return False\n",
    "    return True"
   ]
  },
  {
   "cell_type": "code",
   "execution_count": null,
   "id": "f23a62d3",
   "metadata": {},
   "outputs": [],
   "source": [
    "isCarmichael(561)"
   ]
  },
  {
   "cell_type": "code",
   "execution_count": null,
   "id": "4f0d976f",
   "metadata": {},
   "outputs": [],
   "source": [
    "[a for a in range(1, 100000) if isCarmichael(a)]"
   ]
  },
  {
   "cell_type": "code",
   "execution_count": null,
   "id": "38369177",
   "metadata": {},
   "outputs": [],
   "source": [
    "[factor(a) for a in range(2, 100000) if isCarmichael(a)]"
   ]
  },
  {
   "cell_type": "code",
   "execution_count": null,
   "id": "6ae6a3d9",
   "metadata": {},
   "outputs": [],
   "source": [
    "def fastCar(n):\n",
    "    if is_prime(n):\n",
    "        return False\n",
    "    return (n-1) % carmichael_lambda(n) == 0"
   ]
  },
  {
   "cell_type": "code",
   "execution_count": null,
   "id": "712f8b65",
   "metadata": {},
   "outputs": [],
   "source": [
    "fastCar(561)"
   ]
  },
  {
   "cell_type": "code",
   "execution_count": null,
   "id": "5c781ce6",
   "metadata": {},
   "outputs": [],
   "source": [
    "[a for a in range(2, 1000000) if fastCar(a)]"
   ]
  },
  {
   "cell_type": "code",
   "execution_count": null,
   "id": "c396f710",
   "metadata": {},
   "outputs": [],
   "source": []
  }
 ],
 "metadata": {
  "kernelspec": {
   "display_name": "SageMath 9.5",
   "language": "sage",
   "name": "sagemath"
  },
  "language_info": {
   "codemirror_mode": {
    "name": "ipython",
    "version": 3
   },
   "file_extension": ".py",
   "mimetype": "text/x-python",
   "name": "python",
   "nbconvert_exporter": "python",
   "pygments_lexer": "ipython3",
   "version": "3.10.6"
  }
 },
 "nbformat": 4,
 "nbformat_minor": 5
}
