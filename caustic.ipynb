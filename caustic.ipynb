{
 "cells": [
  {
   "cell_type": "code",
   "execution_count": null,
   "id": "7be4f196",
   "metadata": {},
   "outputs": [],
   "source": [
    "G = circle((0,0), 1)"
   ]
  },
  {
   "cell_type": "code",
   "execution_count": null,
   "id": "394ef08f",
   "metadata": {},
   "outputs": [],
   "source": [
    "n = 50; a = pi/2"
   ]
  },
  {
   "cell_type": "code",
   "execution_count": null,
   "id": "de99ba87",
   "metadata": {},
   "outputs": [],
   "source": [
    "for i in range(n):\n",
    "    phi = -a+2*a*i/n\n",
    "    psi = 3*phi-pi\n",
    "    p = (cos(phi), sin(phi))\n",
    "    #G += line2d([(-1, p[1]), p], color='red')\n",
    "    G += line2d([(cos(psi), sin(psi)), p], color='red')"
   ]
  },
  {
   "cell_type": "code",
   "execution_count": null,
   "id": "a3f8d847",
   "metadata": {},
   "outputs": [],
   "source": [
    "plot(G)"
   ]
  },
  {
   "cell_type": "code",
   "execution_count": null,
   "id": "a7d6f314",
   "metadata": {},
   "outputs": [],
   "source": []
  }
 ],
 "metadata": {
  "kernelspec": {
   "display_name": "SageMath 9.5",
   "language": "sage",
   "name": "sagemath"
  },
  "language_info": {
   "codemirror_mode": {
    "name": "ipython",
    "version": 3
   },
   "file_extension": ".py",
   "mimetype": "text/x-python",
   "name": "python",
   "nbconvert_exporter": "python",
   "pygments_lexer": "ipython3",
   "version": "3.10.4"
  }
 },
 "nbformat": 4,
 "nbformat_minor": 5
}
