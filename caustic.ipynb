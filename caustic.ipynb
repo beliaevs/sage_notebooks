{
 "cells": [
  {
   "cell_type": "code",
   "execution_count": null,
   "id": "8cd20821",
   "metadata": {},
   "outputs": [],
   "source": [
    "def make_caustic(n, a, b, color):\n",
    "    eps = 0.01\n",
    "    r = max(eps, b-a)\n",
    "    phis = [asin(t) for t in sxrange(a, a+r, r/n)]\n",
    "    G = circle((0,0), 1)\n",
    "    for phi in phis:\n",
    "        psi = 3.0*phi-N(pi)\n",
    "        p = (cos(phi), sin(phi))\n",
    "        G += line2d([(-1, p[1]), p], color=color, thickness=0.1)\n",
    "        G += line2d([(cos(psi), sin(psi)), p], color=color, thickness=0.1)\n",
    "    return G"
   ]
  },
  {
   "cell_type": "code",
   "execution_count": null,
   "id": "a12b28c8",
   "metadata": {},
   "outputs": [],
   "source": [
    "G = make_caustic(50, 0, 0.5, 'red')"
   ]
  },
  {
   "cell_type": "code",
   "execution_count": null,
   "id": "3b81ec5f",
   "metadata": {},
   "outputs": [],
   "source": [
    "G.plot()"
   ]
  },
  {
   "cell_type": "code",
   "execution_count": null,
   "id": "2c13ef37",
   "metadata": {},
   "outputs": [],
   "source": [
    "@interact\n",
    "def t(n = (20, (2, 100)), r = range_slider(-1, 1, default=(-1,1), step_size=0.02), c = color_selector(widget='colorpicker', label=\"\")):\n",
    "    show(make_caustic(n, r[0], r[1], c))"
   ]
  },
  {
   "cell_type": "code",
   "execution_count": null,
   "id": "b11a314c",
   "metadata": {},
   "outputs": [],
   "source": [
    "help(line2d)"
   ]
  },
  {
   "cell_type": "code",
   "execution_count": null,
   "id": "fc4379b6",
   "metadata": {},
   "outputs": [],
   "source": []
  }
 ],
 "metadata": {
  "kernelspec": {
   "display_name": "SageMath 9.5",
   "language": "sage",
   "name": "sagemath"
  },
  "language_info": {
   "codemirror_mode": {
    "name": "ipython",
    "version": 3
   },
   "file_extension": ".py",
   "mimetype": "text/x-python",
   "name": "python",
   "nbconvert_exporter": "python",
   "pygments_lexer": "ipython3",
   "version": "3.10.4"
  }
 },
 "nbformat": 4,
 "nbformat_minor": 5
}
