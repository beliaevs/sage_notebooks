{
 "cells": [
  {
   "cell_type": "code",
   "execution_count": null,
   "id": "f5ce39dd",
   "metadata": {},
   "outputs": [],
   "source": [
    "def next_gen(row):\n",
    "    res = row[:]\n",
    "    n = len(row)\n",
    "    states = {(0, 0, 0): 0, (0, 0, 1): 1, (0, 1, 0): 1, (0, 1, 1): 1, (1, 0, 0): 1, (1, 0, 1): 0, (1, 1, 0): 0, (1, 1, 1): 0}\n",
    "    for i in range(n):\n",
    "        nei = (row[i - 1], row[i], row[(i+1)%n])\n",
    "        res[i] = states[nei]\n",
    "    return res     "
   ]
  },
  {
   "cell_type": "code",
   "execution_count": null,
   "id": "f91e5f8e",
   "metadata": {},
   "outputs": [],
   "source": [
    "init = [1, 0, 0, 1, 0, 1, 0, 0, 0, 1, 1, 1, 1, 0, 1, 0, 0, 1, 1, 0, 1, 1, 1]"
   ]
  },
  {
   "cell_type": "code",
   "execution_count": null,
   "id": "9d1abad6",
   "metadata": {},
   "outputs": [],
   "source": [
    "def get_pattern(init, gens):\n",
    "    res = [init[:]]\n",
    "    prev = init[:]\n",
    "    for i in range(gens):\n",
    "        next = next_gen(prev)\n",
    "        res.append(next)\n",
    "        prev = next\n",
    "    return res\n",
    "        "
   ]
  },
  {
   "cell_type": "code",
   "execution_count": null,
   "id": "bb57d274",
   "metadata": {},
   "outputs": [],
   "source": [
    "pattern = get_pattern(init, 100)"
   ]
  },
  {
   "cell_type": "code",
   "execution_count": null,
   "id": "29e8f81e",
   "metadata": {},
   "outputs": [],
   "source": [
    "matrix_plot(pattern, ticks=[[],[]])"
   ]
  },
  {
   "cell_type": "code",
   "execution_count": null,
   "id": "218693fd",
   "metadata": {},
   "outputs": [],
   "source": [
    "init = 40*[0, 0, 1, 0] + [0, 0, 0, 0]"
   ]
  },
  {
   "cell_type": "code",
   "execution_count": null,
   "id": "7021e496",
   "metadata": {},
   "outputs": [],
   "source": [
    "pattern = get_pattern(init, 200)"
   ]
  },
  {
   "cell_type": "code",
   "execution_count": null,
   "id": "28938428",
   "metadata": {},
   "outputs": [],
   "source": [
    "matrix_plot(pattern, ticks=[[],[]])"
   ]
  },
  {
   "cell_type": "code",
   "execution_count": null,
   "id": "776bacc4",
   "metadata": {},
   "outputs": [],
   "source": []
  }
 ],
 "metadata": {
  "kernelspec": {
   "display_name": "SageMath 9.5",
   "language": "sage",
   "name": "sagemath"
  },
  "language_info": {
   "codemirror_mode": {
    "name": "ipython",
    "version": 3
   },
   "file_extension": ".py",
   "mimetype": "text/x-python",
   "name": "python",
   "nbconvert_exporter": "python",
   "pygments_lexer": "ipython3",
   "version": "3.10.12"
  }
 },
 "nbformat": 4,
 "nbformat_minor": 5
}
