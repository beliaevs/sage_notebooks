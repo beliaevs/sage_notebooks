{
 "cells": [
  {
   "cell_type": "code",
   "execution_count": null,
   "id": "602dba29",
   "metadata": {},
   "outputs": [],
   "source": [
    "def print_approx(x, n):\n",
    "    a = continued_fraction(x)\n",
    "    return [(i, a.convergent(i), N(x - a.convergent(i), digits=n)) for i in range(n)]"
   ]
  },
  {
   "cell_type": "code",
   "execution_count": null,
   "id": "5ef2cb2b",
   "metadata": {},
   "outputs": [],
   "source": [
    "print_approx(pi, 10)"
   ]
  },
  {
   "cell_type": "code",
   "execution_count": null,
   "id": "f34497d0",
   "metadata": {},
   "outputs": [],
   "source": [
    "print_approx(e, 10)"
   ]
  },
  {
   "cell_type": "code",
   "execution_count": null,
   "id": "48f51018",
   "metadata": {},
   "outputs": [],
   "source": [
    "print_approx(sqrt(2), 10)"
   ]
  }
 ],
 "metadata": {
  "kernelspec": {
   "display_name": "SageMath 9.5",
   "language": "sage",
   "name": "sagemath"
  },
  "language_info": {
   "codemirror_mode": {
    "name": "ipython",
    "version": 3
   },
   "file_extension": ".py",
   "mimetype": "text/x-python",
   "name": "python",
   "nbconvert_exporter": "python",
   "pygments_lexer": "ipython3",
   "version": "3.10.4"
  }
 },
 "nbformat": 4,
 "nbformat_minor": 5
}
