{
 "cells": [
  {
   "cell_type": "code",
   "execution_count": null,
   "id": "1e3a514f",
   "metadata": {},
   "outputs": [],
   "source": [
    "var('x k w')"
   ]
  },
  {
   "cell_type": "code",
   "execution_count": null,
   "id": "23bb6206",
   "metadata": {},
   "outputs": [],
   "source": [
    "f = x^3 * e^(k*x) * sin(w*x); f"
   ]
  },
  {
   "cell_type": "code",
   "execution_count": null,
   "id": "eaa1ae1d",
   "metadata": {},
   "outputs": [],
   "source": [
    "f.diff(x)"
   ]
  },
  {
   "cell_type": "code",
   "execution_count": null,
   "id": "4b6849d5",
   "metadata": {},
   "outputs": [],
   "source": [
    "latex(f.diff(x))"
   ]
  },
  {
   "cell_type": "code",
   "execution_count": null,
   "id": "b1a50a90",
   "metadata": {},
   "outputs": [],
   "source": [
    "show(f)"
   ]
  },
  {
   "cell_type": "code",
   "execution_count": null,
   "id": "272aa534",
   "metadata": {},
   "outputs": [],
   "source": [
    "show(f.diff(x))"
   ]
  },
  {
   "cell_type": "code",
   "execution_count": null,
   "id": "2c04129d",
   "metadata": {},
   "outputs": [],
   "source": [
    "R = PolynomialRing(QQ,\"x\")"
   ]
  },
  {
   "cell_type": "code",
   "execution_count": null,
   "id": "1fd147c2",
   "metadata": {},
   "outputs": [],
   "source": [
    "x = R.gen()"
   ]
  },
  {
   "cell_type": "code",
   "execution_count": null,
   "id": "ad003217",
   "metadata": {},
   "outputs": [],
   "source": [
    "p = x^2 + 1"
   ]
  },
  {
   "cell_type": "code",
   "execution_count": null,
   "id": "fa07a9a1",
   "metadata": {},
   "outputs": [],
   "source": [
    "show(p.derivative())"
   ]
  },
  {
   "cell_type": "code",
   "execution_count": null,
   "id": "1b013389",
   "metadata": {},
   "outputs": [],
   "source": [
    "p.integral()"
   ]
  },
  {
   "cell_type": "code",
   "execution_count": null,
   "id": "9f054751",
   "metadata": {},
   "outputs": [],
   "source": [
    "x = PolynomialRing(RationalField(), 'x').gen()"
   ]
  },
  {
   "cell_type": "code",
   "execution_count": null,
   "id": "d6961994",
   "metadata": {},
   "outputs": [],
   "source": [
    "f1 = x^0"
   ]
  },
  {
   "cell_type": "code",
   "execution_count": null,
   "id": "6e08a98d",
   "metadata": {},
   "outputs": [],
   "source": [
    "f2 = 1-x"
   ]
  },
  {
   "cell_type": "code",
   "execution_count": null,
   "id": "314e61d0",
   "metadata": {},
   "outputs": [],
   "source": [
    "f3 = 2*x"
   ]
  },
  {
   "cell_type": "code",
   "execution_count": null,
   "id": "7d18b321",
   "metadata": {},
   "outputs": [],
   "source": [
    "f4 = 10*x-x^2"
   ]
  },
  {
   "cell_type": "code",
   "execution_count": null,
   "id": "150339a2",
   "metadata": {},
   "outputs": [],
   "source": [
    "f = piecewise([((0,1),f1), ((1,2),f2), ((2,3),f3), ((3,10),f4)])"
   ]
  },
  {
   "cell_type": "code",
   "execution_count": null,
   "id": "67cc72b9",
   "metadata": {},
   "outputs": [],
   "source": [
    "f.critical_points()"
   ]
  },
  {
   "cell_type": "code",
   "execution_count": null,
   "id": "0f4dedee",
   "metadata": {},
   "outputs": [],
   "source": [
    "plot(f, [x, 0, 10])"
   ]
  },
  {
   "cell_type": "code",
   "execution_count": null,
   "id": "a0ca0f15",
   "metadata": {},
   "outputs": [],
   "source": [
    "var('f0 k x')"
   ]
  },
  {
   "cell_type": "code",
   "execution_count": null,
   "id": "1b833525",
   "metadata": {},
   "outputs": [],
   "source": [
    "g = f0/sinh(k*x)^4"
   ]
  },
  {
   "cell_type": "code",
   "execution_count": null,
   "id": "2bc0f3cf",
   "metadata": {},
   "outputs": [],
   "source": [
    "g.taylor(x, 0, 3)"
   ]
  },
  {
   "cell_type": "code",
   "execution_count": null,
   "id": "d2666aab",
   "metadata": {},
   "outputs": [],
   "source": [
    "(1/(2-cos(x))).series(x,7)"
   ]
  },
  {
   "cell_type": "code",
   "execution_count": null,
   "id": "8d1e9ce4",
   "metadata": {},
   "outputs": [],
   "source": [
    "f = log(sin(x)/x)"
   ]
  },
  {
   "cell_type": "code",
   "execution_count": null,
   "id": "035f2a84",
   "metadata": {},
   "outputs": [],
   "source": [
    "f.taylor(x, 0, 10)"
   ]
  },
  {
   "cell_type": "code",
   "execution_count": null,
   "id": "21432c15",
   "metadata": {},
   "outputs": [],
   "source": [
    "maxima(f).powerseries(x,0)._sage_()"
   ]
  },
  {
   "cell_type": "code",
   "execution_count": null,
   "id": "b4a8afd4",
   "metadata": {},
   "outputs": [],
   "source": [
    "show(maxima(f).powerseries(x,0)._sage_())"
   ]
  },
  {
   "cell_type": "code",
   "execution_count": null,
   "id": "958a593b",
   "metadata": {},
   "outputs": [],
   "source": [
    "show(maxima(tan(x)).powerseries(x, 0)._sage_())"
   ]
  },
  {
   "cell_type": "code",
   "execution_count": null,
   "id": "146dc525",
   "metadata": {},
   "outputs": [],
   "source": [
    "R.<w> = QQ[[]]"
   ]
  },
  {
   "cell_type": "code",
   "execution_count": null,
   "id": "528bb2ee",
   "metadata": {},
   "outputs": [],
   "source": [
    "ps = w + 17/2*w^2 + 15/4*w^4 + O(w^6); ps"
   ]
  },
  {
   "cell_type": "code",
   "execution_count": null,
   "id": "6032579b",
   "metadata": {},
   "outputs": [],
   "source": [
    "ps.exp()"
   ]
  },
  {
   "cell_type": "code",
   "execution_count": null,
   "id": "ffb5e0b6",
   "metadata": {},
   "outputs": [],
   "source": [
    "R"
   ]
  },
  {
   "cell_type": "code",
   "execution_count": null,
   "id": "dd13afc9",
   "metadata": {},
   "outputs": [],
   "source": [
    "(1+ps).log()"
   ]
  },
  {
   "cell_type": "code",
   "execution_count": null,
   "id": "b71ee51a",
   "metadata": {},
   "outputs": [],
   "source": [
    "(ps^1000).coefficients()"
   ]
  },
  {
   "cell_type": "code",
   "execution_count": null,
   "id": "272c492d",
   "metadata": {},
   "outputs": [],
   "source": [
    "f = x^3"
   ]
  },
  {
   "cell_type": "code",
   "execution_count": null,
   "id": "12f29c57",
   "metadata": {},
   "outputs": [],
   "source": [
    "f.integral(x)"
   ]
  },
  {
   "cell_type": "code",
   "execution_count": null,
   "id": "63d79813",
   "metadata": {},
   "outputs": [],
   "source": [
    "f = x*sin(x^2)"
   ]
  },
  {
   "cell_type": "code",
   "execution_count": null,
   "id": "0d327a3c",
   "metadata": {},
   "outputs": [],
   "source": [
    "integral(f,x)"
   ]
  },
  {
   "cell_type": "code",
   "execution_count": null,
   "id": "7bb80780",
   "metadata": {},
   "outputs": [],
   "source": [
    "integrate(1/x^2, x, 1, infinity)"
   ]
  },
  {
   "cell_type": "code",
   "execution_count": null,
   "id": "34df1724",
   "metadata": {},
   "outputs": [],
   "source": [
    "help(piecewise)"
   ]
  },
  {
   "cell_type": "code",
   "execution_count": null,
   "id": "df62de76",
   "metadata": {},
   "outputs": [],
   "source": [
    "f = piecewise([((0,pi/2), -1), ((pi/2,pi), 2)])"
   ]
  },
  {
   "cell_type": "code",
   "execution_count": null,
   "id": "76868393",
   "metadata": {},
   "outputs": [],
   "source": [
    "s5 = f.fourier_series_partial_sum(5); s5"
   ]
  },
  {
   "cell_type": "code",
   "execution_count": null,
   "id": "ea10f1f0",
   "metadata": {},
   "outputs": [],
   "source": [
    "plot(f, (0,pi)) + plot(s5, (x,0,pi), color='red')"
   ]
  },
  {
   "cell_type": "code",
   "execution_count": null,
   "id": "2ae64283",
   "metadata": {},
   "outputs": [],
   "source": [
    "f = piecewise([((-pi, 0), -1), ((0, pi), 1)])"
   ]
  },
  {
   "cell_type": "code",
   "execution_count": null,
   "id": "c15ac7f3",
   "metadata": {},
   "outputs": [],
   "source": [
    "plot(f, [-pi, pi]) + plot(f.fourier_series_partial_sum(20), [x, -pi, pi], color='red')"
   ]
  },
  {
   "cell_type": "code",
   "execution_count": null,
   "id": "d05dec8f",
   "metadata": {},
   "outputs": [],
   "source": []
  }
 ],
 "metadata": {
  "kernelspec": {
   "display_name": "SageMath 9.5",
   "language": "sage",
   "name": "sagemath"
  },
  "language_info": {
   "codemirror_mode": {
    "name": "ipython",
    "version": 3
   },
   "file_extension": ".py",
   "mimetype": "text/x-python",
   "name": "python",
   "nbconvert_exporter": "python",
   "pygments_lexer": "ipython3",
   "version": "3.10.6"
  }
 },
 "nbformat": 4,
 "nbformat_minor": 5
}
