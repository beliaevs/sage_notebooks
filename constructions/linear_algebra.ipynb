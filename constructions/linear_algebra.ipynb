{
 "cells": [
  {
   "cell_type": "code",
   "execution_count": 1,
   "id": "0c98688c",
   "metadata": {},
   "outputs": [],
   "source": [
    "Mat7_7 = MatrixSpace(QQ, 7, 7)"
   ]
  },
  {
   "cell_type": "code",
   "execution_count": 2,
   "id": "0a4b7751",
   "metadata": {},
   "outputs": [],
   "source": [
    "hilbert77 = Mat7_7([1/(k+l)  for k in range(1, 8) for l in range(1, 8)])"
   ]
  },
  {
   "cell_type": "code",
   "execution_count": 3,
   "id": "03230d3d",
   "metadata": {},
   "outputs": [
    {
     "data": {
      "text/plain": [
       "[ 1/2  1/3  1/4  1/5  1/6  1/7  1/8]\n",
       "[ 1/3  1/4  1/5  1/6  1/7  1/8  1/9]\n",
       "[ 1/4  1/5  1/6  1/7  1/8  1/9 1/10]\n",
       "[ 1/5  1/6  1/7  1/8  1/9 1/10 1/11]\n",
       "[ 1/6  1/7  1/8  1/9 1/10 1/11 1/12]\n",
       "[ 1/7  1/8  1/9 1/10 1/11 1/12 1/13]\n",
       "[ 1/8  1/9 1/10 1/11 1/12 1/13 1/14]"
      ]
     },
     "execution_count": 3,
     "metadata": {},
     "output_type": "execute_result"
    }
   ],
   "source": [
    "hilbert77"
   ]
  },
  {
   "cell_type": "code",
   "execution_count": 4,
   "id": "871e82fc",
   "metadata": {},
   "outputs": [
    {
     "data": {
      "text/plain": [
       "x^7 - 363/280*x^6 + 1278639679/8657288640*x^5 - 672728317/661102041600*x^4 + 1863308364413/6652246739314176000*x^3 - 200163947/101597950200434688000*x^2 + 5212451/25346656616004445962240000*x - 1/7097063852481244869427200000"
      ]
     },
     "execution_count": 4,
     "metadata": {},
     "output_type": "execute_result"
    }
   ],
   "source": [
    "hilbert77.charpoly()"
   ]
  },
  {
   "cell_type": "code",
   "execution_count": 6,
   "id": "7e279f85",
   "metadata": {},
   "outputs": [
    {
     "data": {
      "text/plain": [
       "[      1568     -28224     176400    -517440     776160    -576576     168168]\n",
       "[    -28224     571536   -3810240   11642400  -17962560   13621608   -4036032]\n",
       "[    176400   -3810240   26460000  -83160000  130977000 -100900800   30270240]\n",
       "[   -517440   11642400  -83160000  266805000 -426888000  332972640 -100900800]\n",
       "[    776160  -17962560  130977000 -426888000  691558560 -544864320  166486320]\n",
       "[   -576576   13621608 -100900800  332972640 -544864320  432864432 -133189056]\n",
       "[    168168   -4036032   30270240 -100900800  166486320 -133189056   41225184]"
      ]
     },
     "execution_count": 6,
     "metadata": {},
     "output_type": "execute_result"
    }
   ],
   "source": [
    "hilbert77.inverse()"
   ]
  },
  {
   "cell_type": "code",
   "execution_count": 7,
   "id": "1b1296e7",
   "metadata": {},
   "outputs": [
    {
     "data": {
      "text/plain": [
       "[6.897297607880880?e-10, 1.0527651812232976?e-7, 7.114199718268353?e-6, 0.0002796650552059778?, 0.007055885770693261?, 0.1180375605198692?, 1.171048239916837?]"
      ]
     },
     "execution_count": 7,
     "metadata": {},
     "output_type": "execute_result"
    }
   ],
   "source": [
    "hilbert77.eigenvalues()"
   ]
  },
  {
   "cell_type": "code",
   "execution_count": 12,
   "id": "7956a5e1",
   "metadata": {},
   "outputs": [],
   "source": [
    "C = codes.HammingCode(GF(3), 3)"
   ]
  },
  {
   "cell_type": "code",
   "execution_count": 13,
   "id": "47ada044",
   "metadata": {},
   "outputs": [
    {
     "data": {
      "text/plain": [
       "3"
      ]
     },
     "execution_count": 13,
     "metadata": {},
     "output_type": "execute_result"
    }
   ],
   "source": [
    "C.minimum_distance()"
   ]
  },
  {
   "cell_type": "code",
   "execution_count": 14,
   "id": "850fd19d",
   "metadata": {},
   "outputs": [
    {
     "data": {
      "text/plain": [
       "[1 0 0 0 0 0 0 0 0 0 1 2 0]\n",
       "[0 1 0 0 0 0 0 0 0 0 0 1 2]\n",
       "[0 0 1 0 0 0 0 0 0 0 1 0 2]\n",
       "[0 0 0 1 0 0 0 0 0 0 1 1 1]\n",
       "[0 0 0 0 1 0 0 0 0 0 1 1 2]\n",
       "[0 0 0 0 0 1 0 0 0 0 2 0 2]\n",
       "[0 0 0 0 0 0 1 0 0 0 1 2 1]\n",
       "[0 0 0 0 0 0 0 1 0 0 2 1 1]\n",
       "[0 0 0 0 0 0 0 0 1 0 2 2 0]\n",
       "[0 0 0 0 0 0 0 0 0 1 0 1 1]"
      ]
     },
     "execution_count": 14,
     "metadata": {},
     "output_type": "execute_result"
    }
   ],
   "source": [
    "C.generator_matrix()"
   ]
  },
  {
   "cell_type": "code",
   "execution_count": 15,
   "id": "46149c8d",
   "metadata": {},
   "outputs": [],
   "source": [
    "C2 = codes.HammingCode(GF(2), 3)"
   ]
  },
  {
   "cell_type": "code",
   "execution_count": 16,
   "id": "1cda58e6",
   "metadata": {},
   "outputs": [
    {
     "data": {
      "text/plain": [
       "3"
      ]
     },
     "execution_count": 16,
     "metadata": {},
     "output_type": "execute_result"
    }
   ],
   "source": [
    "C2.minimum_distance()"
   ]
  },
  {
   "cell_type": "code",
   "execution_count": 17,
   "id": "e2757ad0",
   "metadata": {},
   "outputs": [
    {
     "data": {
      "text/plain": [
       "[1 0 0 0 0 1 1]\n",
       "[0 1 0 0 1 0 1]\n",
       "[0 0 1 0 1 1 0]\n",
       "[0 0 0 1 1 1 1]"
      ]
     },
     "execution_count": 17,
     "metadata": {},
     "output_type": "execute_result"
    }
   ],
   "source": [
    "C2.generator_matrix()"
   ]
  },
  {
   "cell_type": "code",
   "execution_count": 18,
   "id": "5dcb7eba",
   "metadata": {},
   "outputs": [],
   "source": [
    "C = codes.HammingCode(GF(2), 4)"
   ]
  },
  {
   "cell_type": "code",
   "execution_count": 19,
   "id": "30b51579",
   "metadata": {},
   "outputs": [
    {
     "data": {
      "text/plain": [
       "3"
      ]
     },
     "execution_count": 19,
     "metadata": {},
     "output_type": "execute_result"
    }
   ],
   "source": [
    "C.minimum_distance()"
   ]
  },
  {
   "cell_type": "code",
   "execution_count": 20,
   "id": "2e71117c",
   "metadata": {},
   "outputs": [
    {
     "data": {
      "text/plain": [
       "[1 0 0 0 0 0 0 0 0 0 0 0 0 1 1]\n",
       "[0 1 0 0 0 0 0 0 0 0 0 0 1 0 1]\n",
       "[0 0 1 0 0 0 0 0 0 0 0 0 1 1 0]\n",
       "[0 0 0 1 0 0 0 0 0 0 1 0 0 0 1]\n",
       "[0 0 0 0 1 0 0 0 0 0 1 0 0 1 0]\n",
       "[0 0 0 0 0 1 0 0 0 0 1 0 1 0 0]\n",
       "[0 0 0 0 0 0 1 0 0 0 1 0 1 1 1]\n",
       "[0 0 0 0 0 0 0 1 0 0 1 0 1 1 0]\n",
       "[0 0 0 0 0 0 0 0 1 0 1 0 1 0 1]\n",
       "[0 0 0 0 0 0 0 0 0 1 1 0 0 1 1]\n",
       "[0 0 0 0 0 0 0 0 0 0 0 1 1 1 1]"
      ]
     },
     "execution_count": 20,
     "metadata": {},
     "output_type": "execute_result"
    }
   ],
   "source": [
    "C.generator_matrix()"
   ]
  },
  {
   "cell_type": "code",
   "execution_count": null,
   "id": "63866626",
   "metadata": {},
   "outputs": [],
   "source": []
  }
 ],
 "metadata": {
  "kernelspec": {
   "display_name": "SageMath 9.5",
   "language": "sage",
   "name": "sagemath"
  },
  "language_info": {
   "codemirror_mode": {
    "name": "ipython",
    "version": 3
   },
   "file_extension": ".py",
   "mimetype": "text/x-python",
   "name": "python",
   "nbconvert_exporter": "python",
   "pygments_lexer": "ipython3",
   "version": "3.10.6"
  }
 },
 "nbformat": 4,
 "nbformat_minor": 5
}
