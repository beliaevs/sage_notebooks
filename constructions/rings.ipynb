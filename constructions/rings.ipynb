{
 "cells": [
  {
   "cell_type": "code",
   "execution_count": 1,
   "id": "02f6989f",
   "metadata": {},
   "outputs": [],
   "source": [
    "R6 = IntegerModRing(6)"
   ]
  },
  {
   "cell_type": "code",
   "execution_count": 2,
   "id": "54d014e8",
   "metadata": {},
   "outputs": [],
   "source": [
    "M = MatrixSpace(R6, 2, 2)"
   ]
  },
  {
   "cell_type": "code",
   "execution_count": 3,
   "id": "39a2e51c",
   "metadata": {},
   "outputs": [],
   "source": [
    "a = M(1)"
   ]
  },
  {
   "cell_type": "code",
   "execution_count": 4,
   "id": "465f7dfc",
   "metadata": {},
   "outputs": [
    {
     "data": {
      "text/plain": [
       "[1 0]\n",
       "[0 1]"
      ]
     },
     "execution_count": 4,
     "metadata": {},
     "output_type": "execute_result"
    }
   ],
   "source": [
    "a"
   ]
  },
  {
   "cell_type": "code",
   "execution_count": 5,
   "id": "725c746f",
   "metadata": {},
   "outputs": [],
   "source": [
    "b = M([[2, 3], [0, 1]])"
   ]
  },
  {
   "cell_type": "code",
   "execution_count": 6,
   "id": "d5696299",
   "metadata": {},
   "outputs": [
    {
     "data": {
      "text/plain": [
       "[2 3]\n",
       "[0 1]"
      ]
     },
     "execution_count": 6,
     "metadata": {},
     "output_type": "execute_result"
    }
   ],
   "source": [
    "b"
   ]
  },
  {
   "cell_type": "code",
   "execution_count": 7,
   "id": "97d10a5c",
   "metadata": {},
   "outputs": [
    {
     "data": {
      "text/plain": [
       "False"
      ]
     },
     "execution_count": 7,
     "metadata": {},
     "output_type": "execute_result"
    }
   ],
   "source": [
    "b.is_invertible()"
   ]
  },
  {
   "cell_type": "code",
   "execution_count": 8,
   "id": "703dfaf0",
   "metadata": {},
   "outputs": [],
   "source": [
    "MP.<X>=M[]"
   ]
  },
  {
   "cell_type": "code",
   "execution_count": 9,
   "id": "44c36c62",
   "metadata": {},
   "outputs": [
    {
     "data": {
      "text/plain": [
       "[1 0]\n",
       "[0 1]*X^3 + [0 3]\n",
       "[0 3]*X^2 + [0 3]\n",
       "[0 3]*X + [2 3]\n",
       "[0 1]"
      ]
     },
     "execution_count": 9,
     "metadata": {},
     "output_type": "execute_result"
    }
   ],
   "source": [
    "(X+b)^3"
   ]
  },
  {
   "cell_type": "code",
   "execution_count": 10,
   "id": "a2b62cb5",
   "metadata": {},
   "outputs": [
    {
     "data": {
      "text/plain": [
       "[1 0]\n",
       "[0 1]*X + [2 3]\n",
       "[0 1]"
      ]
     },
     "execution_count": 10,
     "metadata": {},
     "output_type": "execute_result"
    }
   ],
   "source": [
    "X+b"
   ]
  },
  {
   "cell_type": "code",
   "execution_count": 11,
   "id": "443f9717",
   "metadata": {},
   "outputs": [],
   "source": [
    "p = (X+b)^3"
   ]
  },
  {
   "cell_type": "code",
   "execution_count": 12,
   "id": "44f270d1",
   "metadata": {},
   "outputs": [
    {
     "data": {
      "text/plain": [
       "[2 3]\n",
       "[0 1]"
      ]
     },
     "execution_count": 12,
     "metadata": {},
     "output_type": "execute_result"
    }
   ],
   "source": [
    "p[0]"
   ]
  },
  {
   "cell_type": "code",
   "execution_count": 13,
   "id": "c70abd53",
   "metadata": {},
   "outputs": [
    {
     "data": {
      "text/plain": [
       "[0 3]\n",
       "[0 3]"
      ]
     },
     "execution_count": 13,
     "metadata": {},
     "output_type": "execute_result"
    }
   ],
   "source": [
    "p[1]"
   ]
  },
  {
   "cell_type": "code",
   "execution_count": 14,
   "id": "ce7b2889",
   "metadata": {},
   "outputs": [
    {
     "data": {
      "text/plain": [
       "[0 3]\n",
       "[0 3]"
      ]
     },
     "execution_count": 14,
     "metadata": {},
     "output_type": "execute_result"
    }
   ],
   "source": [
    "p[2]"
   ]
  },
  {
   "cell_type": "code",
   "execution_count": 15,
   "id": "253b4f4d",
   "metadata": {},
   "outputs": [
    {
     "data": {
      "text/plain": [
       "[1 0]\n",
       "[0 1]"
      ]
     },
     "execution_count": 15,
     "metadata": {},
     "output_type": "execute_result"
    }
   ],
   "source": [
    "p[3]"
   ]
  },
  {
   "cell_type": "code",
   "execution_count": 16,
   "id": "ee9447df",
   "metadata": {},
   "outputs": [
    {
     "data": {
      "text/plain": [
       "[4 3]\n",
       "[0 1]"
      ]
     },
     "execution_count": 16,
     "metadata": {},
     "output_type": "execute_result"
    }
   ],
   "source": [
    "b^2"
   ]
  },
  {
   "cell_type": "code",
   "execution_count": 17,
   "id": "a55c59a3",
   "metadata": {},
   "outputs": [
    {
     "data": {
      "text/plain": [
       "[2 3]\n",
       "[0 1]"
      ]
     },
     "execution_count": 17,
     "metadata": {},
     "output_type": "execute_result"
    }
   ],
   "source": [
    "b^3"
   ]
  },
  {
   "cell_type": "code",
   "execution_count": 18,
   "id": "35cce46f",
   "metadata": {},
   "outputs": [
    {
     "data": {
      "text/plain": [
       "[2 3]\n",
       "[0 1]"
      ]
     },
     "execution_count": 18,
     "metadata": {},
     "output_type": "execute_result"
    }
   ],
   "source": [
    "b"
   ]
  },
  {
   "cell_type": "code",
   "execution_count": 19,
   "id": "f888b5b7",
   "metadata": {},
   "outputs": [],
   "source": [
    "P.<Y>=QQ[]"
   ]
  },
  {
   "cell_type": "code",
   "execution_count": 21,
   "id": "6f119961",
   "metadata": {},
   "outputs": [],
   "source": [
    "PF.<a> = P.quotient(Y^3-2)"
   ]
  },
  {
   "cell_type": "code",
   "execution_count": 22,
   "id": "d46cc0dc",
   "metadata": {},
   "outputs": [
    {
     "data": {
      "text/plain": [
       "a"
      ]
     },
     "execution_count": 22,
     "metadata": {},
     "output_type": "execute_result"
    }
   ],
   "source": [
    "a"
   ]
  },
  {
   "cell_type": "code",
   "execution_count": 23,
   "id": "39be3ee1",
   "metadata": {},
   "outputs": [
    {
     "data": {
      "text/plain": [
       "Univariate Quotient Polynomial Ring in a over Rational Field with modulus Y^3 - 2"
      ]
     },
     "execution_count": 23,
     "metadata": {},
     "output_type": "execute_result"
    }
   ],
   "source": [
    "a.parent()"
   ]
  },
  {
   "cell_type": "code",
   "execution_count": 24,
   "id": "d112dc6f",
   "metadata": {},
   "outputs": [
    {
     "data": {
      "text/plain": [
       "2"
      ]
     },
     "execution_count": 24,
     "metadata": {},
     "output_type": "execute_result"
    }
   ],
   "source": [
    "a^3"
   ]
  },
  {
   "cell_type": "code",
   "execution_count": 25,
   "id": "f09660c1",
   "metadata": {},
   "outputs": [
    {
     "data": {
      "text/plain": [
       "True"
      ]
     },
     "execution_count": 25,
     "metadata": {},
     "output_type": "execute_result"
    }
   ],
   "source": [
    "PF.is_field()"
   ]
  },
  {
   "cell_type": "code",
   "execution_count": 26,
   "id": "0cf1ab0a",
   "metadata": {},
   "outputs": [
    {
     "data": {
      "text/plain": [
       "True"
      ]
     },
     "execution_count": 26,
     "metadata": {},
     "output_type": "execute_result"
    }
   ],
   "source": [
    "Y in PF"
   ]
  },
  {
   "cell_type": "code",
   "execution_count": 27,
   "id": "b3b9dbb0",
   "metadata": {},
   "outputs": [
    {
     "data": {
      "text/plain": [
       "Y^3"
      ]
     },
     "execution_count": 27,
     "metadata": {},
     "output_type": "execute_result"
    }
   ],
   "source": [
    "Y^3"
   ]
  },
  {
   "cell_type": "code",
   "execution_count": 28,
   "id": "ec17425c",
   "metadata": {},
   "outputs": [
    {
     "data": {
      "text/plain": [
       "Univariate Polynomial Ring in Y over Rational Field"
      ]
     },
     "execution_count": 28,
     "metadata": {},
     "output_type": "execute_result"
    }
   ],
   "source": [
    "Y.parent()"
   ]
  },
  {
   "cell_type": "code",
   "execution_count": 30,
   "id": "fc6a1f5d",
   "metadata": {},
   "outputs": [
    {
     "data": {
      "text/plain": [
       "True"
      ]
     },
     "execution_count": 30,
     "metadata": {},
     "output_type": "execute_result"
    }
   ],
   "source": [
    "PF.polynomial_ring() == P"
   ]
  },
  {
   "cell_type": "code",
   "execution_count": 32,
   "id": "08671e4b",
   "metadata": {},
   "outputs": [
    {
     "data": {
      "image/png": "[encoded data removed]",
      "text/plain": [
       "Graphics object consisting of 1 graphics primitive"
      ]
     },
     "execution_count": 32,
     "metadata": {},
     "output_type": "execute_result"
    }
   ],
   "source": [
    "plot(tanh(x), [x, -3, 3])"
   ]
  },
  {
   "cell_type": "code",
   "execution_count": null,
   "id": "592ca24f",
   "metadata": {},
   "outputs": [],
   "source": []
  }
 ],
 "metadata": {
  "kernelspec": {
   "display_name": "SageMath 9.5",
   "language": "sage",
   "name": "sagemath"
  },
  "language_info": {
   "codemirror_mode": {
    "name": "ipython",
    "version": 3
   },
   "file_extension": ".py",
   "mimetype": "text/x-python",
   "name": "python",
   "nbconvert_exporter": "python",
   "pygments_lexer": "ipython3",
   "version": "3.10.6"
  }
 },
 "nbformat": 4,
 "nbformat_minor": 5
}
