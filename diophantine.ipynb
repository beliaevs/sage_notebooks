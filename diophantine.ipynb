{
 "cells": [
  {
   "cell_type": "code",
   "execution_count": 1,
   "id": "4ec1a621",
   "metadata": {},
   "outputs": [],
   "source": [
    "a, b = var('a b')"
   ]
  },
  {
   "cell_type": "code",
   "execution_count": 2,
   "id": "c4d39be2",
   "metadata": {},
   "outputs": [],
   "source": [
    "pell_eq = a^2 - 2*b^2 - 1"
   ]
  },
  {
   "cell_type": "code",
   "execution_count": 3,
   "id": "3db78bc4",
   "metadata": {},
   "outputs": [],
   "source": [
    "res = pell_eq.solve_diophantine()"
   ]
  },
  {
   "cell_type": "code",
   "execution_count": 4,
   "id": "d69c5556",
   "metadata": {},
   "outputs": [
    {
     "data": {
      "text/plain": [
       "[(-sqrt(2)*(2*sqrt(2) + 3)^t + sqrt(2)*(-2*sqrt(2) + 3)^t - 3/2*(2*sqrt(2) + 3)^t - 3/2*(-2*sqrt(2) + 3)^t,\n",
       "  3/4*sqrt(2)*(2*sqrt(2) + 3)^t - 3/4*sqrt(2)*(-2*sqrt(2) + 3)^t + (2*sqrt(2) + 3)^t + (-2*sqrt(2) + 3)^t),\n",
       " (sqrt(2)*(2*sqrt(2) + 3)^t - sqrt(2)*(-2*sqrt(2) + 3)^t + 3/2*(2*sqrt(2) + 3)^t + 3/2*(-2*sqrt(2) + 3)^t,\n",
       "  -3/4*sqrt(2)*(2*sqrt(2) + 3)^t + 3/4*sqrt(2)*(-2*sqrt(2) + 3)^t - (2*sqrt(2) + 3)^t - (-2*sqrt(2) + 3)^t)]"
      ]
     },
     "execution_count": 4,
     "metadata": {},
     "output_type": "execute_result"
    }
   ],
   "source": [
    "res"
   ]
  },
  {
   "cell_type": "code",
   "execution_count": 5,
   "id": "5fa5778e",
   "metadata": {},
   "outputs": [
    {
     "data": {
      "text/plain": [
       "[(-3, 2),\n",
       " (-17, 12),\n",
       " (-99, 70),\n",
       " (-577, 408),\n",
       " (-3363, 2378),\n",
       " (-19601, 13860),\n",
       " (-114243, 80782),\n",
       " (-665857, 470832),\n",
       " (-3880899, 2744210),\n",
       " (-22619537, 15994428)]"
      ]
     },
     "execution_count": 5,
     "metadata": {},
     "output_type": "execute_result"
    }
   ],
   "source": [
    "[(res[0][0].subs(t=t).full_simplify(), res[0][1].subs(t=t).full_simplify()) for t in range(10)]"
   ]
  },
  {
   "cell_type": "code",
   "execution_count": 6,
   "id": "bc8124b2",
   "metadata": {},
   "outputs": [],
   "source": [
    "pell_eq_17 = a^2 - 17*b^2 - 1"
   ]
  },
  {
   "cell_type": "code",
   "execution_count": 7,
   "id": "1b0f22e1",
   "metadata": {},
   "outputs": [],
   "source": [
    "res = pell_eq_17.solve_diophantine()"
   ]
  },
  {
   "cell_type": "code",
   "execution_count": 8,
   "id": "d7fcfd73",
   "metadata": {},
   "outputs": [
    {
     "data": {
      "text/plain": [
       "[(33, -8),\n",
       " (2177, -528),\n",
       " (143649, -34840),\n",
       " (9478657, -2298912),\n",
       " (625447713, -151693352),\n",
       " (41270070401, -10009462320),\n",
       " (2723199198753, -660472819768),\n",
       " (179689877047297, -43581196642368),\n",
       " (11856808685922849, -2875698505576520),\n",
       " (782369683393860737, -189752520171407952)]"
      ]
     },
     "execution_count": 8,
     "metadata": {},
     "output_type": "execute_result"
    }
   ],
   "source": [
    "[(res[0][0].subs(t=t).full_simplify(), res[0][1].subs(t=t).full_simplify()) for t in range(10)]"
   ]
  },
  {
   "cell_type": "code",
   "execution_count": 9,
   "id": "73819a91",
   "metadata": {},
   "outputs": [
    {
     "data": {
      "text/plain": [
       "1"
      ]
     },
     "execution_count": 9,
     "metadata": {},
     "output_type": "execute_result"
    }
   ],
   "source": [
    "33^2-17*8^2"
   ]
  },
  {
   "cell_type": "code",
   "execution_count": null,
   "id": "6a3b307f",
   "metadata": {},
   "outputs": [],
   "source": []
  }
 ],
 "metadata": {
  "kernelspec": {
   "display_name": "SageMath 9.5",
   "language": "sage",
   "name": "sagemath"
  },
  "language_info": {
   "codemirror_mode": {
    "name": "ipython",
    "version": 3
   },
   "file_extension": ".py",
   "mimetype": "text/x-python",
   "name": "python",
   "nbconvert_exporter": "python",
   "pygments_lexer": "ipython3",
   "version": "3.10.6"
  }
 },
 "nbformat": 4,
 "nbformat_minor": 5
}
