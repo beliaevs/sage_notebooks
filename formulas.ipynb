{
 "cells": [
  {
   "cell_type": "code",
   "execution_count": 1,
   "id": "3cb23e2f",
   "metadata": {},
   "outputs": [
    {
     "data": {
      "text/plain": [
       "0"
      ]
     },
     "execution_count": 1,
     "metadata": {},
     "output_type": "execute_result"
    }
   ],
   "source": [
    "sin(pi)"
   ]
  },
  {
   "cell_type": "code",
   "execution_count": 2,
   "id": "ce9a0baa",
   "metadata": {},
   "outputs": [
    {
     "data": {
      "text/plain": [
       "1"
      ]
     },
     "execution_count": 2,
     "metadata": {},
     "output_type": "execute_result"
    }
   ],
   "source": [
    "sin(pi/2)"
   ]
  },
  {
   "cell_type": "code",
   "execution_count": 3,
   "id": "389f8116",
   "metadata": {},
   "outputs": [
    {
     "data": {
      "text/plain": [
       "1/2*sqrt(2)"
      ]
     },
     "execution_count": 3,
     "metadata": {},
     "output_type": "execute_result"
    }
   ],
   "source": [
    "sin(pi/4)"
   ]
  },
  {
   "cell_type": "code",
   "execution_count": 4,
   "id": "e61e4d3e",
   "metadata": {},
   "outputs": [
    {
     "data": {
      "text/plain": [
       "1/2*sqrt(3)"
      ]
     },
     "execution_count": 4,
     "metadata": {},
     "output_type": "execute_result"
    }
   ],
   "source": [
    "sin(pi/3)"
   ]
  },
  {
   "cell_type": "code",
   "execution_count": 5,
   "id": "9d0b3c05",
   "metadata": {},
   "outputs": [
    {
     "data": {
      "text/plain": [
       "1/4*sqrt(-2*sqrt(5) + 10)"
      ]
     },
     "execution_count": 5,
     "metadata": {},
     "output_type": "execute_result"
    }
   ],
   "source": [
    "sin(pi/5)"
   ]
  },
  {
   "cell_type": "code",
   "execution_count": 6,
   "id": "d46ddceb",
   "metadata": {},
   "outputs": [
    {
     "data": {
      "text/plain": [
       "-1"
      ]
     },
     "execution_count": 6,
     "metadata": {},
     "output_type": "execute_result"
    }
   ],
   "source": [
    "cos(pi)"
   ]
  },
  {
   "cell_type": "code",
   "execution_count": 7,
   "id": "d3394abb",
   "metadata": {},
   "outputs": [
    {
     "data": {
      "text/plain": [
       "0"
      ]
     },
     "execution_count": 7,
     "metadata": {},
     "output_type": "execute_result"
    }
   ],
   "source": [
    "cos(pi/2)"
   ]
  },
  {
   "cell_type": "code",
   "execution_count": 8,
   "id": "8f2a9c8c",
   "metadata": {},
   "outputs": [
    {
     "data": {
      "text/plain": [
       "1/2"
      ]
     },
     "execution_count": 8,
     "metadata": {},
     "output_type": "execute_result"
    }
   ],
   "source": [
    "cos(pi/3)"
   ]
  },
  {
   "cell_type": "code",
   "execution_count": 9,
   "id": "7e297f8d",
   "metadata": {},
   "outputs": [
    {
     "data": {
      "text/plain": [
       "1/2*sqrt(2)"
      ]
     },
     "execution_count": 9,
     "metadata": {},
     "output_type": "execute_result"
    }
   ],
   "source": [
    "cos(pi/4)"
   ]
  },
  {
   "cell_type": "code",
   "execution_count": 10,
   "id": "9c7788fa",
   "metadata": {},
   "outputs": [
    {
     "data": {
      "text/plain": [
       "1/4*sqrt(5) + 1/4"
      ]
     },
     "execution_count": 10,
     "metadata": {},
     "output_type": "execute_result"
    }
   ],
   "source": [
    "cos(pi/5)"
   ]
  },
  {
   "cell_type": "code",
   "execution_count": 11,
   "id": "f6baab4d",
   "metadata": {},
   "outputs": [
    {
     "data": {
      "text/plain": [
       "1/2*sqrt(3)"
      ]
     },
     "execution_count": 11,
     "metadata": {},
     "output_type": "execute_result"
    }
   ],
   "source": [
    "cos(pi/6)"
   ]
  },
  {
   "cell_type": "code",
   "execution_count": 12,
   "id": "ad862f67",
   "metadata": {},
   "outputs": [
    {
     "data": {
      "text/plain": [
       "cos(1/7*pi)"
      ]
     },
     "execution_count": 12,
     "metadata": {},
     "output_type": "execute_result"
    }
   ],
   "source": [
    "cos(pi/7)"
   ]
  },
  {
   "cell_type": "code",
   "execution_count": 13,
   "id": "a26e90a3",
   "metadata": {},
   "outputs": [
    {
     "data": {
      "text/plain": [
       "1/2*sqrt(sqrt(2) + 2)"
      ]
     },
     "execution_count": 13,
     "metadata": {},
     "output_type": "execute_result"
    }
   ],
   "source": [
    "cos(pi/8)"
   ]
  },
  {
   "cell_type": "code",
   "execution_count": 14,
   "id": "7a9e0cce",
   "metadata": {},
   "outputs": [
    {
     "data": {
      "text/plain": [
       "1/2*sqrt(-sqrt(2) + 2)"
      ]
     },
     "execution_count": 14,
     "metadata": {},
     "output_type": "execute_result"
    }
   ],
   "source": [
    "sin(pi/8)"
   ]
  },
  {
   "cell_type": "code",
   "execution_count": 15,
   "id": "659dc48a",
   "metadata": {},
   "outputs": [
    {
     "data": {
      "text/plain": [
       "cos(1/9*pi)"
      ]
     },
     "execution_count": 15,
     "metadata": {},
     "output_type": "execute_result"
    }
   ],
   "source": [
    "cos(pi/9)"
   ]
  },
  {
   "cell_type": "code",
   "execution_count": 16,
   "id": "8fe716c4",
   "metadata": {},
   "outputs": [
    {
     "data": {
      "text/plain": [
       "cos(1/17*pi)"
      ]
     },
     "execution_count": 16,
     "metadata": {},
     "output_type": "execute_result"
    }
   ],
   "source": [
    "cos(pi/17)"
   ]
  },
  {
   "cell_type": "code",
   "execution_count": 17,
   "id": "921fb5b9",
   "metadata": {},
   "outputs": [
    {
     "data": {
      "text/plain": [
       "cos(1/17*pi)"
      ]
     },
     "execution_count": 17,
     "metadata": {},
     "output_type": "execute_result"
    }
   ],
   "source": [
    "expand(cos(pi/17))"
   ]
  },
  {
   "cell_type": "code",
   "execution_count": null,
   "id": "0f76cbea",
   "metadata": {},
   "outputs": [],
   "source": []
  }
 ],
 "metadata": {
  "kernelspec": {
   "display_name": "SageMath 9.5",
   "language": "sage",
   "name": "sagemath"
  },
  "language_info": {
   "codemirror_mode": {
    "name": "ipython",
    "version": 3
   },
   "file_extension": ".py",
   "mimetype": "text/x-python",
   "name": "python",
   "nbconvert_exporter": "python",
   "pygments_lexer": "ipython3",
   "version": "3.10.6"
  }
 },
 "nbformat": 4,
 "nbformat_minor": 5
}
