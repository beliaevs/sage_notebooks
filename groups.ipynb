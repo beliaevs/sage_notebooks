{
 "cells": [
  {
   "cell_type": "code",
   "execution_count": null,
   "id": "1c614d08",
   "metadata": {},
   "outputs": [],
   "source": [
    "G=PermutationGroup(['(1,2,3)','(2,3,4)'])"
   ]
  },
  {
   "cell_type": "code",
   "execution_count": null,
   "id": "b316f355",
   "metadata": {},
   "outputs": [],
   "source": [
    "G"
   ]
  },
  {
   "cell_type": "code",
   "execution_count": null,
   "id": "72a75804",
   "metadata": {},
   "outputs": [],
   "source": [
    "G.order()"
   ]
  },
  {
   "cell_type": "code",
   "execution_count": null,
   "id": "f7b3d444",
   "metadata": {},
   "outputs": [],
   "source": [
    "A4=AlternatingGroup(4)"
   ]
  },
  {
   "cell_type": "code",
   "execution_count": null,
   "id": "c7eff502",
   "metadata": {},
   "outputs": [],
   "source": [
    "A4"
   ]
  },
  {
   "cell_type": "code",
   "execution_count": null,
   "id": "3721222f",
   "metadata": {},
   "outputs": [],
   "source": [
    "A4==G"
   ]
  },
  {
   "cell_type": "code",
   "execution_count": null,
   "id": "8e9e3444",
   "metadata": {},
   "outputs": [],
   "source": [
    "A4.gens()"
   ]
  },
  {
   "cell_type": "code",
   "execution_count": null,
   "id": "c889e1ea",
   "metadata": {},
   "outputs": [],
   "source": [
    "H=PermutationGroup(['(1,2,3,4)','(2,3,5,6)'])"
   ]
  },
  {
   "cell_type": "code",
   "execution_count": null,
   "id": "151aeb60",
   "metadata": {},
   "outputs": [],
   "source": [
    "H.order()"
   ]
  },
  {
   "cell_type": "code",
   "execution_count": null,
   "id": "5c735c43",
   "metadata": {},
   "outputs": [],
   "source": [
    "G.cayley_graph().plot()"
   ]
  },
  {
   "cell_type": "code",
   "execution_count": null,
   "id": "bb14855d",
   "metadata": {},
   "outputs": [],
   "source": [
    "G_series = G.composition_series()"
   ]
  },
  {
   "cell_type": "code",
   "execution_count": null,
   "id": "a457d550",
   "metadata": {},
   "outputs": [],
   "source": [
    "H_series = H.composition_series()"
   ]
  },
  {
   "cell_type": "code",
   "execution_count": null,
   "id": "50909a69",
   "metadata": {},
   "outputs": [],
   "source": [
    "[g.order() for g in G_series]"
   ]
  },
  {
   "cell_type": "code",
   "execution_count": null,
   "id": "a04211ad",
   "metadata": {},
   "outputs": [],
   "source": [
    "[g.order() for g in H_series]"
   ]
  },
  {
   "cell_type": "code",
   "execution_count": null,
   "id": "fb9afee8",
   "metadata": {},
   "outputs": [],
   "source": [
    "G.conjugacy_classes_representatives()"
   ]
  },
  {
   "cell_type": "code",
   "execution_count": null,
   "id": "28219047",
   "metadata": {},
   "outputs": [],
   "source": [
    "H.conjugacy_classes_representatives()"
   ]
  },
  {
   "cell_type": "code",
   "execution_count": null,
   "id": "a4f06f66",
   "metadata": {},
   "outputs": [],
   "source": [
    "H.normal_subgroups()"
   ]
  },
  {
   "cell_type": "code",
   "execution_count": null,
   "id": "5765c66d",
   "metadata": {},
   "outputs": [],
   "source": [
    "G.normal_subgroups()"
   ]
  },
  {
   "cell_type": "code",
   "execution_count": null,
   "id": "e17c15c5",
   "metadata": {},
   "outputs": [],
   "source": [
    "G.group_id()"
   ]
  },
  {
   "cell_type": "code",
   "execution_count": null,
   "id": "3d4a39a5",
   "metadata": {},
   "outputs": [],
   "source": [
    "G.order()"
   ]
  },
  {
   "cell_type": "code",
   "execution_count": null,
   "id": "beb1a4f6",
   "metadata": {},
   "outputs": [],
   "source": [
    "Q8 = groups.presentation.Quaternion()"
   ]
  },
  {
   "cell_type": "code",
   "execution_count": null,
   "id": "8a62b205",
   "metadata": {},
   "outputs": [],
   "source": [
    "Q8"
   ]
  },
  {
   "cell_type": "code",
   "execution_count": null,
   "id": "019668e9",
   "metadata": {},
   "outputs": [],
   "source": [
    "Q8.order()"
   ]
  },
  {
   "cell_type": "code",
   "execution_count": null,
   "id": "1c174439",
   "metadata": {},
   "outputs": [],
   "source": [
    "Q8.center()"
   ]
  },
  {
   "cell_type": "code",
   "execution_count": null,
   "id": "07e76c27",
   "metadata": {},
   "outputs": [],
   "source": [
    "G.center()"
   ]
  },
  {
   "cell_type": "code",
   "execution_count": null,
   "id": "a104980e",
   "metadata": {},
   "outputs": [],
   "source": [
    "H.center()"
   ]
  },
  {
   "cell_type": "code",
   "execution_count": null,
   "id": "e76905dc",
   "metadata": {},
   "outputs": [],
   "source": [
    "G.subgroups()"
   ]
  }
 ],
 "metadata": {
  "kernelspec": {
   "display_name": "SageMath 9.5",
   "language": "sage",
   "name": "sagemath"
  },
  "language_info": {
   "codemirror_mode": {
    "name": "ipython",
    "version": 3
   },
   "file_extension": ".py",
   "mimetype": "text/x-python",
   "name": "python",
   "nbconvert_exporter": "python",
   "pygments_lexer": "ipython3",
   "version": "3.10.4"
  }
 },
 "nbformat": 4,
 "nbformat_minor": 5
}
