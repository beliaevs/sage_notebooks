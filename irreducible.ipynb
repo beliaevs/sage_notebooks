{
 "cells": [
  {
   "cell_type": "code",
   "execution_count": 1,
   "id": "c5807dcf",
   "metadata": {},
   "outputs": [],
   "source": [
    "ZZ2 = FiniteField(2)"
   ]
  },
  {
   "cell_type": "code",
   "execution_count": 2,
   "id": "af217e9e",
   "metadata": {},
   "outputs": [],
   "source": [
    "PZ2.<a> = ZZ2[]"
   ]
  },
  {
   "cell_type": "code",
   "execution_count": 3,
   "id": "7cb315a0",
   "metadata": {},
   "outputs": [
    {
     "data": {
      "text/plain": [
       "Univariate Polynomial Ring in a over Finite Field of size 2 (using GF2X)"
      ]
     },
     "execution_count": 3,
     "metadata": {},
     "output_type": "execute_result"
    }
   ],
   "source": [
    "parent(a)"
   ]
  },
  {
   "cell_type": "code",
   "execution_count": 4,
   "id": "3e554e26",
   "metadata": {},
   "outputs": [],
   "source": [
    "I5 = (a^(2^5)+a).factor()"
   ]
  },
  {
   "cell_type": "code",
   "execution_count": 6,
   "id": "0d0638d7",
   "metadata": {},
   "outputs": [],
   "source": [
    "irreducibles5 = [p[0] for p in I5 if p[0].degree() == 5]"
   ]
  },
  {
   "cell_type": "code",
   "execution_count": 9,
   "id": "b6e76dce",
   "metadata": {},
   "outputs": [
    {
     "data": {
      "text/plain": [
       "[a^5 + a^2 + 1,\n",
       " a^5 + a^3 + 1,\n",
       " a^5 + a^3 + a^2 + a + 1,\n",
       " a^5 + a^4 + a^2 + a + 1,\n",
       " a^5 + a^4 + a^3 + a + 1,\n",
       " a^5 + a^4 + a^3 + a^2 + 1]"
      ]
     },
     "execution_count": 9,
     "metadata": {},
     "output_type": "execute_result"
    }
   ],
   "source": [
    "irreducibles5"
   ]
  },
  {
   "cell_type": "code",
   "execution_count": 10,
   "id": "a3b63c7d",
   "metadata": {},
   "outputs": [],
   "source": [
    "def irreducibles(n):\n",
    "    i_n = (a^(2^n)+a).factor()\n",
    "    return [p[0] for p in i_n if p[0].degree() == n]"
   ]
  },
  {
   "cell_type": "code",
   "execution_count": 11,
   "id": "9174800a",
   "metadata": {},
   "outputs": [],
   "source": [
    "irr4 = irreducibles(4)"
   ]
  },
  {
   "cell_type": "code",
   "execution_count": 12,
   "id": "5d618342",
   "metadata": {},
   "outputs": [
    {
     "data": {
      "text/plain": [
       "[a^4 + a + 1, a^4 + a^3 + 1, a^4 + a^3 + a^2 + a + 1]"
      ]
     },
     "execution_count": 12,
     "metadata": {},
     "output_type": "execute_result"
    }
   ],
   "source": [
    "irr4"
   ]
  },
  {
   "cell_type": "code",
   "execution_count": 13,
   "id": "2087b346",
   "metadata": {},
   "outputs": [
    {
     "data": {
      "text/plain": [
       "[a^6 + a + 1,\n",
       " a^6 + a^3 + 1,\n",
       " a^6 + a^4 + a^2 + a + 1,\n",
       " a^6 + a^4 + a^3 + a + 1,\n",
       " a^6 + a^5 + 1,\n",
       " a^6 + a^5 + a^2 + a + 1,\n",
       " a^6 + a^5 + a^3 + a^2 + 1,\n",
       " a^6 + a^5 + a^4 + a + 1,\n",
       " a^6 + a^5 + a^4 + a^2 + 1]"
      ]
     },
     "execution_count": 13,
     "metadata": {},
     "output_type": "execute_result"
    }
   ],
   "source": [
    "irreducibles(6)"
   ]
  },
  {
   "cell_type": "code",
   "execution_count": 14,
   "id": "45a8dfe2",
   "metadata": {},
   "outputs": [
    {
     "data": {
      "text/plain": [
       "[a^7 + a + 1,\n",
       " a^7 + a^3 + 1,\n",
       " a^7 + a^3 + a^2 + a + 1,\n",
       " a^7 + a^4 + 1,\n",
       " a^7 + a^4 + a^3 + a^2 + 1,\n",
       " a^7 + a^5 + a^2 + a + 1,\n",
       " a^7 + a^5 + a^3 + a + 1,\n",
       " a^7 + a^5 + a^4 + a^3 + 1,\n",
       " a^7 + a^5 + a^4 + a^3 + a^2 + a + 1,\n",
       " a^7 + a^6 + 1,\n",
       " a^7 + a^6 + a^3 + a + 1,\n",
       " a^7 + a^6 + a^4 + a + 1,\n",
       " a^7 + a^6 + a^4 + a^2 + 1,\n",
       " a^7 + a^6 + a^5 + a^2 + 1,\n",
       " a^7 + a^6 + a^5 + a^3 + a^2 + a + 1,\n",
       " a^7 + a^6 + a^5 + a^4 + 1,\n",
       " a^7 + a^6 + a^5 + a^4 + a^2 + a + 1,\n",
       " a^7 + a^6 + a^5 + a^4 + a^3 + a^2 + 1]"
      ]
     },
     "execution_count": 14,
     "metadata": {},
     "output_type": "execute_result"
    }
   ],
   "source": [
    "irreducibles(7)"
   ]
  },
  {
   "cell_type": "code",
   "execution_count": 15,
   "id": "d9794811",
   "metadata": {},
   "outputs": [
    {
     "data": {
      "text/plain": [
       "[a^4 + a + 1, a^4 + a^3 + 1, a^4 + a^3 + a^2 + a + 1]"
      ]
     },
     "execution_count": 15,
     "metadata": {},
     "output_type": "execute_result"
    }
   ],
   "source": [
    "irreducibles(4)"
   ]
  },
  {
   "cell_type": "code",
   "execution_count": 16,
   "id": "15ab9773",
   "metadata": {},
   "outputs": [
    {
     "data": {
      "text/plain": [
       "[a^8 + a^4 + a^3 + a + 1,\n",
       " a^8 + a^4 + a^3 + a^2 + 1,\n",
       " a^8 + a^5 + a^3 + a + 1,\n",
       " a^8 + a^5 + a^3 + a^2 + 1,\n",
       " a^8 + a^5 + a^4 + a^3 + 1,\n",
       " a^8 + a^5 + a^4 + a^3 + a^2 + a + 1,\n",
       " a^8 + a^6 + a^3 + a^2 + 1,\n",
       " a^8 + a^6 + a^4 + a^3 + a^2 + a + 1,\n",
       " a^8 + a^6 + a^5 + a + 1,\n",
       " a^8 + a^6 + a^5 + a^2 + 1,\n",
       " a^8 + a^6 + a^5 + a^3 + 1,\n",
       " a^8 + a^6 + a^5 + a^4 + 1,\n",
       " a^8 + a^6 + a^5 + a^4 + a^2 + a + 1,\n",
       " a^8 + a^6 + a^5 + a^4 + a^3 + a + 1,\n",
       " a^8 + a^7 + a^2 + a + 1,\n",
       " a^8 + a^7 + a^3 + a + 1,\n",
       " a^8 + a^7 + a^3 + a^2 + 1,\n",
       " a^8 + a^7 + a^4 + a^3 + a^2 + a + 1,\n",
       " a^8 + a^7 + a^5 + a + 1,\n",
       " a^8 + a^7 + a^5 + a^3 + 1,\n",
       " a^8 + a^7 + a^5 + a^4 + 1,\n",
       " a^8 + a^7 + a^5 + a^4 + a^3 + a^2 + 1,\n",
       " a^8 + a^7 + a^6 + a + 1,\n",
       " a^8 + a^7 + a^6 + a^3 + a^2 + a + 1,\n",
       " a^8 + a^7 + a^6 + a^4 + a^2 + a + 1,\n",
       " a^8 + a^7 + a^6 + a^4 + a^3 + a^2 + 1,\n",
       " a^8 + a^7 + a^6 + a^5 + a^2 + a + 1,\n",
       " a^8 + a^7 + a^6 + a^5 + a^4 + a + 1,\n",
       " a^8 + a^7 + a^6 + a^5 + a^4 + a^2 + 1,\n",
       " a^8 + a^7 + a^6 + a^5 + a^4 + a^3 + 1]"
      ]
     },
     "execution_count": 16,
     "metadata": {},
     "output_type": "execute_result"
    }
   ],
   "source": [
    "irreducibles(8)"
   ]
  },
  {
   "cell_type": "code",
   "execution_count": 17,
   "id": "23510b80",
   "metadata": {},
   "outputs": [
    {
     "data": {
      "text/plain": [
       "[a^9 + a + 1,\n",
       " a^9 + a^4 + 1,\n",
       " a^9 + a^4 + a^2 + a + 1,\n",
       " a^9 + a^4 + a^3 + a + 1,\n",
       " a^9 + a^5 + 1,\n",
       " a^9 + a^5 + a^3 + a^2 + 1,\n",
       " a^9 + a^5 + a^4 + a + 1,\n",
       " a^9 + a^6 + a^3 + a + 1,\n",
       " a^9 + a^6 + a^4 + a^3 + 1,\n",
       " a^9 + a^6 + a^4 + a^3 + a^2 + a + 1,\n",
       " a^9 + a^6 + a^5 + a^2 + 1,\n",
       " a^9 + a^6 + a^5 + a^3 + 1,\n",
       " a^9 + a^6 + a^5 + a^3 + a^2 + a + 1,\n",
       " a^9 + a^6 + a^5 + a^4 + a^2 + a + 1,\n",
       " a^9 + a^6 + a^5 + a^4 + a^3 + a^2 + 1,\n",
       " a^9 + a^7 + a^2 + a + 1,\n",
       " a^9 + a^7 + a^4 + a^2 + 1,\n",
       " a^9 + a^7 + a^4 + a^3 + 1,\n",
       " a^9 + a^7 + a^5 + a + 1,\n",
       " a^9 + a^7 + a^5 + a^2 + 1,\n",
       " a^9 + a^7 + a^5 + a^3 + a^2 + a + 1,\n",
       " a^9 + a^7 + a^5 + a^4 + a^2 + a + 1,\n",
       " a^9 + a^7 + a^5 + a^4 + a^3 + a^2 + 1,\n",
       " a^9 + a^7 + a^6 + a^3 + a^2 + a + 1,\n",
       " a^9 + a^7 + a^6 + a^4 + 1,\n",
       " a^9 + a^7 + a^6 + a^4 + a^3 + a + 1,\n",
       " a^9 + a^7 + a^6 + a^5 + a^4 + a^2 + 1,\n",
       " a^9 + a^7 + a^6 + a^5 + a^4 + a^3 + 1,\n",
       " a^9 + a^8 + 1,\n",
       " a^9 + a^8 + a^4 + a + 1,\n",
       " a^9 + a^8 + a^4 + a^2 + 1,\n",
       " a^9 + a^8 + a^4 + a^3 + a^2 + a + 1,\n",
       " a^9 + a^8 + a^5 + a + 1,\n",
       " a^9 + a^8 + a^5 + a^4 + 1,\n",
       " a^9 + a^8 + a^5 + a^4 + a^3 + a + 1,\n",
       " a^9 + a^8 + a^6 + a^3 + 1,\n",
       " a^9 + a^8 + a^6 + a^3 + a^2 + a + 1,\n",
       " a^9 + a^8 + a^6 + a^4 + a^3 + a + 1,\n",
       " a^9 + a^8 + a^6 + a^5 + 1,\n",
       " a^9 + a^8 + a^6 + a^5 + a^3 + a + 1,\n",
       " a^9 + a^8 + a^6 + a^5 + a^3 + a^2 + 1,\n",
       " a^9 + a^8 + a^6 + a^5 + a^4 + a + 1,\n",
       " a^9 + a^8 + a^6 + a^5 + a^4 + a^3 + a^2 + a + 1,\n",
       " a^9 + a^8 + a^7 + a^2 + 1,\n",
       " a^9 + a^8 + a^7 + a^3 + a^2 + a + 1,\n",
       " a^9 + a^8 + a^7 + a^5 + 1,\n",
       " a^9 + a^8 + a^7 + a^5 + a^4 + a^2 + 1,\n",
       " a^9 + a^8 + a^7 + a^5 + a^4 + a^3 + 1,\n",
       " a^9 + a^8 + a^7 + a^6 + a^2 + a + 1,\n",
       " a^9 + a^8 + a^7 + a^6 + a^3 + a + 1,\n",
       " a^9 + a^8 + a^7 + a^6 + a^3 + a^2 + 1,\n",
       " a^9 + a^8 + a^7 + a^6 + a^4 + a^2 + 1,\n",
       " a^9 + a^8 + a^7 + a^6 + a^4 + a^3 + 1,\n",
       " a^9 + a^8 + a^7 + a^6 + a^5 + a + 1,\n",
       " a^9 + a^8 + a^7 + a^6 + a^5 + a^3 + 1,\n",
       " a^9 + a^8 + a^7 + a^6 + a^5 + a^4 + a^3 + a + 1]"
      ]
     },
     "execution_count": 17,
     "metadata": {},
     "output_type": "execute_result"
    }
   ],
   "source": [
    "irreducibles(9)"
   ]
  },
  {
   "cell_type": "code",
   "execution_count": 18,
   "id": "50e57b87",
   "metadata": {},
   "outputs": [
    {
     "data": {
      "text/plain": [
       "[a^10 + a^3 + 1,\n",
       " a^10 + a^3 + a^2 + a + 1,\n",
       " a^10 + a^4 + a^3 + a + 1,\n",
       " a^10 + a^4 + a^3 + a^2 + 1,\n",
       " a^10 + a^5 + a^2 + a + 1,\n",
       " a^10 + a^5 + a^3 + a^2 + 1,\n",
       " a^10 + a^5 + a^4 + a^2 + 1,\n",
       " a^10 + a^6 + a^2 + a + 1,\n",
       " a^10 + a^6 + a^4 + a + 1,\n",
       " a^10 + a^6 + a^5 + a + 1,\n",
       " a^10 + a^6 + a^5 + a^2 + 1,\n",
       " a^10 + a^6 + a^5 + a^3 + a^2 + a + 1,\n",
       " a^10 + a^7 + 1,\n",
       " a^10 + a^7 + a^3 + a + 1,\n",
       " a^10 + a^7 + a^4 + a^3 + 1,\n",
       " a^10 + a^7 + a^5 + a^3 + 1,\n",
       " a^10 + a^7 + a^5 + a^3 + a^2 + a + 1,\n",
       " a^10 + a^7 + a^6 + a^2 + 1,\n",
       " a^10 + a^7 + a^6 + a^3 + 1,\n",
       " a^10 + a^7 + a^6 + a^4 + a^2 + a + 1,\n",
       " a^10 + a^7 + a^6 + a^5 + a^2 + a + 1,\n",
       " a^10 + a^7 + a^6 + a^5 + a^3 + a^2 + 1,\n",
       " a^10 + a^7 + a^6 + a^5 + a^4 + a + 1,\n",
       " a^10 + a^7 + a^6 + a^5 + a^4 + a^3 + a^2 + a + 1,\n",
       " a^10 + a^8 + a^3 + a + 1,\n",
       " a^10 + a^8 + a^3 + a^2 + 1,\n",
       " a^10 + a^8 + a^4 + a^3 + 1,\n",
       " a^10 + a^8 + a^4 + a^3 + a^2 + a + 1,\n",
       " a^10 + a^8 + a^5 + a + 1,\n",
       " a^10 + a^8 + a^5 + a^4 + 1,\n",
       " a^10 + a^8 + a^5 + a^4 + a^3 + a^2 + 1,\n",
       " a^10 + a^8 + a^6 + a + 1,\n",
       " a^10 + a^8 + a^6 + a^4 + a^2 + a + 1,\n",
       " a^10 + a^8 + a^6 + a^5 + 1,\n",
       " a^10 + a^8 + a^6 + a^5 + a^2 + a + 1,\n",
       " a^10 + a^8 + a^6 + a^5 + a^3 + a + 1,\n",
       " a^10 + a^8 + a^7 + a^2 + 1,\n",
       " a^10 + a^8 + a^7 + a^3 + a^2 + a + 1,\n",
       " a^10 + a^8 + a^7 + a^4 + a^2 + a + 1,\n",
       " a^10 + a^8 + a^7 + a^4 + a^3 + a + 1,\n",
       " a^10 + a^8 + a^7 + a^5 + 1,\n",
       " a^10 + a^8 + a^7 + a^5 + a^3 + a + 1,\n",
       " a^10 + a^8 + a^7 + a^5 + a^4 + a^3 + 1,\n",
       " a^10 + a^8 + a^7 + a^6 + 1,\n",
       " a^10 + a^8 + a^7 + a^6 + a^2 + a + 1,\n",
       " a^10 + a^8 + a^7 + a^6 + a^5 + a^2 + 1,\n",
       " a^10 + a^8 + a^7 + a^6 + a^5 + a^4 + a^2 + a + 1,\n",
       " a^10 + a^8 + a^7 + a^6 + a^5 + a^4 + a^3 + a + 1,\n",
       " a^10 + a^9 + a^4 + a + 1,\n",
       " a^10 + a^9 + a^4 + a^2 + 1,\n",
       " a^10 + a^9 + a^5 + a + 1,\n",
       " a^10 + a^9 + a^5 + a^2 + 1,\n",
       " a^10 + a^9 + a^5 + a^4 + 1,\n",
       " a^10 + a^9 + a^5 + a^4 + a^2 + a + 1,\n",
       " a^10 + a^9 + a^6 + a + 1,\n",
       " a^10 + a^9 + a^6 + a^3 + a^2 + a + 1,\n",
       " a^10 + a^9 + a^6 + a^4 + 1,\n",
       " a^10 + a^9 + a^6 + a^4 + a^3 + a + 1,\n",
       " a^10 + a^9 + a^6 + a^5 + a^4 + a^3 + 1,\n",
       " a^10 + a^9 + a^6 + a^5 + a^4 + a^3 + a^2 + a + 1,\n",
       " a^10 + a^9 + a^7 + a^2 + 1,\n",
       " a^10 + a^9 + a^7 + a^3 + 1,\n",
       " a^10 + a^9 + a^7 + a^5 + a^2 + a + 1,\n",
       " a^10 + a^9 + a^7 + a^5 + a^3 + a^2 + 1,\n",
       " a^10 + a^9 + a^7 + a^5 + a^4 + a^2 + 1,\n",
       " a^10 + a^9 + a^7 + a^5 + a^4 + a^3 + a^2 + a + 1,\n",
       " a^10 + a^9 + a^7 + a^6 + 1,\n",
       " a^10 + a^9 + a^7 + a^6 + a^3 + a^2 + 1,\n",
       " a^10 + a^9 + a^7 + a^6 + a^4 + a + 1,\n",
       " a^10 + a^9 + a^7 + a^6 + a^4 + a^3 + a^2 + a + 1,\n",
       " a^10 + a^9 + a^7 + a^6 + a^5 + a^4 + a^2 + a + 1,\n",
       " a^10 + a^9 + a^7 + a^6 + a^5 + a^4 + a^3 + a^2 + 1,\n",
       " a^10 + a^9 + a^8 + a^3 + a^2 + a + 1,\n",
       " a^10 + a^9 + a^8 + a^4 + 1,\n",
       " a^10 + a^9 + a^8 + a^4 + a^2 + a + 1,\n",
       " a^10 + a^9 + a^8 + a^4 + a^3 + a^2 + 1,\n",
       " a^10 + a^9 + a^8 + a^5 + 1,\n",
       " a^10 + a^9 + a^8 + a^5 + a^3 + a + 1,\n",
       " a^10 + a^9 + a^8 + a^5 + a^4 + a^2 + 1,\n",
       " a^10 + a^9 + a^8 + a^5 + a^4 + a^3 + 1,\n",
       " a^10 + a^9 + a^8 + a^6 + a^2 + a + 1,\n",
       " a^10 + a^9 + a^8 + a^6 + a^3 + a^2 + 1,\n",
       " a^10 + a^9 + a^8 + a^6 + a^4 + a^2 + 1,\n",
       " a^10 + a^9 + a^8 + a^6 + a^4 + a^3 + 1,\n",
       " a^10 + a^9 + a^8 + a^6 + a^5 + a + 1,\n",
       " a^10 + a^9 + a^8 + a^6 + a^5 + a^4 + a^3 + a + 1,\n",
       " a^10 + a^9 + a^8 + a^6 + a^5 + a^4 + a^3 + a^2 + 1,\n",
       " a^10 + a^9 + a^8 + a^7 + 1,\n",
       " a^10 + a^9 + a^8 + a^7 + a^2 + a + 1,\n",
       " a^10 + a^9 + a^8 + a^7 + a^3 + a^2 + 1,\n",
       " a^10 + a^9 + a^8 + a^7 + a^4 + a + 1,\n",
       " a^10 + a^9 + a^8 + a^7 + a^5 + a^3 + 1,\n",
       " a^10 + a^9 + a^8 + a^7 + a^5 + a^4 + 1,\n",
       " a^10 + a^9 + a^8 + a^7 + a^6 + a^2 + 1,\n",
       " a^10 + a^9 + a^8 + a^7 + a^6 + a^4 + a^3 + a + 1,\n",
       " a^10 + a^9 + a^8 + a^7 + a^6 + a^5 + a^3 + a + 1,\n",
       " a^10 + a^9 + a^8 + a^7 + a^6 + a^5 + a^4 + a + 1,\n",
       " a^10 + a^9 + a^8 + a^7 + a^6 + a^5 + a^4 + a^3 + 1,\n",
       " a^10 + a^9 + a^8 + a^7 + a^6 + a^5 + a^4 + a^3 + a^2 + a + 1]"
      ]
     },
     "execution_count": 18,
     "metadata": {},
     "output_type": "execute_result"
    }
   ],
   "source": [
    "irreducibles(10)"
   ]
  },
  {
   "cell_type": "code",
   "execution_count": null,
   "id": "561d6f9b",
   "metadata": {},
   "outputs": [],
   "source": []
  }
 ],
 "metadata": {
  "kernelspec": {
   "display_name": "SageMath 9.5",
   "language": "sage",
   "name": "sagemath"
  },
  "language_info": {
   "codemirror_mode": {
    "name": "ipython",
    "version": 3
   },
   "file_extension": ".py",
   "mimetype": "text/x-python",
   "name": "python",
   "nbconvert_exporter": "python",
   "pygments_lexer": "ipython3",
   "version": "3.10.4"
  }
 },
 "nbformat": 4,
 "nbformat_minor": 5
}
