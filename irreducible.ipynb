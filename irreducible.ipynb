{
 "cells": [
  {
   "cell_type": "code",
   "execution_count": 2,
   "id": "c5807dcf",
   "metadata": {},
   "outputs": [],
   "source": [
    "ZZ2 = FiniteField(2)"
   ]
  },
  {
   "cell_type": "code",
   "execution_count": 3,
   "id": "af217e9e",
   "metadata": {},
   "outputs": [],
   "source": [
    "PZ2.<a> = ZZ2[]"
   ]
  },
  {
   "cell_type": "code",
   "execution_count": 4,
   "id": "7cb315a0",
   "metadata": {},
   "outputs": [
    {
     "data": {
      "text/plain": [
       "Univariate Polynomial Ring in a over Finite Field of size 2 (using GF2X)"
      ]
     },
     "execution_count": 4,
     "metadata": {},
     "output_type": "execute_result"
    }
   ],
   "source": [
    "parent(a)"
   ]
  },
  {
   "cell_type": "code",
   "execution_count": 8,
   "id": "3e554e26",
   "metadata": {},
   "outputs": [],
   "source": [
    "I5 = (a^(2^5)+a).factor()"
   ]
  },
  {
   "cell_type": "code",
   "execution_count": 19,
   "id": "0d0638d7",
   "metadata": {},
   "outputs": [
    {
     "data": {
      "text/plain": [
       "[a^5 + a^2 + 1,\n",
       " a^5 + a^3 + 1,\n",
       " a^5 + a^3 + a^2 + a + 1,\n",
       " a^5 + a^4 + a^2 + a + 1,\n",
       " a^5 + a^4 + a^3 + a + 1,\n",
       " a^5 + a^4 + a^3 + a^2 + 1]"
      ]
     },
     "execution_count": 19,
     "metadata": {},
     "output_type": "execute_result"
    }
   ],
   "source": [
    "[p[0] for p in I5 if p[0].degree() == 5]"
   ]
  },
  {
   "cell_type": "code",
   "execution_count": null,
   "id": "b6e76dce",
   "metadata": {},
   "outputs": [],
   "source": []
  }
 ],
 "metadata": {
  "kernelspec": {
   "display_name": "SageMath 9.5",
   "language": "sage",
   "name": "sagemath"
  },
  "language_info": {
   "codemirror_mode": {
    "name": "ipython",
    "version": 3
   },
   "file_extension": ".py",
   "mimetype": "text/x-python",
   "name": "python",
   "nbconvert_exporter": "python",
   "pygments_lexer": "ipython3",
   "version": "3.10.4"
  }
 },
 "nbformat": 4,
 "nbformat_minor": 5
}
