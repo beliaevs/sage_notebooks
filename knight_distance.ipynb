{
 "cells": [
  {
   "cell_type": "code",
   "execution_count": 112,
   "id": "e1107f31",
   "metadata": {},
   "outputs": [],
   "source": [
    "a = np.zeros((20,20), 'int')"
   ]
  },
  {
   "cell_type": "code",
   "execution_count": 106,
   "id": "9ed79be6",
   "metadata": {},
   "outputs": [],
   "source": [
    "def generate_neighbors(pos, size):\n",
    "    res = []\n",
    "    x, y = pos\n",
    "    nx, ny = size\n",
    "    for sx, sy in [(2, 1), (2, -1), (1, 2), (1, -2), (-1, 2), (-1, -2), (-2, 1), (-2, -1)]:\n",
    "        cx, cy = x + sx, y + sy\n",
    "        if 0 <= cx < nx and 0 <= cy < ny:\n",
    "            res.append((cx, cy))\n",
    "    return res\n",
    "\n",
    "def fill_array(arr, pos):\n",
    "    x, y = pos\n",
    "    i = 1\n",
    "    s = set()\n",
    "    s.add(pos)\n",
    "    arr[x][y] = i\n",
    "    while s:\n",
    "        i += 1\n",
    "        newset = set()\n",
    "        for p in s:\n",
    "            for new in generate_neighbors(p, arr.shape):\n",
    "                nx, ny = new\n",
    "                if arr[nx][ny] == 0:\n",
    "                    arr[nx][ny] = i\n",
    "                    newset.add(new)\n",
    "        s = set(newset)"
   ]
  },
  {
   "cell_type": "code",
   "execution_count": 113,
   "id": "0c7f4bc9",
   "metadata": {},
   "outputs": [],
   "source": [
    "fill_array(a, (10, 15))"
   ]
  },
  {
   "cell_type": "code",
   "execution_count": 114,
   "id": "4fce846c",
   "metadata": {},
   "outputs": [
    {
     "data": {
      "image/png": "[encoded data removed]",
      "text/plain": [
       "Graphics object consisting of 1 graphics primitive"
      ]
     },
     "execution_count": 114,
     "metadata": {},
     "output_type": "execute_result"
    }
   ],
   "source": [
    "matrix_plot(a,  cmap='hsv')"
   ]
  },
  {
   "cell_type": "code",
   "execution_count": null,
   "id": "4e3b9bd1",
   "metadata": {},
   "outputs": [],
   "source": []
  }
 ],
 "metadata": {
  "kernelspec": {
   "display_name": "SageMath 9.5",
   "language": "sage",
   "name": "sagemath"
  },
  "language_info": {
   "codemirror_mode": {
    "name": "ipython",
    "version": 3
   },
   "file_extension": ".py",
   "mimetype": "text/x-python",
   "name": "python",
   "nbconvert_exporter": "python",
   "pygments_lexer": "ipython3",
   "version": "3.10.6"
  }
 },
 "nbformat": 4,
 "nbformat_minor": 5
}
