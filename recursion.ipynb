{
 "cells": [
  {
   "cell_type": "markdown",
   "id": "19e5e89b",
   "metadata": {},
   "source": [
    "Primitive recursion\n",
    "$$\n",
    "f(x, 0) = g(x), f(x, n+1)=h(x, n, f(x, n))\n",
    "$$"
   ]
  },
  {
   "cell_type": "code",
   "execution_count": null,
   "id": "90f46418",
   "metadata": {},
   "outputs": [],
   "source": [
    "def PrimitiveRec(g, h):\n",
    "    def f(x, n):\n",
    "        res = g(x)\n",
    "        for k in range(n):\n",
    "            res = h(x, k, res)\n",
    "        return res\n",
    "    return f"
   ]
  },
  {
   "cell_type": "code",
   "execution_count": null,
   "id": "908e69fe",
   "metadata": {},
   "outputs": [],
   "source": [
    "def h(x, y, z):\n",
    "    return x*z"
   ]
  },
  {
   "cell_type": "code",
   "execution_count": null,
   "id": "eba5ffe7",
   "metadata": {},
   "outputs": [],
   "source": [
    "def g(x):\n",
    "    return 1"
   ]
  },
  {
   "cell_type": "code",
   "execution_count": null,
   "id": "bfe0c8de",
   "metadata": {},
   "outputs": [],
   "source": [
    "f = PrimitiveRec(g, h)"
   ]
  },
  {
   "cell_type": "code",
   "execution_count": null,
   "id": "772d43a6",
   "metadata": {},
   "outputs": [],
   "source": [
    "[(f(n, m), n, m) for n in range(10) for m in range(10)]"
   ]
  },
  {
   "cell_type": "code",
   "execution_count": null,
   "id": "f8958f29",
   "metadata": {},
   "outputs": [],
   "source": [
    "for i in range(1):\n",
    "    print(i)\n",
    "    "
   ]
  },
  {
   "cell_type": "markdown",
   "id": "8e6080fe",
   "metadata": {},
   "source": [
    "$\\mu$-recursion: $$\\mu y R(x,y) = min\\{y: R(x,y)\\}$$"
   ]
  },
  {
   "cell_type": "code",
   "execution_count": null,
   "id": "568b45bc",
   "metadata": {},
   "outputs": [],
   "source": [
    "def MuRec(R):\n",
    "    def f(x):\n",
    "        y = 0\n",
    "        while not R(x,y):\n",
    "            y += 1\n",
    "        return y\n",
    "    return f\n",
    "        "
   ]
  },
  {
   "cell_type": "code",
   "execution_count": null,
   "id": "d84bc115",
   "metadata": {},
   "outputs": [],
   "source": [
    "def R(x, y):\n",
    "    return x < y"
   ]
  },
  {
   "cell_type": "code",
   "execution_count": null,
   "id": "75e5d4f9",
   "metadata": {},
   "outputs": [],
   "source": [
    "a = MuRec(R)"
   ]
  },
  {
   "cell_type": "code",
   "execution_count": null,
   "id": "f9f04854",
   "metadata": {},
   "outputs": [],
   "source": [
    "a(10)"
   ]
  },
  {
   "cell_type": "code",
   "execution_count": null,
   "id": "4110da6f",
   "metadata": {},
   "outputs": [],
   "source": []
  }
 ],
 "metadata": {
  "kernelspec": {
   "display_name": "SageMath 9.5",
   "language": "sage",
   "name": "sagemath"
  },
  "language_info": {
   "codemirror_mode": {
    "name": "ipython",
    "version": 3
   },
   "file_extension": ".py",
   "mimetype": "text/x-python",
   "name": "python",
   "nbconvert_exporter": "python",
   "pygments_lexer": "ipython3",
   "version": "3.10.4"
  }
 },
 "nbformat": 4,
 "nbformat_minor": 5
}
