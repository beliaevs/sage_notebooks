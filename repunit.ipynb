{
 "cells": [
  {
   "cell_type": "code",
   "execution_count": 6,
   "id": "c1c3d83a",
   "metadata": {},
   "outputs": [
    {
     "data": {
      "text/plain": [
       "111"
      ]
     },
     "execution_count": 6,
     "metadata": {},
     "output_type": "execute_result"
    }
   ],
   "source": [
    "gcd(10101, 111)"
   ]
  },
  {
   "cell_type": "code",
   "execution_count": 11,
   "id": "42b79e2b",
   "metadata": {},
   "outputs": [
    {
     "data": {
      "text/plain": [
       "101"
      ]
     },
     "execution_count": 11,
     "metadata": {},
     "output_type": "execute_result"
    }
   ],
   "source": [
    "gcd(1010101, 1111)"
   ]
  },
  {
   "cell_type": "code",
   "execution_count": 13,
   "id": "866ca4c1",
   "metadata": {},
   "outputs": [
    {
     "data": {
      "text/plain": [
       "11111"
      ]
     },
     "execution_count": 13,
     "metadata": {},
     "output_type": "execute_result"
    }
   ],
   "source": [
    "gcd(101010101, 11111)"
   ]
  },
  {
   "cell_type": "code",
   "execution_count": 14,
   "id": "c8cfb71b",
   "metadata": {},
   "outputs": [
    {
     "data": {
      "text/plain": [
       "10101"
      ]
     },
     "execution_count": 14,
     "metadata": {},
     "output_type": "execute_result"
    }
   ],
   "source": [
    "gcd(10101010101, 111111)"
   ]
  },
  {
   "cell_type": "code",
   "execution_count": 15,
   "id": "722de39d",
   "metadata": {},
   "outputs": [
    {
     "data": {
      "text/plain": [
       "1111111"
      ]
     },
     "execution_count": 15,
     "metadata": {},
     "output_type": "execute_result"
    }
   ],
   "source": [
    "gcd(1010101010101, 1111111)"
   ]
  },
  {
   "cell_type": "code",
   "execution_count": 17,
   "id": "a799faca",
   "metadata": {},
   "outputs": [
    {
     "data": {
      "text/plain": [
       "1"
      ]
     },
     "execution_count": 17,
     "metadata": {},
     "output_type": "execute_result"
    }
   ],
   "source": [
    "gcd(101, 11)"
   ]
  },
  {
   "cell_type": "code",
   "execution_count": 18,
   "id": "ca5b9204",
   "metadata": {},
   "outputs": [
    {
     "data": {
      "text/plain": [
       "1010101"
      ]
     },
     "execution_count": 18,
     "metadata": {},
     "output_type": "execute_result"
    }
   ],
   "source": [
    "gcd(101010101010101, 11111111)"
   ]
  },
  {
   "cell_type": "code",
   "execution_count": 19,
   "id": "ff905f36",
   "metadata": {},
   "outputs": [
    {
     "data": {
      "text/plain": [
       "111111111"
      ]
     },
     "execution_count": 19,
     "metadata": {},
     "output_type": "execute_result"
    }
   ],
   "source": [
    "gcd(10101010101010101, 111111111)"
   ]
  },
  {
   "cell_type": "code",
   "execution_count": 20,
   "id": "cfc16789",
   "metadata": {},
   "outputs": [
    {
     "data": {
      "text/plain": [
       "91"
      ]
     },
     "execution_count": 20,
     "metadata": {},
     "output_type": "execute_result"
    }
   ],
   "source": [
    "10101/111"
   ]
  },
  {
   "cell_type": "code",
   "execution_count": 21,
   "id": "e5bfc959",
   "metadata": {},
   "outputs": [
    {
     "data": {
      "text/plain": [
       "9091"
      ]
     },
     "execution_count": 21,
     "metadata": {},
     "output_type": "execute_result"
    }
   ],
   "source": [
    "101010101/11111"
   ]
  },
  {
   "cell_type": "code",
   "execution_count": 22,
   "id": "a7ce4f9d",
   "metadata": {},
   "outputs": [
    {
     "data": {
      "text/plain": [
       "909091"
      ]
     },
     "execution_count": 22,
     "metadata": {},
     "output_type": "execute_result"
    }
   ],
   "source": [
    "1010101010101/1111111"
   ]
  },
  {
   "cell_type": "code",
   "execution_count": 23,
   "id": "2634a79a",
   "metadata": {},
   "outputs": [
    {
     "data": {
      "text/plain": [
       "90909091"
      ]
     },
     "execution_count": 23,
     "metadata": {},
     "output_type": "execute_result"
    }
   ],
   "source": [
    "10101010101010101/111111111"
   ]
  },
  {
   "cell_type": "code",
   "execution_count": null,
   "id": "56c878eb",
   "metadata": {},
   "outputs": [],
   "source": []
  }
 ],
 "metadata": {
  "kernelspec": {
   "display_name": "SageMath 9.5",
   "language": "sage",
   "name": "sagemath"
  },
  "language_info": {
   "codemirror_mode": {
    "name": "ipython",
    "version": 3
   },
   "file_extension": ".py",
   "mimetype": "text/x-python",
   "name": "python",
   "nbconvert_exporter": "python",
   "pygments_lexer": "ipython3",
   "version": "3.10.4"
  }
 },
 "nbformat": 4,
 "nbformat_minor": 5
}
