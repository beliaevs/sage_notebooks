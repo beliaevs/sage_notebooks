{
 "cells": [
  {
   "cell_type": "code",
   "execution_count": null,
   "id": "7d0ee96f-ae27-4a0a-b024-b706309c554a",
   "metadata": {},
   "outputs": [],
   "source": [
    "def triangle_wave(x):\n",
    "    return 2*abs(frac(0.5*x-0.5)-0.5)"
   ]
  },
  {
   "cell_type": "code",
   "execution_count": null,
   "id": "fba6b10c-ab35-4f4c-a841-dae1bdef309c",
   "metadata": {},
   "outputs": [],
   "source": [
    "plot(triangle_wave(x), [x, -2, 2])"
   ]
  },
  {
   "cell_type": "code",
   "execution_count": null,
   "id": "fd0360d9-bd71-4d2f-8d8a-e9fab89c8eb9",
   "metadata": {},
   "outputs": [],
   "source": [
    "plot([triangle_wave(x), triangle_wave(2*x), triangle_wave(4*x), triangle_wave(8*x)], [x, 0, 2])"
   ]
  },
  {
   "cell_type": "code",
   "execution_count": null,
   "id": "039950f4-aa02-4610-b971-c0a5c8e74732",
   "metadata": {},
   "outputs": [],
   "source": []
  }
 ],
 "metadata": {
  "kernelspec": {
   "display_name": "SageMath 10.6",
   "language": "sage",
   "name": "sagemath"
  },
  "language_info": {
   "codemirror_mode": {
    "name": "ipython",
    "version": 3
   },
   "file_extension": ".py",
   "mimetype": "text/x-python",
   "name": "sage",
   "nbconvert_exporter": "python",
   "pygments_lexer": "ipython3",
   "version": "3.11.11"
  }
 },
 "nbformat": 4,
 "nbformat_minor": 5
}
