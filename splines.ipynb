{
 "cells": [
  {
   "cell_type": "code",
   "execution_count": null,
   "id": "b1294d74",
   "metadata": {},
   "outputs": [],
   "source": [
    "numPoints = 30"
   ]
  },
  {
   "cell_type": "code",
   "execution_count": null,
   "id": "b0f3b82b",
   "metadata": {},
   "outputs": [],
   "source": [
    "nodes = [vector([N(cos(2.0*pi/numPoints*k)), N(sin(2.0*pi/numPoints*k))]) for k in range(numPoints)]"
   ]
  },
  {
   "cell_type": "code",
   "execution_count": null,
   "id": "e068aea0",
   "metadata": {},
   "outputs": [],
   "source": [
    "def calculateBernstein(ps, t):\n",
    "    points = ps[:]\n",
    "    iterations = len(points)\n",
    "    for count in range(1, iterations):\n",
    "        for k in range(iterations - count):\n",
    "            points[k] = (1-t) * points[k] + t * points[k+1]\n",
    "    return points[0]"
   ]
  },
  {
   "cell_type": "code",
   "execution_count": null,
   "id": "faa901b4",
   "metadata": {},
   "outputs": [],
   "source": [
    "nodes"
   ]
  },
  {
   "cell_type": "code",
   "execution_count": null,
   "id": "aea9a120",
   "metadata": {},
   "outputs": [],
   "source": [
    "import numpy as np"
   ]
  },
  {
   "cell_type": "code",
   "execution_count": null,
   "id": "5c40ddc5",
   "metadata": {},
   "outputs": [],
   "source": [
    "list_plot([calculateBernstein(nodes, t) for t in np.linspace(0, 1, 100)], plotjoined=True, aspect_ratio=1) + list_plot(nodes, color = 'red')"
   ]
  },
  {
   "cell_type": "code",
   "execution_count": null,
   "id": "8a443641",
   "metadata": {},
   "outputs": [],
   "source": []
  }
 ],
 "metadata": {
  "kernelspec": {
   "display_name": "SageMath 9.5",
   "language": "sage",
   "name": "sagemath"
  },
  "language_info": {
   "codemirror_mode": {
    "name": "ipython",
    "version": 3
   },
   "file_extension": ".py",
   "mimetype": "text/x-python",
   "name": "python",
   "nbconvert_exporter": "python",
   "pygments_lexer": "ipython3",
   "version": "3.10.6"
  }
 },
 "nbformat": 4,
 "nbformat_minor": 5
}
