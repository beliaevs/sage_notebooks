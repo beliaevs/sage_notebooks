{
 "cells": [
  {
   "cell_type": "code",
   "execution_count": 12,
   "id": "a21ecf8b",
   "metadata": {},
   "outputs": [],
   "source": [
    "PX = PolynomialRing(QQ, 'x', 2)"
   ]
  },
  {
   "cell_type": "code",
   "execution_count": 13,
   "id": "bd786051",
   "metadata": {},
   "outputs": [],
   "source": [
    "x = PX.gens()"
   ]
  },
  {
   "cell_type": "code",
   "execution_count": 14,
   "id": "894c5dc8",
   "metadata": {},
   "outputs": [
    {
     "data": {
      "text/plain": [
       "(x0, x1)"
      ]
     },
     "execution_count": 14,
     "metadata": {},
     "output_type": "execute_result"
    }
   ],
   "source": [
    "x"
   ]
  },
  {
   "cell_type": "code",
   "execution_count": 15,
   "id": "4a7759f2",
   "metadata": {},
   "outputs": [],
   "source": [
    "PXPY = PolynomialRing(PX, 'y', 2)"
   ]
  },
  {
   "cell_type": "code",
   "execution_count": 16,
   "id": "de73b207",
   "metadata": {},
   "outputs": [],
   "source": [
    "y = PXPY.gens()"
   ]
  },
  {
   "cell_type": "code",
   "execution_count": 17,
   "id": "e892651b",
   "metadata": {},
   "outputs": [
    {
     "data": {
      "text/plain": [
       "(y0, y1)"
      ]
     },
     "execution_count": 17,
     "metadata": {},
     "output_type": "execute_result"
    }
   ],
   "source": [
    "y"
   ]
  },
  {
   "cell_type": "code",
   "execution_count": 18,
   "id": "d41072c2",
   "metadata": {},
   "outputs": [
    {
     "data": {
      "text/plain": [
       "Multivariate Polynomial Ring in y0, y1 over Multivariate Polynomial Ring in x0, x1 over Rational Field"
      ]
     },
     "execution_count": 18,
     "metadata": {},
     "output_type": "execute_result"
    }
   ],
   "source": [
    "PXPY"
   ]
  },
  {
   "cell_type": "code",
   "execution_count": 19,
   "id": "c6747fc9",
   "metadata": {},
   "outputs": [],
   "source": [
    "T.<X>=PXPY[]"
   ]
  },
  {
   "cell_type": "code",
   "execution_count": 20,
   "id": "ac613084",
   "metadata": {},
   "outputs": [],
   "source": [
    "p=(X-x[0]-y[0])*(X-x[0]-y[1])*(X-x[1]-y[0])*(X-x[1]-y[1])"
   ]
  },
  {
   "cell_type": "code",
   "execution_count": 21,
   "id": "4c985e8f",
   "metadata": {},
   "outputs": [
    {
     "data": {
      "text/plain": [
       "X^4 + ((-2)*y0 + (-2)*y1 - 2*x0 - 2*x1)*X^3 + (y0^2 + 4*y0*y1 + y1^2 + (3*x0 + 3*x1)*y0 + (3*x0 + 3*x1)*y1 + x0^2 + 4*x0*x1 + x1^2)*X^2 + ((-2)*y0^2*y1 + (-2)*y0*y1^2 + (-x0 - x1)*y0^2 + (-4*x0 - 4*x1)*y0*y1 + (-x0 - x1)*y1^2 + (-x0^2 - 4*x0*x1 - x1^2)*y0 + (-x0^2 - 4*x0*x1 - x1^2)*y1 - 2*x0^2*x1 - 2*x0*x1^2)*X + y0^2*y1^2 + (x0 + x1)*y0^2*y1 + (x0 + x1)*y0*y1^2 + x0*x1*y0^2 + (x0^2 + 2*x0*x1 + x1^2)*y0*y1 + x0*x1*y1^2 + (x0^2*x1 + x0*x1^2)*y0 + (x0^2*x1 + x0*x1^2)*y1 + x0^2*x1^2"
      ]
     },
     "execution_count": 21,
     "metadata": {},
     "output_type": "execute_result"
    }
   ],
   "source": [
    "p"
   ]
  },
  {
   "cell_type": "code",
   "execution_count": 31,
   "id": "1afb1cb8",
   "metadata": {},
   "outputs": [],
   "source": [
    "SXSY=SymmetricFunctions(PX).elementary()"
   ]
  },
  {
   "cell_type": "code",
   "execution_count": 32,
   "id": "35823a2e",
   "metadata": {},
   "outputs": [],
   "source": [
    "a0 = SXSY.from_polynomial(p[0])"
   ]
  },
  {
   "cell_type": "code",
   "execution_count": 33,
   "id": "353307ab",
   "metadata": {},
   "outputs": [
    {
     "data": {
      "text/plain": [
       "x0^2*x1^2*e[] + (x0^2*x1+x0*x1^2)*e[1] + x0*x1*e[1, 1] + (x0^2+x1^2)*e[2] + (x0+x1)*e[2, 1] + e[2, 2] + (-3*x0-3*x1)*e[3] - 2*e[3, 1] + 2*e[4]"
      ]
     },
     "execution_count": 33,
     "metadata": {},
     "output_type": "execute_result"
    }
   ],
   "source": [
    "a0"
   ]
  },
  {
   "cell_type": "code",
   "execution_count": 30,
   "id": "d1989c91",
   "metadata": {},
   "outputs": [],
   "source": [
    "SX = SymmetricFunctions(QQ)"
   ]
  },
  {
   "cell_type": "code",
   "execution_count": null,
   "id": "6d1b2aae",
   "metadata": {},
   "outputs": [],
   "source": []
  }
 ],
 "metadata": {
  "kernelspec": {
   "display_name": "SageMath 9.5",
   "language": "sage",
   "name": "sagemath"
  },
  "language_info": {
   "codemirror_mode": {
    "name": "ipython",
    "version": 3
   },
   "file_extension": ".py",
   "mimetype": "text/x-python",
   "name": "python",
   "nbconvert_exporter": "python",
   "pygments_lexer": "ipython3",
   "version": "3.10.6"
  }
 },
 "nbformat": 4,
 "nbformat_minor": 5
}
