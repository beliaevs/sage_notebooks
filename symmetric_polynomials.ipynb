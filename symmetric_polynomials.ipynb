{
 "cells": [
  {
   "cell_type": "code",
   "execution_count": 1,
   "id": "f68e3856",
   "metadata": {},
   "outputs": [],
   "source": [
    "S = SymmetricFunctions(QQ)"
   ]
  },
  {
   "cell_type": "code",
   "execution_count": 2,
   "id": "38d1aba2",
   "metadata": {},
   "outputs": [
    {
     "name": "stdout",
     "output_type": "stream",
     "text": [
      "Defining e as shorthand for Symmetric Functions over Rational Field in the elementary basis\n",
      "Defining f as shorthand for Symmetric Functions over Rational Field in the forgotten basis\n",
      "Defining h as shorthand for Symmetric Functions over Rational Field in the homogeneous basis\n",
      "Defining m as shorthand for Symmetric Functions over Rational Field in the monomial basis\n",
      "Defining p as shorthand for Symmetric Functions over Rational Field in the powersum basis\n",
      "Defining s as shorthand for Symmetric Functions over Rational Field in the Schur basis\n"
     ]
    }
   ],
   "source": [
    "S.inject_shorthands()"
   ]
  },
  {
   "cell_type": "code",
   "execution_count": 3,
   "id": "65b47384",
   "metadata": {},
   "outputs": [],
   "source": [
    "P2 = PolynomialRing(QQ, 'x', 2)"
   ]
  },
  {
   "cell_type": "code",
   "execution_count": 4,
   "id": "648d5e1d",
   "metadata": {},
   "outputs": [],
   "source": [
    "x = P2.gens()"
   ]
  },
  {
   "cell_type": "code",
   "execution_count": 6,
   "id": "dc47b4f9",
   "metadata": {},
   "outputs": [],
   "source": [
    "f = x[0]^2+x[1]^2"
   ]
  },
  {
   "cell_type": "code",
   "execution_count": 7,
   "id": "6f8e977d",
   "metadata": {},
   "outputs": [],
   "source": [
    "fs = S.from_polynomial(f)"
   ]
  },
  {
   "cell_type": "code",
   "execution_count": 8,
   "id": "198c53fe",
   "metadata": {},
   "outputs": [
    {
     "data": {
      "text/plain": [
       "m[2]"
      ]
     },
     "execution_count": 8,
     "metadata": {},
     "output_type": "execute_result"
    }
   ],
   "source": [
    "fs"
   ]
  },
  {
   "cell_type": "code",
   "execution_count": 9,
   "id": "8d3ef04b",
   "metadata": {},
   "outputs": [
    {
     "data": {
      "text/plain": [
       "e[1, 1] - 2*e[2]"
      ]
     },
     "execution_count": 9,
     "metadata": {},
     "output_type": "execute_result"
    }
   ],
   "source": [
    "e(fs)"
   ]
  },
  {
   "cell_type": "code",
   "execution_count": 10,
   "id": "a3173a5c",
   "metadata": {},
   "outputs": [
    {
     "data": {
      "text/plain": [
       "x0^2 + 2*x0*x1 + x1^2"
      ]
     },
     "execution_count": 10,
     "metadata": {},
     "output_type": "execute_result"
    }
   ],
   "source": [
    "e[1, 1].expand(2)"
   ]
  },
  {
   "cell_type": "code",
   "execution_count": 11,
   "id": "063e6eb3",
   "metadata": {},
   "outputs": [
    {
     "data": {
      "text/plain": [
       "x0*x1"
      ]
     },
     "execution_count": 11,
     "metadata": {},
     "output_type": "execute_result"
    }
   ],
   "source": [
    "e[2].expand(2)"
   ]
  },
  {
   "cell_type": "code",
   "execution_count": 12,
   "id": "765e0c90",
   "metadata": {},
   "outputs": [
    {
     "data": {
      "text/plain": [
       "x0*x1 + x0*x2 + x1*x2"
      ]
     },
     "execution_count": 12,
     "metadata": {},
     "output_type": "execute_result"
    }
   ],
   "source": [
    "e[2].expand(3)"
   ]
  },
  {
   "cell_type": "code",
   "execution_count": 13,
   "id": "e781568d",
   "metadata": {},
   "outputs": [
    {
     "data": {
      "text/plain": [
       "x0^2 + 2*x0*x1 + x1^2 + 2*x0*x2 + 2*x1*x2 + x2^2"
      ]
     },
     "execution_count": 13,
     "metadata": {},
     "output_type": "execute_result"
    }
   ],
   "source": [
    "e[1, 1].expand(3)"
   ]
  },
  {
   "cell_type": "code",
   "execution_count": 17,
   "id": "1abf1f20",
   "metadata": {},
   "outputs": [
    {
     "data": {
      "text/plain": [
       "e[1, 1]"
      ]
     },
     "execution_count": 17,
     "metadata": {},
     "output_type": "execute_result"
    }
   ],
   "source": [
    "e[1]*e[1]"
   ]
  },
  {
   "cell_type": "code",
   "execution_count": null,
   "id": "9e209625",
   "metadata": {},
   "outputs": [],
   "source": []
  }
 ],
 "metadata": {
  "kernelspec": {
   "display_name": "SageMath 9.5",
   "language": "sage",
   "name": "sagemath"
  },
  "language_info": {
   "codemirror_mode": {
    "name": "ipython",
    "version": 3
   },
   "file_extension": ".py",
   "mimetype": "text/x-python",
   "name": "python",
   "nbconvert_exporter": "python",
   "pygments_lexer": "ipython3",
   "version": "3.10.6"
  }
 },
 "nbformat": 4,
 "nbformat_minor": 5
}
