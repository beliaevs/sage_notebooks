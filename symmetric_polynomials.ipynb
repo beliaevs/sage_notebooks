{
 "cells": [
  {
   "cell_type": "code",
   "execution_count": null,
   "id": "45c268de",
   "metadata": {},
   "outputs": [],
   "source": [
    "x1, x2, x3, x4 = var('x1 x2 x3 x4')"
   ]
  },
  {
   "cell_type": "code",
   "execution_count": null,
   "id": "99bd5bf3",
   "metadata": {},
   "outputs": [],
   "source": [
    "p = (x1+x2-x3-x4)*(x1+x3-x2-x4)*(x1+x4-x2-x3)"
   ]
  },
  {
   "cell_type": "code",
   "execution_count": null,
   "id": "45015508",
   "metadata": {},
   "outputs": [],
   "source": [
    "p.expand()"
   ]
  },
  {
   "cell_type": "code",
   "execution_count": null,
   "id": "04a444bc",
   "metadata": {},
   "outputs": [],
   "source": [
    "s1 = x1+x2+x3"
   ]
  },
  {
   "cell_type": "code",
   "execution_count": null,
   "id": "31525168",
   "metadata": {},
   "outputs": [],
   "source": [
    "s2=x1*x2+x1*x3+x2*x3"
   ]
  },
  {
   "cell_type": "code",
   "execution_count": null,
   "id": "038d6c3a",
   "metadata": {},
   "outputs": [],
   "source": [
    "s3=x1*x2*x3"
   ]
  },
  {
   "cell_type": "code",
   "execution_count": null,
   "id": "2102916c",
   "metadata": {},
   "outputs": [],
   "source": [
    "t = p-s1^3"
   ]
  },
  {
   "cell_type": "code",
   "execution_count": null,
   "id": "de91315e",
   "metadata": {},
   "outputs": [],
   "source": [
    "t.expand()"
   ]
  },
  {
   "cell_type": "code",
   "execution_count": null,
   "id": "772b8d65",
   "metadata": {},
   "outputs": [],
   "source": [
    "s1=x1+x2+x3+x4"
   ]
  },
  {
   "cell_type": "code",
   "execution_count": null,
   "id": "9108ff6d",
   "metadata": {},
   "outputs": [],
   "source": [
    "s2=x1*x2+x1*x3+x1*x4+x2*x3+x2*x4+x3*x4"
   ]
  },
  {
   "cell_type": "code",
   "execution_count": null,
   "id": "e38ad938",
   "metadata": {},
   "outputs": [],
   "source": [
    "s3=x1*x2*x3+x1*x2*x4+x1*x3*x4+x2*x3*x4"
   ]
  },
  {
   "cell_type": "code",
   "execution_count": null,
   "id": "6b21081f",
   "metadata": {},
   "outputs": [],
   "source": [
    "s4=x1*x2*x3*x4"
   ]
  },
  {
   "cell_type": "code",
   "execution_count": null,
   "id": "bcb810a9",
   "metadata": {},
   "outputs": [],
   "source": [
    "t = p - s1^3"
   ]
  },
  {
   "cell_type": "code",
   "execution_count": null,
   "id": "0bedeff6",
   "metadata": {},
   "outputs": [],
   "source": [
    "t.expand()"
   ]
  },
  {
   "cell_type": "code",
   "execution_count": null,
   "id": "2501902f",
   "metadata": {},
   "outputs": [],
   "source": [
    "t = t + 4*s1*s2"
   ]
  },
  {
   "cell_type": "code",
   "execution_count": null,
   "id": "420fbb04",
   "metadata": {},
   "outputs": [],
   "source": [
    "t.expand()"
   ]
  },
  {
   "cell_type": "code",
   "execution_count": null,
   "id": "d2f4e751",
   "metadata": {},
   "outputs": [],
   "source": [
    "(p - (s1^3-4*s1*s2+8*s3)).expand()"
   ]
  },
  {
   "cell_type": "code",
   "execution_count": null,
   "id": "f00ba209",
   "metadata": {},
   "outputs": [],
   "source": []
  }
 ],
 "metadata": {
  "kernelspec": {
   "display_name": "SageMath 9.5",
   "language": "sage",
   "name": "sagemath"
  },
  "language_info": {
   "codemirror_mode": {
    "name": "ipython",
    "version": 3
   },
   "file_extension": ".py",
   "mimetype": "text/x-python",
   "name": "python",
   "nbconvert_exporter": "python",
   "pygments_lexer": "ipython3",
   "version": "3.10.6"
  }
 },
 "nbformat": 4,
 "nbformat_minor": 5
}
