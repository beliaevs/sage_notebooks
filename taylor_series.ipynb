{
 "cells": [
  {
   "cell_type": "code",
   "execution_count": 1,
   "id": "6be16ac2",
   "metadata": {},
   "outputs": [
    {
     "name": "stdout",
     "output_type": "stream",
     "text": [
      "Help on function taylor in module sage.calculus.functional:\n",
      "\n",
      "taylor(f, *args)\n",
      "    Expands self in a truncated Taylor or Laurent series in the\n",
      "    variable `v` around the point `a`, containing terms\n",
      "    through `(x - a)^n`. Functions in more variables are also\n",
      "    supported.\n",
      "    \n",
      "    INPUT:\n",
      "    \n",
      "    - ``*args`` - the following notation is supported\n",
      "    \n",
      "    - ``x, a, n`` - variable, point, degree\n",
      "    \n",
      "    - ``(x, a), (y, b), ..., n`` - variables with points, degree of polynomial\n",
      "    \n",
      "    EXAMPLES::\n",
      "    \n",
      "        sage: var('x,k,n')\n",
      "        (x, k, n)\n",
      "        sage: taylor (sqrt (1 - k^2*sin(x)^2), x, 0, 6)\n",
      "        -1/720*(45*k^6 - 60*k^4 + 16*k^2)*x^6 - 1/24*(3*k^4 - 4*k^2)*x^4 - 1/2*k^2*x^2 + 1\n",
      "    \n",
      "    ::\n",
      "    \n",
      "        sage: taylor ((x + 1)^n, x, 0, 4)\n",
      "        1/24*(n^4 - 6*n^3 + 11*n^2 - 6*n)*x^4 + 1/6*(n^3 - 3*n^2 + 2*n)*x^3 + 1/2*(n^2 - n)*x^2 + n*x + 1\n",
      "    \n",
      "    ::\n",
      "    \n",
      "        sage: taylor ((x + 1)^n, x, 0, 4)\n",
      "        1/24*(n^4 - 6*n^3 + 11*n^2 - 6*n)*x^4 + 1/6*(n^3 - 3*n^2 + 2*n)*x^3 + 1/2*(n^2 - n)*x^2 + n*x + 1\n",
      "    \n",
      "    Taylor polynomial in two variables::\n",
      "    \n",
      "        sage: x,y=var('x y'); taylor(x*y^3,(x,1),(y,-1),4)\n",
      "        (x - 1)*(y + 1)^3 - 3*(x - 1)*(y + 1)^2 + (y + 1)^3 + 3*(x - 1)*(y + 1) - 3*(y + 1)^2 - x + 3*y + 3\n",
      "\n"
     ]
    }
   ],
   "source": [
    "help(taylor)"
   ]
  },
  {
   "cell_type": "code",
   "execution_count": 3,
   "id": "e6f94655",
   "metadata": {},
   "outputs": [
    {
     "data": {
      "text/plain": [
       "-5/128*x^4 + 1/16*x^3 - 1/8*x^2 + 1/2*x + 1"
      ]
     },
     "execution_count": 3,
     "metadata": {},
     "output_type": "execute_result"
    }
   ],
   "source": [
    "taylor(sqrt(1+x), x, 0, 4)"
   ]
  },
  {
   "cell_type": "code",
   "execution_count": 4,
   "id": "b744388e",
   "metadata": {},
   "outputs": [
    {
     "data": {
      "image/png": "[encoded data removed]",
      "text/plain": [
       "Graphics object consisting of 2 graphics primitives"
      ]
     },
     "execution_count": 4,
     "metadata": {},
     "output_type": "execute_result"
    }
   ],
   "source": [
    "plot([sqrt(1+x), 1+1/2*x-1/8*x^2], [x, -1, 1])"
   ]
  },
  {
   "cell_type": "code",
   "execution_count": 1,
   "id": "361011b9",
   "metadata": {},
   "outputs": [
    {
     "data": {
      "text/plain": [
       "1/16*x^3 - 1/8*x^2 + 1/2*x + 1"
      ]
     },
     "execution_count": 1,
     "metadata": {},
     "output_type": "execute_result"
    }
   ],
   "source": [
    "sqrt(1+x).taylor(x, 0, 3)"
   ]
  },
  {
   "cell_type": "code",
   "execution_count": 4,
   "id": "a06e49ec",
   "metadata": {},
   "outputs": [],
   "source": [
    "s = sin(x).series(x, 7)"
   ]
  },
  {
   "cell_type": "code",
   "execution_count": 7,
   "id": "94279555",
   "metadata": {},
   "outputs": [
    {
     "data": {
      "text/plain": [
       "<class 'sage.symbolic.expression.SymbolicSeries'>"
      ]
     },
     "execution_count": 7,
     "metadata": {},
     "output_type": "execute_result"
    }
   ],
   "source": [
    "type(s)"
   ]
  },
  {
   "cell_type": "code",
   "execution_count": 8,
   "id": "d8365fb1",
   "metadata": {},
   "outputs": [],
   "source": [
    "R.<w>=QQ[[]]"
   ]
  },
  {
   "cell_type": "code",
   "execution_count": 9,
   "id": "be970661",
   "metadata": {},
   "outputs": [
    {
     "data": {
      "text/plain": [
       "1 + 1/2*w - 1/8*w^2 + 1/16*w^3 - 5/128*w^4 + 7/256*w^5 - 21/1024*w^6 + 33/2048*w^7 - 429/32768*w^8 + 715/65536*w^9 - 2431/262144*w^10 + 4199/524288*w^11 - 29393/4194304*w^12 + 52003/8388608*w^13 - 185725/33554432*w^14 + 334305/67108864*w^15 - 9694845/2147483648*w^16 + 17678835/4294967296*w^17 - 64822395/17179869184*w^18 + 119409675/34359738368*w^19 + O(w^20)"
      ]
     },
     "execution_count": 9,
     "metadata": {},
     "output_type": "execute_result"
    }
   ],
   "source": [
    "(1+w).sqrt()"
   ]
  },
  {
   "cell_type": "code",
   "execution_count": 11,
   "id": "43b4c836",
   "metadata": {},
   "outputs": [
    {
     "data": {
      "text/plain": [
       "1 + w - 33/1024*w^7 + 165/16384*w^8 - 77/16384*w^9 + 77/32768*w^10 - 147/131072*w^11 + 441/1048576*w^12"
      ]
     },
     "execution_count": 11,
     "metadata": {},
     "output_type": "execute_result"
    }
   ],
   "source": [
    "(1 + 1/2*w - 1/8*w^2 + 1/16*w^3 - 5/128*w^4 + 7/256*w^5 - 21/1024*w^6)^2"
   ]
  },
  {
   "cell_type": "code",
   "execution_count": null,
   "id": "3ba4cc11",
   "metadata": {},
   "outputs": [],
   "source": []
  }
 ],
 "metadata": {
  "kernelspec": {
   "display_name": "SageMath 9.5",
   "language": "sage",
   "name": "sagemath"
  },
  "language_info": {
   "codemirror_mode": {
    "name": "ipython",
    "version": 3
   },
   "file_extension": ".py",
   "mimetype": "text/x-python",
   "name": "python",
   "nbconvert_exporter": "python",
   "pygments_lexer": "ipython3",
   "version": "3.10.6"
  }
 },
 "nbformat": 4,
 "nbformat_minor": 5
}
