{
 "cells": [
  {
   "cell_type": "markdown",
   "id": "2aef0e01",
   "metadata": {},
   "source": [
    "$\\{\\sin nx\\}_{n=1}^\\infty$ sequence does not contain any pointwise converging subsequence.\n",
    "The sequence is discrete with respect to $L^1 [-\\pi,\\pi]$ and $L^2 [-\\pi,\\pi]$ distances. \n",
    "The latter is valid for almost-everywhere convergence."
   ]
  },
  {
   "cell_type": "code",
   "execution_count": null,
   "id": "6e3ca71b",
   "metadata": {},
   "outputs": [],
   "source": [
    "plot([sin(10*x)-sin(11*x), 2*sin(0.5*x)], [x, -pi, pi])"
   ]
  },
  {
   "cell_type": "code",
   "execution_count": null,
   "id": "76e77a3b",
   "metadata": {},
   "outputs": [],
   "source": [
    "(abs(sin(10*x)-sin(11*x))).nintegrate(x, -pi, pi)"
   ]
  },
  {
   "cell_type": "code",
   "execution_count": null,
   "id": "1ce16d7f",
   "metadata": {},
   "outputs": [],
   "source": [
    "list_plot([numerical_integral(abs(sin(10*x) - sin(n*x)),-pi, pi)[0] for n in range(11, 100)])"
   ]
  },
  {
   "cell_type": "code",
   "execution_count": null,
   "id": "3da97d84",
   "metadata": {},
   "outputs": [],
   "source": [
    "list_plot([numerical_integral(abs(sin(5*x) - sin(n*x)),-pi, pi)[0] for n in range(6, 100)])"
   ]
  },
  {
   "cell_type": "code",
   "execution_count": null,
   "id": "5c772f12",
   "metadata": {},
   "outputs": [],
   "source": []
  }
 ],
 "metadata": {
  "kernelspec": {
   "display_name": "SageMath 9.5",
   "language": "sage",
   "name": "sagemath"
  },
  "language_info": {
   "codemirror_mode": {
    "name": "ipython",
    "version": 3
   },
   "file_extension": ".py",
   "mimetype": "text/x-python",
   "name": "python",
   "nbconvert_exporter": "python",
   "pygments_lexer": "ipython3",
   "version": "3.10.4"
  }
 },
 "nbformat": 4,
 "nbformat_minor": 5
}
